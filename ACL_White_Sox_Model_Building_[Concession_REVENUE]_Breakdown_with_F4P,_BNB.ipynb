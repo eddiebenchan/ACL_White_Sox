{
  "nbformat": 4,
  "nbformat_minor": 0,
  "metadata": {
    "colab": {
      "name": "ACL White Sox Model Building [Concession REVENUE] - Breakdown with F4P, BNB",
      "provenance": [],
      "collapsed_sections": [],
      "authorship_tag": "ABX9TyNwLqPATDjG06M7a/Yjyu6J",
      "include_colab_link": true
    },
    "kernelspec": {
      "name": "python3",
      "display_name": "Python 3"
    }
  },
  "cells": [
    {
      "cell_type": "markdown",
      "metadata": {
        "id": "view-in-github",
        "colab_type": "text"
      },
      "source": [
        "<a href=\"https://colab.research.google.com/github/eddiebenchan/ACL_White_Sox/blob/master/ACL_White_Sox_Model_Building_%5BConcession_REVENUE%5D_Breakdown_with_F4P%2C_BNB.ipynb\" target=\"_parent\"><img src=\"https://colab.research.google.com/assets/colab-badge.svg\" alt=\"Open In Colab\"/></a>"
      ]
    },
    {
      "cell_type": "code",
      "metadata": {
        "id": "lF-EUNwNzdfO",
        "colab_type": "code",
        "outputId": "c20a5168-f73c-417e-94bc-becfbc69880f",
        "colab": {
          "base_uri": "https://localhost:8080/",
          "height": 52
        }
      },
      "source": [
        "##imports\n",
        "import pandas as pd\n",
        "from google.colab import files\n",
        "import io\n",
        "import numpy as np\n",
        "import seaborn as sns\n",
        "import matplotlib.pyplot as plt"
      ],
      "execution_count": 0,
      "outputs": [
        {
          "output_type": "stream",
          "text": [
            "/usr/local/lib/python3.6/dist-packages/statsmodels/tools/_testing.py:19: FutureWarning: pandas.util.testing is deprecated. Use the functions in the public API at pandas.testing instead.\n",
            "  import pandas.util.testing as tm\n"
          ],
          "name": "stderr"
        }
      ]
    },
    {
      "cell_type": "code",
      "metadata": {
        "id": "0Ykplx01PCk-",
        "colab_type": "code",
        "outputId": "d175a925-9da8-48f0-e57a-10b1859dc9e8",
        "colab": {
          "resources": {
            "http://localhost:8080/nbextensions/google.colab/files.js": {
              "data": "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",
              "ok": true,
              "headers": [
                [
                  "content-type",
                  "application/javascript"
                ]
              ],
              "status": 200,
              "status_text": ""
            }
          },
          "base_uri": "https://localhost:8080/",
          "height": 214
        }
      },
      "source": [
        "##add the csvs \n",
        "uploaded = files.upload()"
      ],
      "execution_count": 0,
      "outputs": [
        {
          "output_type": "display_data",
          "data": {
            "text/html": [
              "\n",
              "     <input type=\"file\" id=\"files-27744bb1-7ca6-43d7-8d53-274a630b460f\" name=\"files[]\" multiple disabled />\n",
              "     <output id=\"result-27744bb1-7ca6-43d7-8d53-274a630b460f\">\n",
              "      Upload widget is only available when the cell has been executed in the\n",
              "      current browser session. Please rerun this cell to enable.\n",
              "      </output>\n",
              "      <script src=\"/nbextensions/google.colab/files.js\"></script> "
            ],
            "text/plain": [
              "<IPython.core.display.HTML object>"
            ]
          },
          "metadata": {
            "tags": []
          }
        },
        {
          "output_type": "stream",
          "text": [
            "Saving B&B and F4P Data_Eddie.csv to B&B and F4P Data_Eddie.csv\n",
            "Saving Chicago_weather.csv to Chicago_weather.csv\n",
            "Saving White Sox Attendance by game 2016-2019.csv to White Sox Attendance by game 2016-2019.csv\n",
            "Saving White Sox Promotions 2016-2019.csv to White Sox Promotions 2016-2019.csv\n",
            "Saving White Sox Records.csv to White Sox Records.csv\n"
          ],
          "name": "stdout"
        }
      ]
    },
    {
      "cell_type": "code",
      "metadata": {
        "id": "_YNDyL5x1hFb",
        "colab_type": "code",
        "outputId": "dc944478-1166-443b-a0a9-e2621da6b743",
        "colab": {
          "base_uri": "https://localhost:8080/",
          "height": 124
        }
      },
      "source": [
        "from google.colab import drive\n",
        "drive.mount('/content/gdrive')"
      ],
      "execution_count": 0,
      "outputs": [
        {
          "output_type": "stream",
          "text": [
            "Go to this URL in a browser: https://accounts.google.com/o/oauth2/auth?client_id=947318989803-6bn6qk8qdgf4n4g3pfee6491hc0brc4i.apps.googleusercontent.com&redirect_uri=urn%3aietf%3awg%3aoauth%3a2.0%3aoob&response_type=code&scope=email%20https%3a%2f%2fwww.googleapis.com%2fauth%2fdocs.test%20https%3a%2f%2fwww.googleapis.com%2fauth%2fdrive%20https%3a%2f%2fwww.googleapis.com%2fauth%2fdrive.photos.readonly%20https%3a%2f%2fwww.googleapis.com%2fauth%2fpeopleapi.readonly\n",
            "\n",
            "Enter your authorization code:\n",
            "··········\n",
            "Mounted at /content/gdrive\n"
          ],
          "name": "stdout"
        }
      ]
    },
    {
      "cell_type": "code",
      "metadata": {
        "id": "7ZcnLNQePWlb",
        "colab_type": "code",
        "outputId": "9bd794e3-8e82-4261-c682-12833482598f",
        "colab": {
          "base_uri": "https://localhost:8080/",
          "height": 121
        }
      },
      "source": [
        "## save to pandas\n",
        "bnb_f4p = pd.read_csv(io.StringIO(uploaded['B&B and F4P Data_Eddie.csv'].decode('utf-8')))\n",
        "attendance_2016_2019 = pd.read_csv(io.StringIO(uploaded['White Sox Attendance by game 2016-2019.csv'].decode('utf-8')))\n",
        "promo_2016_2019 = pd.read_csv(io.StringIO(uploaded['White Sox Promotions 2016-2019.csv'].decode('utf-8')))\n",
        "rev_2016 = pd.read_csv(\"/content/gdrive/My Drive/ACL Data/FoodRetailDetail2016v2.csv\")\n",
        "rev_2017 = pd.read_csv(\"/content/gdrive/My Drive/ACL Data/FoodRetailDetail2017v2.csv\")\n",
        "rev_2018 = pd.read_csv(\"/content/gdrive/My Drive/ACL Data/FoodRetailDetail2018.csv\")\n",
        "rev_2019 = pd.read_csv(\"/content/gdrive/My Drive/ACL Data/FoodRetailDetail2019.csv\")\n",
        "records = pd.read_csv(io.StringIO(uploaded['White Sox Records.csv'].decode('utf-8')))\n",
        "weather = pd.read_csv(io.StringIO(uploaded['Chicago_weather.csv'].decode('utf-8')))\n",
        "\n",
        "\n"
      ],
      "execution_count": 0,
      "outputs": [
        {
          "output_type": "stream",
          "text": [
            "/usr/local/lib/python3.6/dist-packages/IPython/core/interactiveshell.py:2718: DtypeWarning: Columns (12,25,26) have mixed types.Specify dtype option on import or set low_memory=False.\n",
            "  interactivity=interactivity, compiler=compiler, result=result)\n",
            "/usr/local/lib/python3.6/dist-packages/IPython/core/interactiveshell.py:2718: DtypeWarning: Columns (12,15,16,25,26) have mixed types.Specify dtype option on import or set low_memory=False.\n",
            "  interactivity=interactivity, compiler=compiler, result=result)\n",
            "/usr/local/lib/python3.6/dist-packages/IPython/core/interactiveshell.py:2718: DtypeWarning: Columns (15,16,25) have mixed types.Specify dtype option on import or set low_memory=False.\n",
            "  interactivity=interactivity, compiler=compiler, result=result)\n"
          ],
          "name": "stderr"
        }
      ]
    },
    {
      "cell_type": "code",
      "metadata": {
        "id": "UzDdxlIQzfx0",
        "colab_type": "code",
        "colab": {}
      },
      "source": [
        "rev_2016_concessions = rev_2016.loc[rev_2016[\"Source\"].isin(['FoodRetailAPI_quest','Concessions'])]\n",
        "rev_2016_concessions_bnb = rev_2016_concessions.loc[rev_2016_concessions[\"LocationKey\"].isin([1253, 1265, 1274, 1276, 1289, 1297, 1303, 1310, 1311, 1317, 1318, 1319, 1338, 1346, 1354, 1357, 1360, 1367, 1384, 1385, 1387, 1397, 1421])]\n",
        "rev_2016_concessions_f4p = rev_2016_concessions.loc[rev_2016_concessions[\"LocationKey\"].isin([1267, 1278, 1294, 1302, 1305, 1310, 1315, 1316, 1357, 1358, 1360, 1365, 1384, 1387, 1396, 1397, 1422, 1429])]\n",
        "rev_2016_retail = rev_2016.loc[rev_2016[\"Source\"].isin(['FoodRetailAPI_rpro','Retail'])]\n",
        "rev_2016_concessions_bnb = rev_2016_concessions_bnb.groupby(\"DateKey\")[\"ExtendedPrIceTaxIncluded\"].sum()\n",
        "rev_2016_concessions_f4p = rev_2016_concessions_f4p.groupby(\"DateKey\")[\"ExtendedPrIceTaxIncluded\"].sum()\n",
        "rev_2016_concesions = rev_2016_concessions.groupby(\"DateKey\")[\"ExtendedPrIceTaxIncluded\"].sum()\n",
        "\n",
        "rev_2017_concessions = rev_2017.loc[rev_2017[\"Source\"].isin(['FoodRetailAPI_quest','Concessions'])]\n",
        "rev_2017_concessions_bnb = rev_2017_concessions.loc[rev_2017_concessions[\"LocationKey\"].isin([1253, 1265, 1274, 1276, 1289, 1297, 1303, 1310, 1311, 1317, 1318, 1319, 1338, 1346, 1354, 1357, 1360, 1367, 1384, 1385, 1387, 1397, 1421])]\n",
        "rev_2017_concessions_f4p = rev_2017_concessions.loc[rev_2017_concessions[\"LocationKey\"].isin([1267, 1278, 1294, 1302, 1305, 1310, 1315, 1316, 1357, 1358, 1360, 1365, 1384, 1387, 1396, 1397, 1422, 1429])]\n",
        "rev_2017_retail = rev_2017.loc[rev_2017[\"Source\"].isin(['FoodRetailAPI_rpro','Retail'])]\n",
        "rev_2017_concessions = rev_2017_concessions.groupby(\"DateKey\")[\"ExtendedPrIceTaxIncluded\"].sum()\n",
        "rev_2017_concessions_bnb = rev_2017_concessions_bnb.groupby(\"DateKey\")[\"ExtendedPrIceTaxIncluded\"].sum()\n",
        "rev_2017_concessions_f4p = rev_2017_concessions_f4p.groupby(\"DateKey\")[\"ExtendedPrIceTaxIncluded\"].sum()\n",
        "\n",
        "rev_2018_concessions = rev_2018.loc[rev_2018[\"Source\"].isin(['FoodRetailAPI_quest','Concessions'])]\n",
        "rev_2018_concessions_bnb = rev_2018_concessions.loc[rev_2018_concessions[\"LocationKey\"].isin([1253, 1265, 1274, 1276, 1289, 1297, 1303, 1310, 1311, 1317, 1318, 1319, 1338, 1346, 1354, 1357, 1360, 1367, 1384, 1385, 1387, 1397, 1421])]\n",
        "rev_2018_concessions_f4p = rev_2018_concessions.loc[rev_2018_concessions[\"LocationKey\"].isin([1267, 1278, 1294, 1302, 1305, 1310, 1315, 1316, 1357, 1358, 1360, 1365, 1384, 1387, 1396, 1397, 1422, 1429])]\n",
        "rev_2018_retail = rev_2018.loc[rev_2018[\"Source\"].isin(['FoodRetailAPI_rpro','Retail'])]\n",
        "rev_2018_concessions = rev_2018_concessions.groupby(\"DateKey\")[\"ExtendedPrIceTaxIncluded\"].sum()\n",
        "rev_2018_concessions_bnb = rev_2018_concessions_bnb.groupby(\"DateKey\")[\"ExtendedPrIceTaxIncluded\"].sum()\n",
        "rev_2018_concessions_f4p = rev_2018_concessions_f4p.groupby(\"DateKey\")[\"ExtendedPrIceTaxIncluded\"].sum()\n",
        "\n",
        "rev_2019_concessions = rev_2019.loc[rev_2019[\"Source\"].isin(['FoodRetailAPI_quest','Concessions'])]\n",
        "rev_2019_concessions_bnb = rev_2019_concessions.loc[rev_2019_concessions[\"LocationKey\"].isin([1253, 1265, 1274, 1276, 1289, 1297, 1303, 1310, 1311, 1317, 1318, 1319, 1338, 1346, 1354, 1357, 1360, 1367, 1384, 1385, 1387, 1397, 1421])]\n",
        "rev_2019_concessions_f4p = rev_2019_concessions.loc[rev_2019_concessions[\"LocationKey\"].isin([1267, 1278, 1294, 1302, 1305, 1310, 1315, 1316, 1357, 1358, 1360, 1365, 1384, 1387, 1396, 1397, 1422, 1429])]\n",
        "rev_2019_retail = rev_2019.loc[rev_2019[\"Source\"].isin(['FoodRetailAPI_rpro','Retail'])]\n",
        "rev_2019_concessions = rev_2019_concessions.groupby(\"DateKey\")[\"ExtendedPrIceTaxIncluded\"].sum()\n",
        "rev_2019_concessions_bnb = rev_2019_concessions_bnb.groupby(\"DateKey\")[\"ExtendedPrIceTaxIncluded\"].sum()\n",
        "rev_2019_concessions_f4p = rev_2019_concessions_f4p.groupby(\"DateKey\")[\"ExtendedPrIceTaxIncluded\"].sum()"
      ],
      "execution_count": 0,
      "outputs": []
    },
    {
      "cell_type": "code",
      "metadata": {
        "id": "3c8xWHDdQ8DY",
        "colab_type": "code",
        "colab": {}
      },
      "source": [
        "## adjust columns\n",
        "promo_2016_2019[\"game_date\"] = pd.DatetimeIndex(promo_2016_2019['game_time_local']).date\n",
        "attendance_2016_2019.EventDate = pd.to_datetime(attendance_2016_2019.EventDate)\n",
        "promo_2016_2019.game_date = pd.to_datetime(promo_2016_2019.game_date)\n",
        "attendance_2016_2019 = attendance_2016_2019.rename(columns={' PaidIssued ': 'PaidIssued'})\n",
        "attendance_2016_2019 = attendance_2016_2019.rename(columns={' TotalScans ': 'TotalScans'})\n",
        "attendance_2016_2019[\"PaidIssued\"] = attendance_2016_2019[\"PaidIssued\"].str.strip()\n",
        "attendance_2016_2019[\"TotalScans\"] = attendance_2016_2019[\"TotalScans\"].str.strip()\n",
        "attendance_2016_2019[\"PaidIssued\"] = attendance_2016_2019[\"PaidIssued\"].replace(\"-\", 0)\n",
        "attendance_2016_2019[\"TotalScans\"] = attendance_2016_2019[\"TotalScans\"].replace(\"-\", 0)\n",
        "attendance_2016_2019[\"PaidIssued\"] = attendance_2016_2019[\"PaidIssued\"].str.replace(\",\",\"\").astype(float)\n",
        "attendance_2016_2019[\"TotalScans\"] = attendance_2016_2019[\"TotalScans\"].str.replace(\",\",\"\").astype(float)\n",
        "attendance_2016_2019[\"PaidIssued\"] = attendance_2016_2019[\"PaidIssued\"].fillna(0)\n",
        "attendance_2016_2019[\"TotalScans\"] = attendance_2016_2019[\"TotalScans\"].fillna(0)\n",
        "records['Date'] = pd.to_datetime(records.Date)\n",
        "weather['DATE'] = pd.to_datetime(weather.DATE)\n",
        "\n",
        "records['Wins'] = records['Wins'].astype(str).astype(float)\n",
        "records['Losses'] = records['Losses'].astype(str).astype(float)\n",
        "records['Win_pct'] = records['Win_pct'].astype(str).str.strip('%').astype(float)\n",
        "weather[\"PRCP\"] = weather[\"PRCP\"].fillna(0)\n",
        "weather[\"temp_avg\"] = weather[\"temp_avg\"].fillna(0)\n",
        "weather[\"TMAX\"] = weather[\"TMAX\"].fillna(0)\n",
        "weather[\"TMIN\"] = weather[\"TMIN\"].fillna(0)"
      ],
      "execution_count": 0,
      "outputs": []
    },
    {
      "cell_type": "code",
      "metadata": {
        "id": "AS15oycxJamw",
        "colab_type": "code",
        "colab": {}
      },
      "source": [
        "##concession_revenue = rev_2016_concessions.append(rev_2017_concessions)\n",
        "##concession_revenue = concession_revenue.append(rev_2018_concessions)\n",
        "##concession_revenue = concession_revenue.append(rev_2019_concessions)\n",
        "##concession_revenue = concession_revenue.rename('concession_rev')\n",
        "\n",
        "concession_revenue_bnb = rev_2016_concessions_bnb.append(rev_2017_concessions_bnb)\n",
        "concession_revenue_bnb = concession_revenue_bnb.append(rev_2018_concessions_bnb)\n",
        "concession_revenue_bnb = concession_revenue_bnb.append(rev_2019_concessions_bnb)\n",
        "concession_revenue_bnb = concession_revenue_bnb.rename('concession_rev_bnb')\n",
        "\n",
        "concession_revenue_f4p = rev_2016_concessions_f4p.append(rev_2017_concessions_f4p)\n",
        "concession_revenue_f4p = concession_revenue_f4p.append(rev_2018_concessions_f4p)\n",
        "concession_revenue_f4p = concession_revenue_f4p.append(rev_2019_concessions_f4p)\n",
        "concession_revenue_f4p = concession_revenue_f4p.rename('concession_rev_f4p')\n",
        "\n",
        "##retail_revenue = rev_2016_retail.append(rev_2017_retail)\n",
        "##retail_revenue = retail_revenue.append(rev_2018_retail)\n",
        "##retail_revenue = retail_revenue.append(rev_2019_retail)\n",
        "##retail_revenue = retail_revenue.rename('retail_rev')"
      ],
      "execution_count": 0,
      "outputs": []
    },
    {
      "cell_type": "code",
      "metadata": {
        "id": "vRiHK2upP5-a",
        "colab_type": "code",
        "colab": {}
      },
      "source": [
        "##merging to a single dataframe\n",
        "attendance = pd.merge(attendance_2016_2019, bnb_f4p, left_on = (\"Season\", \"EventName\"), right_on = (\"Year\", \"Event Name\"), how = 'left')\n",
        "##attendance = pd.merge(attendance, promo_2016_2019, left_on = (\"EventDate\"), right_on = (\"game_date\"), how = 'left')\n",
        "##attendance = pd.merge(attendance, concession_revenue, left_on = (\"EventDateKey\"), right_on = (\"DateKey\"), how = 'left')\n",
        "##attendance = pd.merge(attendance, retail_revenue, left_on = (\"EventDateKey\"), right_on = (\"DateKey\"), how = 'left')\n",
        "attendance = pd.merge(attendance, concession_revenue_bnb, left_on = (\"EventDateKey\"), right_on = (\"DateKey\"), how = 'left')\n",
        "attendance = pd.merge(attendance, concession_revenue_f4p, left_on = (\"EventDateKey\"), right_on = (\"DateKey\"), how = 'left')\n",
        "attendance = pd.merge(attendance, records, left_on = \"EventDate\", right_on = \"Date\", how = \"left\")\n",
        "attendance = pd.merge(attendance, weather, left_on = \"EventDate\", right_on = \"DATE\", how = \"left\")\n",
        "\n",
        "##add columns\n",
        "attendance['f4p_y_n'] = attendance['F4P Sold'].apply(lambda x: '1' if x > 0 else '0')\n",
        "attendance['b_b_y_n'] = attendance['B&B Sold'].apply(lambda x: '1' if x > 0 else '0')\n",
        "attendance[\"F4P Sold\"] = attendance[\"F4P Sold\"].fillna(0)\n",
        "attendance[\"B&B Sold\"] = attendance[\"B&B Sold\"].fillna(0)\n",
        "attendance[\"Wins\"] = attendance[\"Wins\"].fillna(0)\n",
        "attendance[\"Losses\"] = attendance[\"Losses\"].fillna(0)\n",
        "attendance[\"Season Rolling Average Runs\"] = attendance[\"Season Rolling Average Runs\"].fillna(0)\n",
        "attendance[\"PRCP\"] = attendance[\"PRCP\"].fillna(0)\n",
        "attendance[\"temp_avg\"] = attendance[\"temp_avg\"].fillna(0)\n",
        "attendance[\"TMAX\"] = attendance[\"TMAX\"].fillna(0)\n",
        "attendance[\"TMIN\"] = attendance[\"TMIN\"].fillna(0)\n",
        "attendance[\"Win_pct\"] = attendance[\"Win_pct\"].fillna(0)\n",
        "##attendance[\"concession_rev\"] = attendance[\"concession_rev\"].fillna(0)\n",
        "##attendance[\"retail_rev\"] = attendance[\"retail_rev\"].fillna(0)\n",
        "\n",
        "##a = ['RAINED OUT 5/27', 'ST. LOUIS CARDINALS', 'PITTSBURGH PIRATES', 'PHILADELPHIA PHILLIES', 'LOS ANGELES DODGERS', \n",
        "##     'ATLANTA BRAVES', 'SF GIANTS', 'SAN DIEGO PADRES', 'NEW YORK METS', 'MILWAUKEE BREWERS', 'MIAMI MARLINS', 'NY YANKEES', 'WASHINGTON NATIONALS', 'CHICAGO CUBS']\n",
        "##attendance = attendance.replace(to_replace = ['RAINED OUT 5/27', 'ST. LOUIS CARDINALS', 'PITTSBURGH PIRATES', 'PHILADELPHIA PHILLIES', 'LOS ANGELES DODGERS', \n",
        "##     'ATLANTA BRAVES', 'SF GIANTS', 'SAN DIEGO PADRES', 'NEW YORK METS', 'MILWAUKEE BREWERS', 'MIAMI MARLINS', 'NY YANKEES', 'WASHINGTON NATIONALS', 'CHICAGO CUBS'],\n",
        "##     value = \"Other\")\n",
        "\n",
        "##Rain Outs to Remove: 4/10/2016, 4/5/2017, 5/8/2017, 5/10/2017\n",
        "##Doubleheaders to Remove: 5/23/2016, 5/27/2017, 8/21/2017, 4/28/2018. 6/5/2018, 6/22/2018, 9/28/2018, 5/1/2019, 7/3/2019, 8/6/2019, 8/13/2019, 9/28/2019,\n",
        "dates = [20160410, 20170405, 20170508, 20170510, 20160523, 20170527, 20170821, 20180428, 20180605, 20180622, 20180928, 20190501, 20190703, 20190806, 20190813, 20190928]\n",
        "attendance = attendance[~attendance['EventDateKey'].isin(dates)]\n",
        "attendance_bnb = attendance[attendance['concession_rev_bnb'].notna()]\n",
        "attendance_f4p = attendance[attendance['concession_rev_f4p'].notna()]"
      ],
      "execution_count": 0,
      "outputs": []
    },
    {
      "cell_type": "code",
      "metadata": {
        "id": "0SgiuOO6OGgN",
        "colab_type": "code",
        "outputId": "bef29502-0555-47a9-c1aa-16bb811f0fbc",
        "colab": {
          "base_uri": "https://localhost:8080/",
          "height": 156
        }
      },
      "source": [
        "attendance_bnb.columns"
      ],
      "execution_count": 0,
      "outputs": [
        {
          "output_type": "execute_result",
          "data": {
            "text/plain": [
              "Index(['Season', 'EventName', 'EventDateKey', 'EventDate', 'Team', 'DayName',\n",
              "       'MonthName', 'TotalScans', 'PaidIssued', 'Year', 'Event Name',\n",
              "       'B&B Sold', 'F4P Sold', 'Unnamed: 4', 'concession_rev_bnb',\n",
              "       'concession_rev_f4p', 'Date', 'Day_Night', 'Wins', 'Losses',\n",
              "       'Occurences', 'RunsScored', 'Season Rolling Average Runs', 'Win_pct',\n",
              "       'STATION', 'NAME', 'DATE', 'DATEKEY', 'PRCP', 'TMAX', 'TMIN',\n",
              "       'temp_avg', 'f4p_y_n', 'b_b_y_n'],\n",
              "      dtype='object')"
            ]
          },
          "metadata": {
            "tags": []
          },
          "execution_count": 9
        }
      ]
    },
    {
      "cell_type": "code",
      "metadata": {
        "id": "ojR02l5Pgpqf",
        "colab_type": "code",
        "colab": {}
      },
      "source": [
        "from sklearn.preprocessing import LabelEncoder, StandardScaler\n",
        "from sklearn.ensemble import RandomForestRegressor, GradientBoostingRegressor\n",
        "from sklearn.svm import SVR, LinearSVR\n",
        "from sklearn.model_selection import train_test_split, cross_val_score, GridSearchCV\n",
        "from sklearn.metrics import r2_score\n",
        "from statsmodels.tools.tools import add_constant\n",
        "from statsmodels.regression.linear_model import OLS\n",
        "import time\n",
        "from sklearn.ensemble import GradientBoostingClassifier\n",
        "from sklearn.model_selection import RandomizedSearchCV\n",
        "from sklearn.tree import plot_tree\n",
        "from sklearn import tree\n",
        "import pydotplus\n",
        "from IPython.display import Image \n",
        "from sklearn.metrics import mean_squared_error\n",
        "from sklearn.metrics import mean_absolute_error\n",
        "\n",
        "\n",
        "X = attendance_bnb.drop(['EventName', 'EventDateKey', 'EventDate', 'TotalScans','PaidIssued','Year', 'Event Name', 'B&B Sold', 'F4P Sold', 'Unnamed: 4',\n",
        "                     'concession_rev_bnb', 'concession_rev_f4p', 'Date', 'Occurences', 'RunsScored', 'STATION', 'NAME', 'DATE', 'DATEKEY'], axis = 1)\n",
        "X = pd.get_dummies(X)\n",
        "y= attendance_bnb.concession_rev_bnb\n"
      ],
      "execution_count": 0,
      "outputs": []
    },
    {
      "cell_type": "code",
      "metadata": {
        "id": "a416KPIFiHN8",
        "colab_type": "code",
        "colab": {}
      },
      "source": [
        "ss = StandardScaler()\n",
        "Xscaled = ss.fit_transform(X)\n",
        "Xscaled = add_constant(Xscaled)"
      ],
      "execution_count": 0,
      "outputs": []
    },
    {
      "cell_type": "code",
      "metadata": {
        "id": "8Rxn79qvivSd",
        "colab_type": "code",
        "outputId": "fdb5480e-71e8-4728-fb48-aeed8c346e78",
        "colab": {
          "base_uri": "https://localhost:8080/",
          "height": 35
        }
      },
      "source": [
        "X_train, X_test, y_train, y_test = train_test_split(Xscaled, y, test_size = 0.3, random_state = 86)\n",
        "lin_model = OLS(y_train, X_train).fit()\n",
        "\n",
        "lin_pred = lin_model.predict(X_test)\n",
        "lin_model_score = r2_score(y_test, lin_pred)\n",
        "\n",
        "print (\"R^2 score:\", lin_model_score)\n"
      ],
      "execution_count": 0,
      "outputs": [
        {
          "output_type": "stream",
          "text": [
            "R^2 score: 0.5564718612304824\n"
          ],
          "name": "stdout"
        }
      ]
    },
    {
      "cell_type": "code",
      "metadata": {
        "id": "0AcO7GOTjC59",
        "colab_type": "code",
        "colab": {}
      },
      "source": [
        "def evaluate(model):        \n",
        "    model.fit(X_train, y_train)\n",
        "    pred = model.predict(X_test)\n",
        "    model_score = r2_score(y_test, pred)\n",
        "    \n",
        "    s = cross_val_score(model, X, y, cv=5, scoring='r2', n_jobs=-1)\n",
        "        \n",
        "    print (\"R^2 score:\", model_score)\n",
        "    print (\"Cross Validation Score: {:0.5} ± {:0.5}\".format(s.mean().round(5), s.std().round(5)))\n",
        "    \n",
        "  \n",
        "    errors = abs(pred - y_test)\n",
        "    mape = 100 * np.mean(errors / y_test)\n",
        "    accuracy = 100 - mape\n",
        "    print('Model Performance')\n",
        "    print('Average Error: {:0.4f} degrees.'.format(np.mean(errors)))\n",
        "    print('Accuracy = {:0.2f}%.'.format(accuracy))\n",
        "\n",
        "    df = pd.DataFrame(columns=['attendance', 'predictions', 'residuals'])\n",
        "    df.attendance = y\n",
        "    df.predictions = model.predict(Xscaled)\n",
        "    df.residuals = df.attendance - df.predictions\n",
        "    df.plot(x='predictions', y='residuals', kind='scatter')\n",
        "    plt.show()"
      ],
      "execution_count": 0,
      "outputs": []
    },
    {
      "cell_type": "code",
      "metadata": {
        "id": "i9xoGNhzjFU6",
        "colab_type": "code",
        "colab": {}
      },
      "source": [
        "def feat_imp(model):\n",
        "    feature_importances = pd.DataFrame(model.feature_importances_, index = X.columns, columns=['importance']\n",
        "                                      ).sort_values('importance', ascending=False).reset_index()\n",
        "    print (feature_importances)\n",
        "    return feature_importances"
      ],
      "execution_count": 0,
      "outputs": []
    },
    {
      "cell_type": "code",
      "metadata": {
        "id": "MzKNxj5pjUdb",
        "colab_type": "code",
        "outputId": "2c4af44e-3a85-4718-83e8-70727a0372b4",
        "colab": {
          "base_uri": "https://localhost:8080/",
          "height": 401
        }
      },
      "source": [
        "## Random Forest\n",
        "X = attendance_bnb.drop(['EventName', 'EventDateKey', 'EventDate', 'TotalScans','PaidIssued','Year', 'Event Name', 'B&B Sold', 'F4P Sold', 'Unnamed: 4',\n",
        "                     'concession_rev_bnb', 'concession_rev_f4p', 'Date', 'Occurences', 'RunsScored', 'STATION', 'NAME', 'DATE', 'DATEKEY'], axis = 1)\n",
        "X = pd.get_dummies(X)\n",
        "y= attendance_bnb.concession_rev_bnb\n",
        "\n",
        "ss = StandardScaler()\n",
        "Xscaled = ss.fit_transform(X)\n",
        "X_train, X_test, y_train, y_test = train_test_split(Xscaled, y, test_size = 0.3, random_state = 86)\n",
        "rf = RandomForestRegressor(n_estimators=300)\n",
        "%time evaluate(rf)\n",
        "##.65"
      ],
      "execution_count": 0,
      "outputs": [
        {
          "output_type": "stream",
          "text": [
            "R^2 score: 0.3380428496676322\n",
            "Cross Validation Score: 0.20747 ± 0.30609\n",
            "Model Performance\n",
            "Average Error: 28499.6200 degrees.\n",
            "Accuracy = 51.38%.\n"
          ],
          "name": "stdout"
        },
        {
          "output_type": "display_data",
          "data": {
            "image/png": "[encoded data removed]",
            "text/plain": [
              "<Figure size 432x288 with 1 Axes>"
            ]
          },
          "metadata": {
            "tags": [],
            "needs_background": "light"
          }
        },
        {
          "output_type": "stream",
          "text": [
            "CPU times: user 917 ms, sys: 296 ms, total: 1.21 s\n",
            "Wall time: 5.73 s\n"
          ],
          "name": "stdout"
        }
      ]
    },
    {
      "cell_type": "code",
      "metadata": {
        "id": "mZeGTnDAkDUi",
        "colab_type": "code",
        "outputId": "0f32829f-fef9-4fa4-ecc8-364b627e0bef",
        "colab": {
          "base_uri": "https://localhost:8080/",
          "height": 971
        }
      },
      "source": [
        "rf_featimp = feat_imp(rf)\n"
      ],
      "execution_count": 0,
      "outputs": [
        {
          "output_type": "stream",
          "text": [
            "                          index  importance\n",
            "0             Team_CHICAGO CUBS    0.185961\n",
            "1              DayName_Saturday    0.137915\n",
            "2   Season Rolling Average Runs    0.110008\n",
            "3                       Win_pct    0.078526\n",
            "4                          Wins    0.078470\n",
            "5                MonthName_July    0.067335\n",
            "6                          TMAX    0.044022\n",
            "7                        Losses    0.042076\n",
            "8           Team_BOSTON RED SOX    0.037707\n",
            "9                      temp_avg    0.035514\n",
            "10                         TMIN    0.020978\n",
            "11               DayName_Friday    0.015972\n",
            "12                         PRCP    0.014618\n",
            "13              MonthName_April    0.012608\n",
            "14               DayName_Sunday    0.012071\n",
            "15              DayName_Tuesday    0.010439\n",
            "16                       Season    0.010052\n",
            "17         Team_MINNESOTA TWINS    0.007699\n",
            "18                    f4p_y_n_1    0.006245\n",
            "19      Team_KANSAS CITY ROYALS    0.005831\n",
            "20              Day_Night_night    0.005724\n",
            "21                Day_Night_day    0.005405\n",
            "22                    f4p_y_n_0    0.004962\n",
            "23       Team_OAKLAND ATHLETICS    0.003897\n",
            "24       Team_BALTIMORE ORIOLES    0.003829\n",
            "25                    b_b_y_n_1    0.003728\n",
            "26       Team_MILWAUKEE BREWERS    0.003677\n",
            "27          Team_DETROIT TIGERS    0.003635\n",
            "28             DayName_Thursday    0.003328\n",
            "29                    b_b_y_n_0    0.003084\n",
            "30       Team_CLEVELAND INDIANS    0.002825\n",
            "31          MonthName_September    0.002626\n",
            "32        Team_SEATTLE MARINERS    0.002228\n",
            "33               MonthName_June    0.002143\n",
            "34             MonthName_August    0.001874\n",
            "35               DayName_Monday    0.001811\n",
            "36                MonthName_May    0.001564\n",
            "37       Team_TORONTO BLUE JAYS    0.001487\n",
            "38      Team_LOS ANGELES ANGELS    0.001478\n",
            "39            DayName_Wednesday    0.001236\n",
            "40               Team_SF GIANTS    0.001202\n",
            "41          Team_TAMPA BAY RAYS    0.000855\n",
            "42           Team_TEXAS RANGERS    0.000684\n",
            "43          Team_HOUSTON ASTROS    0.000636\n",
            "44        Team_NEW YORK YANKEES    0.000574\n",
            "45           Team_MIAMI MARLINS    0.000352\n",
            "46        Team_SAN DIEGO PADRES    0.000306\n",
            "47     Team_ST. LOUIS CARDINALS    0.000245\n",
            "48     Team_LOS ANGELES DODGERS    0.000240\n",
            "49              Team_NY YANKEES    0.000153\n",
            "50    Team_WASHINGTON NATIONALS    0.000078\n",
            "51         Team_RAINED OUT 5/27    0.000044\n",
            "52      Team_PITTSBURGH PIRATES    0.000030\n",
            "53           Team_NEW YORK METS    0.000015\n"
          ],
          "name": "stdout"
        }
      ]
    },
    {
      "cell_type": "code",
      "metadata": {
        "id": "-sRNg24wvC3S",
        "colab_type": "code",
        "colab": {}
      },
      "source": [
        " def rf_rs():\n",
        "    # Number of trees in random forest\n",
        "    n_estimators = [int(x) for x in np.linspace(start = 50, stop = 1000, num = 10)]\n",
        "    # Number of features to consider at every split\n",
        "    max_features = ['auto', 'sqrt']\n",
        "    # Maximum number of levels in tree\n",
        "    max_depth = [int(x) for x in np.linspace(10, 110, num = 11)]\n",
        "    max_depth.append(None)\n",
        "    # Minimum number of samples required to split a node\n",
        "    min_samples_split = [2, 5, 10]\n",
        "    # Minimum number of samples required at each leaf node\n",
        "    min_samples_leaf = [1, 2, 4]\n",
        "    # Method of selecting samples for training each tree\n",
        "    bootstrap = [True, False]\n",
        "    # Create the random grid\n",
        "    random_grid = {'n_estimators': n_estimators,\n",
        "                  'max_features': max_features,\n",
        "                  'max_depth': max_depth,\n",
        "                  'min_samples_split': min_samples_split,\n",
        "                  'min_samples_leaf': min_samples_leaf,\n",
        "                  'bootstrap': bootstrap}\n",
        "    print(random_grid)\n",
        "    # Use the random grid to search for best hyperparameters\n",
        "    # First create the base model to tune\n",
        "    rf = RandomForestRegressor()\n",
        "    # Random search of parameters, using 3 fold cross validation, \n",
        "    # search across 100 different combinations, and use all available cores\n",
        "    rf_random = RandomizedSearchCV(estimator = rf, param_distributions = random_grid, n_iter = 100, cv = 3, verbose=2, random_state=42, n_jobs = -1)\n",
        "    # Fit the random search model\n",
        "    rf_random.fit(X_train, y_train)\n",
        "    print(rf_random.best_params_, rf_random.best_score_)"
      ],
      "execution_count": 0,
      "outputs": []
    },
    {
      "cell_type": "code",
      "metadata": {
        "id": "Wu_Ov04kv2qm",
        "colab_type": "code",
        "outputId": "97ff95e5-0a19-4cfd-84bc-9b5a2c4fee25",
        "colab": {
          "base_uri": "https://localhost:8080/",
          "height": 193
        }
      },
      "source": [
        "%time rf_rs()"
      ],
      "execution_count": 0,
      "outputs": [
        {
          "output_type": "stream",
          "text": [
            "{'n_estimators': [50, 155, 261, 366, 472, 577, 683, 788, 894, 1000], 'max_features': ['auto', 'sqrt'], 'max_depth': [10, 20, 30, 40, 50, 60, 70, 80, 90, 100, 110, None], 'min_samples_split': [2, 5, 10], 'min_samples_leaf': [1, 2, 4], 'bootstrap': [True, False]}\n",
            "Fitting 3 folds for each of 100 candidates, totalling 300 fits\n"
          ],
          "name": "stdout"
        },
        {
          "output_type": "stream",
          "text": [
            "[Parallel(n_jobs=-1)]: Using backend LokyBackend with 2 concurrent workers.\n",
            "[Parallel(n_jobs=-1)]: Done  37 tasks      | elapsed:   21.8s\n",
            "[Parallel(n_jobs=-1)]: Done 158 tasks      | elapsed:  1.5min\n"
          ],
          "name": "stderr"
        },
        {
          "output_type": "stream",
          "text": [
            "{'n_estimators': 155, 'min_samples_split': 2, 'min_samples_leaf': 1, 'max_features': 'sqrt', 'max_depth': None, 'bootstrap': False} 0.3732515061938235\n",
            "CPU times: user 1.45 s, sys: 41 ms, total: 1.49 s\n",
            "Wall time: 2min 56s\n"
          ],
          "name": "stdout"
        },
        {
          "output_type": "stream",
          "text": [
            "[Parallel(n_jobs=-1)]: Done 300 out of 300 | elapsed:  2.9min finished\n"
          ],
          "name": "stderr"
        }
      ]
    },
    {
      "cell_type": "code",
      "metadata": {
        "id": "t2fCkY-kkIdH",
        "colab_type": "code",
        "colab": {}
      },
      "source": [
        "def rf_gs():\n",
        "    params = {\n",
        "        'max_features' : [1, 2,'auto', 'sqrt'],\n",
        "        'max_depth' : [20, 30, 50, 60, None],\n",
        "        'n_estimators' : [150, 250, 261, 350, 400],\n",
        "        'min_samples_split' : [1,2,3,4,5],\n",
        "        'min_samples_leaf' : [1,2],\n",
        "        'bootstrap' : [False]\n",
        "    }\n",
        "\n",
        "    gs_rf = GridSearchCV(rf, params, n_jobs=-1, cv=5)\n",
        "    gs_rf.fit(X_train, y_train)\n",
        "\n",
        "    print (gs_rf.best_params_, gs_rf.best_score_)"
      ],
      "execution_count": 0,
      "outputs": []
    },
    {
      "cell_type": "code",
      "metadata": {
        "id": "ErQMNZyIkOhP",
        "colab_type": "code",
        "outputId": "91fc919e-2d8d-41e9-fb2d-3f2d1c9b48e8",
        "colab": {
          "base_uri": "https://localhost:8080/",
          "height": 69
        }
      },
      "source": [
        "%time rf_gs()\n"
      ],
      "execution_count": 0,
      "outputs": [
        {
          "output_type": "stream",
          "text": [
            "{'bootstrap': False, 'max_depth': 60, 'max_features': 'sqrt', 'min_samples_leaf': 1, 'min_samples_split': 3, 'n_estimators': 150} 0.5044479554135652\n",
            "CPU times: user 20.4 s, sys: 770 ms, total: 21.2 s\n",
            "Wall time: 20min 22s\n"
          ],
          "name": "stdout"
        }
      ]
    },
    {
      "cell_type": "code",
      "metadata": {
        "id": "NpFDRSQCkRRc",
        "colab_type": "code",
        "colab": {}
      },
      "source": [
        "rf2 = RandomForestRegressor(n_estimators=150, max_features='sqrt' , max_depth= 60, min_samples_leaf= 1, min_samples_split= 3)\n",
        "\n",
        "##r^2 = .649 (n_estimators=35, max_features='auto' , max_depth= None, min_samples_leaf= 1, min_samples_split= 2)"
      ],
      "execution_count": 0,
      "outputs": []
    },
    {
      "cell_type": "code",
      "metadata": {
        "id": "MeZgMwPwka2F",
        "colab_type": "code",
        "outputId": "1fe351e5-3f4c-4d61-e80a-17e76d61cd24",
        "colab": {
          "base_uri": "https://localhost:8080/",
          "height": 401
        }
      },
      "source": [
        "%time evaluate(rf2)\n"
      ],
      "execution_count": 0,
      "outputs": [
        {
          "output_type": "stream",
          "text": [
            "R^2 score: 0.3676366306038218\n",
            "Cross Validation Score: 0.26381 ± 0.22065\n",
            "Model Performance\n",
            "Average Error: 29798.7473 degrees.\n",
            "Accuracy = 48.25%.\n"
          ],
          "name": "stdout"
        },
        {
          "output_type": "display_data",
          "data": {
            "image/png": "[encoded data removed]",
            "text/plain": [
              "<Figure size 432x288 with 1 Axes>"
            ]
          },
          "metadata": {
            "tags": [],
            "needs_background": "light"
          }
        },
        {
          "output_type": "stream",
          "text": [
            "CPU times: user 518 ms, sys: 91 ms, total: 609 ms\n",
            "Wall time: 1.43 s\n"
          ],
          "name": "stdout"
        }
      ]
    },
    {
      "cell_type": "code",
      "metadata": {
        "id": "EO65wweQke-X",
        "colab_type": "code",
        "outputId": "11e7effd-6314-4dad-890c-248b75da60dc",
        "colab": {
          "base_uri": "https://localhost:8080/",
          "height": 971
        }
      },
      "source": [
        "rf2_featimp = feat_imp(rf2)\n"
      ],
      "execution_count": 0,
      "outputs": [
        {
          "output_type": "stream",
          "text": [
            "                          index  importance\n",
            "0                       Win_pct    0.091333\n",
            "1             Team_CHICAGO CUBS    0.086998\n",
            "2              DayName_Saturday    0.083442\n",
            "3                        Losses    0.077107\n",
            "4   Season Rolling Average Runs    0.076233\n",
            "5                          Wins    0.065848\n",
            "6                      temp_avg    0.060294\n",
            "7                          TMIN    0.056696\n",
            "8                          TMAX    0.055442\n",
            "9                MonthName_July    0.051749\n",
            "10              DayName_Tuesday    0.021619\n",
            "11                         PRCP    0.021077\n",
            "12          Team_BOSTON RED SOX    0.020702\n",
            "13              MonthName_April    0.018864\n",
            "14                       Season    0.018347\n",
            "15                    f4p_y_n_0    0.013648\n",
            "16                    f4p_y_n_1    0.013584\n",
            "17              Day_Night_night    0.010500\n",
            "18                Day_Night_day    0.010218\n",
            "19               DayName_Friday    0.009725\n",
            "20               DayName_Monday    0.009133\n",
            "21       Team_BALTIMORE ORIOLES    0.008953\n",
            "22               DayName_Sunday    0.008637\n",
            "23      Team_KANSAS CITY ROYALS    0.007846\n",
            "24          MonthName_September    0.007570\n",
            "25        Team_SEATTLE MARINERS    0.006641\n",
            "26         Team_MINNESOTA TWINS    0.006589\n",
            "27               MonthName_June    0.006452\n",
            "28       Team_OAKLAND ATHLETICS    0.006199\n",
            "29                    b_b_y_n_1    0.006114\n",
            "30          Team_DETROIT TIGERS    0.005919\n",
            "31             MonthName_August    0.005852\n",
            "32            DayName_Wednesday    0.005810\n",
            "33             DayName_Thursday    0.005653\n",
            "34                    b_b_y_n_0    0.005616\n",
            "35       Team_CLEVELAND INDIANS    0.005471\n",
            "36       Team_MILWAUKEE BREWERS    0.005207\n",
            "37          Team_TAMPA BAY RAYS    0.004325\n",
            "38                MonthName_May    0.003818\n",
            "39      Team_LOS ANGELES ANGELS    0.002815\n",
            "40               Team_SF GIANTS    0.002564\n",
            "41          Team_HOUSTON ASTROS    0.001980\n",
            "42        Team_SAN DIEGO PADRES    0.001507\n",
            "43       Team_TORONTO BLUE JAYS    0.001453\n",
            "44           Team_TEXAS RANGERS    0.001333\n",
            "45           Team_MIAMI MARLINS    0.000957\n",
            "46     Team_LOS ANGELES DODGERS    0.000579\n",
            "47         Team_RAINED OUT 5/27    0.000450\n",
            "48              Team_NY YANKEES    0.000360\n",
            "49     Team_ST. LOUIS CARDINALS    0.000281\n",
            "50        Team_NEW YORK YANKEES    0.000144\n",
            "51    Team_WASHINGTON NATIONALS    0.000122\n",
            "52      Team_PITTSBURGH PIRATES    0.000117\n",
            "53           Team_NEW YORK METS    0.000109\n"
          ],
          "name": "stdout"
        }
      ]
    },
    {
      "cell_type": "code",
      "metadata": {
        "id": "pkd3mZ2plNBz",
        "colab_type": "code",
        "outputId": "313301e1-d4d4-4c81-be54-77bfb996a063",
        "colab": {
          "base_uri": "https://localhost:8080/",
          "height": 401
        }
      },
      "source": [
        "##Gradient Boosting Regressor\n",
        "\n",
        "X = attendance_bnb.drop(['EventName', 'EventDateKey', 'EventDate', 'TotalScans','PaidIssued','Year', 'Event Name', 'B&B Sold', 'F4P Sold', 'Unnamed: 4',\n",
        "                     'concession_rev_bnb', 'concession_rev_f4p', 'Date', 'Occurences', 'RunsScored', 'STATION', 'NAME', 'DATE', 'DATEKEY'], axis = 1)\n",
        "X = pd.get_dummies(X)\n",
        "y= attendance_bnb.concession_rev_bnb\n",
        "ss = StandardScaler()\n",
        "Xscaled = ss.fit_transform(X)\n",
        "X_train, X_test, y_train, y_test = train_test_split(Xscaled, y, test_size = 0.3, random_state = 86)\n",
        "gbr = GradientBoostingRegressor(n_estimators=300)\n",
        "%time evaluate(gbr)\n",
        "##R^2 = 0.6677"
      ],
      "execution_count": 0,
      "outputs": [
        {
          "output_type": "stream",
          "text": [
            "R^2 score: 0.38947056315668105\n",
            "Cross Validation Score: 0.41807 ± 0.21044\n",
            "Model Performance\n",
            "Average Error: 27166.3964 degrees.\n",
            "Accuracy = 48.63%.\n"
          ],
          "name": "stdout"
        },
        {
          "output_type": "display_data",
          "data": {
            "image/png": "[encoded data removed]",
            "text/plain": [
              "<Figure size 432x288 with 1 Axes>"
            ]
          },
          "metadata": {
            "tags": [],
            "needs_background": "light"
          }
        },
        {
          "output_type": "stream",
          "text": [
            "CPU times: user 446 ms, sys: 297 ms, total: 742 ms\n",
            "Wall time: 3.06 s\n"
          ],
          "name": "stdout"
        }
      ]
    },
    {
      "cell_type": "code",
      "metadata": {
        "id": "hpIftXAqlcUh",
        "colab_type": "code",
        "colab": {}
      },
      "source": [
        "def gbr_gs():\n",
        "    params = {\n",
        "        'max_features' : [0.5, 0.75,3,5,7, 'auto', 'sqrt'],\n",
        "        'max_depth' : [3,4,6,20, 30, None],\n",
        "        'n_estimators' : [10, 20, 50, 100,200,300],\n",
        "        'min_samples_split' : [1,2,3],\n",
        "        'min_samples_leaf' : [1,2,3],\n",
        "        ##'max_features' : [0.75, 'auto', 'sqrt'],\n",
        "        ##'max_depth' : [30, 40,None],\n",
        "        ##'n_estimators' : [200, 300],\n",
        "        ##'min_samples_split' : [2],\n",
        "        ##'min_samples_leaf' : [2],\n",
        "        'learning_rate' : [0.15,0.1,0.05,0.01],\n",
        "    }\n",
        "\n",
        "    gs_gbr = GridSearchCV(gbr, params, n_jobs=-1, cv=5)\n",
        "    gs_gbr.fit(X_train, y_train)\n",
        "\n",
        "    print (gs_gbr.best_params_, gs_gbr.best_score_)"
      ],
      "execution_count": 0,
      "outputs": []
    },
    {
      "cell_type": "code",
      "metadata": {
        "id": "WwK87iLflfFl",
        "colab_type": "code",
        "outputId": "77b1046f-bdaa-47f3-987d-2e245268d347",
        "colab": {
          "base_uri": "https://localhost:8080/",
          "height": 69
        }
      },
      "source": [
        "%time gbr_gs()\n"
      ],
      "execution_count": 0,
      "outputs": [
        {
          "output_type": "stream",
          "text": [
            "{'learning_rate': 0.1, 'max_depth': 3, 'max_features': 3, 'min_samples_leaf': 1, 'min_samples_split': 2, 'n_estimators': 300} 0.6158298102556256\n",
            "CPU times: user 1min 1s, sys: 1.07 s, total: 1min 2s\n",
            "Wall time: 26min 19s\n"
          ],
          "name": "stdout"
        }
      ]
    },
    {
      "cell_type": "code",
      "metadata": {
        "id": "2gS6PIWrlgTS",
        "colab_type": "code",
        "outputId": "15b80842-da90-4f96-db16-2eee5c728473",
        "colab": {
          "base_uri": "https://localhost:8080/",
          "height": 401
        }
      },
      "source": [
        "gbr2 = GradientBoostingRegressor(n_estimators=300, max_features= 3, max_depth=3, min_samples_leaf= 1, min_samples_split= 2, learning_rate=0.1)\n",
        "%time evaluate(gbr2)\n",
        "\n",
        "##R^2 = 0.68651 (n_estimators=400, max_features= 'sqrt', max_depth=6, min_samples_leaf= 1, min_samples_split= 3, learning_rate=0.1)\n",
        "##R^2 = 0.68651 (n_estimators=100, max_features= 'sqrt', max_depth=4, min_samples_leaf= 3, min_samples_split= 3, learning_rate=0.1)"
      ],
      "execution_count": 0,
      "outputs": [
        {
          "output_type": "stream",
          "text": [
            "R^2 score: 0.4682774442893899\n",
            "Cross Validation Score: 0.39958 ± 0.21783\n",
            "Model Performance\n",
            "Average Error: 26220.0300 degrees.\n",
            "Accuracy = 57.39%.\n"
          ],
          "name": "stdout"
        },
        {
          "output_type": "display_data",
          "data": {
            "image/png": "[encoded data removed]",
            "text/plain": [
              "<Figure size 432x288 with 1 Axes>"
            ]
          },
          "metadata": {
            "tags": [],
            "needs_background": "light"
          }
        },
        {
          "output_type": "stream",
          "text": [
            "CPU times: user 298 ms, sys: 108 ms, total: 406 ms\n",
            "Wall time: 623 ms\n"
          ],
          "name": "stdout"
        }
      ]
    },
    {
      "cell_type": "code",
      "metadata": {
        "id": "c-11iHVZljHM",
        "colab_type": "code",
        "outputId": "af2c2fce-574c-4601-b8f4-634664d63317",
        "colab": {
          "base_uri": "https://localhost:8080/",
          "height": 971
        }
      },
      "source": [
        "gbr2_featimp = feat_imp(gbr2)\n"
      ],
      "execution_count": 0,
      "outputs": [
        {
          "output_type": "stream",
          "text": [
            "                          index  importance\n",
            "0             Team_CHICAGO CUBS    0.107688\n",
            "1   Season Rolling Average Runs    0.101747\n",
            "2              DayName_Saturday    0.091585\n",
            "3                MonthName_July    0.085096\n",
            "4                       Win_pct    0.075840\n",
            "5                        Losses    0.059035\n",
            "6                      temp_avg    0.056737\n",
            "7           Team_BOSTON RED SOX    0.046333\n",
            "8                          Wins    0.045521\n",
            "9               DayName_Tuesday    0.029982\n",
            "10                         TMIN    0.027856\n",
            "11                         TMAX    0.026856\n",
            "12                         PRCP    0.022572\n",
            "13                       Season    0.022300\n",
            "14              MonthName_April    0.020236\n",
            "15               DayName_Monday    0.017636\n",
            "16                    f4p_y_n_1    0.013917\n",
            "17       Team_OAKLAND ATHLETICS    0.012252\n",
            "18              Day_Night_night    0.011877\n",
            "19       Team_MILWAUKEE BREWERS    0.009703\n",
            "20      Team_KANSAS CITY ROYALS    0.009628\n",
            "21                    f4p_y_n_0    0.008697\n",
            "22       Team_BALTIMORE ORIOLES    0.008271\n",
            "23          Team_TAMPA BAY RAYS    0.007758\n",
            "24               DayName_Friday    0.006623\n",
            "25             DayName_Thursday    0.005414\n",
            "26                    b_b_y_n_0    0.005067\n",
            "27               MonthName_June    0.005009\n",
            "28           Team_MIAMI MARLINS    0.004983\n",
            "29                Day_Night_day    0.004105\n",
            "30               DayName_Sunday    0.004057\n",
            "31            DayName_Wednesday    0.004037\n",
            "32          Team_DETROIT TIGERS    0.003688\n",
            "33       Team_CLEVELAND INDIANS    0.003609\n",
            "34        Team_SAN DIEGO PADRES    0.003562\n",
            "35                MonthName_May    0.003477\n",
            "36         Team_MINNESOTA TWINS    0.003242\n",
            "37        Team_SEATTLE MARINERS    0.003141\n",
            "38          MonthName_September    0.003047\n",
            "39               Team_SF GIANTS    0.003031\n",
            "40                    b_b_y_n_1    0.002684\n",
            "41             MonthName_August    0.002278\n",
            "42       Team_TORONTO BLUE JAYS    0.002164\n",
            "43      Team_LOS ANGELES ANGELS    0.001492\n",
            "44     Team_ST. LOUIS CARDINALS    0.001468\n",
            "45     Team_LOS ANGELES DODGERS    0.001237\n",
            "46           Team_TEXAS RANGERS    0.001169\n",
            "47          Team_HOUSTON ASTROS    0.000682\n",
            "48        Team_NEW YORK YANKEES    0.000647\n",
            "49      Team_PITTSBURGH PIRATES    0.000388\n",
            "50    Team_WASHINGTON NATIONALS    0.000241\n",
            "51              Team_NY YANKEES    0.000180\n",
            "52         Team_RAINED OUT 5/27    0.000134\n",
            "53           Team_NEW YORK METS    0.000024\n"
          ],
          "name": "stdout"
        }
      ]
    },
    {
      "cell_type": "code",
      "metadata": {
        "id": "sq99t5Rq41nM",
        "colab_type": "code",
        "outputId": "b3a66329-3086-4798-fae3-ae28462d110a",
        "colab": {
          "base_uri": "https://localhost:8080/",
          "height": 295
        }
      },
      "source": [
        "y_predicted = gbr2.predict(X_test)\n",
        "fig, ax = plt.subplots()\n",
        "ax.scatter(y_test, y_predicted, edgecolors=(0, 0, 0))\n",
        "ax.plot([y_test.min(), y_test.max()], [y_test.min(), y_test.max()], 'k--', lw=4)\n",
        "ax.set_xlabel('Actual')\n",
        "ax.set_ylabel('Predicted')\n",
        "ax.set_title(\"Ground Truth vs Predicted\")\n",
        "plt.show()"
      ],
      "execution_count": 0,
      "outputs": [
        {
          "output_type": "display_data",
          "data": {
            "image/png": "[encoded data removed]",
            "text/plain": [
              "<Figure size 432x288 with 1 Axes>"
            ]
          },
          "metadata": {
            "tags": [],
            "needs_background": "light"
          }
        }
      ]
    },
    {
      "cell_type": "code",
      "metadata": {
        "id": "3YoqC0S_eqHz",
        "colab_type": "code",
        "outputId": "b3dd4318-4a34-4130-bacd-7010128d7383",
        "colab": {
          "base_uri": "https://localhost:8080/",
          "height": 487
        }
      },
      "source": [
        "X"
      ],
      "execution_count": 0,
      "outputs": [
        {
          "output_type": "execute_result",
          "data": {
            "text/html": [
              "<div>\n",
              "<style scoped>\n",
              "    .dataframe tbody tr th:only-of-type {\n",
              "        vertical-align: middle;\n",
              "    }\n",
              "\n",
              "    .dataframe tbody tr th {\n",
              "        vertical-align: top;\n",
              "    }\n",
              "\n",
              "    .dataframe thead th {\n",
              "        text-align: right;\n",
              "    }\n",
              "</style>\n",
              "<table border=\"1\" class=\"dataframe\">\n",
              "  <thead>\n",
              "    <tr style=\"text-align: right;\">\n",
              "      <th></th>\n",
              "      <th>Season</th>\n",
              "      <th>Wins</th>\n",
              "      <th>Losses</th>\n",
              "      <th>Season Rolling Average Runs</th>\n",
              "      <th>Win_pct</th>\n",
              "      <th>PRCP</th>\n",
              "      <th>TMAX</th>\n",
              "      <th>TMIN</th>\n",
              "      <th>temp_avg</th>\n",
              "      <th>Team_BALTIMORE ORIOLES</th>\n",
              "      <th>Team_BOSTON RED SOX</th>\n",
              "      <th>Team_CHICAGO CUBS</th>\n",
              "      <th>Team_CLEVELAND INDIANS</th>\n",
              "      <th>Team_DETROIT TIGERS</th>\n",
              "      <th>Team_HOUSTON ASTROS</th>\n",
              "      <th>Team_KANSAS CITY ROYALS</th>\n",
              "      <th>Team_LOS ANGELES ANGELS</th>\n",
              "      <th>Team_LOS ANGELES DODGERS</th>\n",
              "      <th>Team_MIAMI MARLINS</th>\n",
              "      <th>Team_MILWAUKEE BREWERS</th>\n",
              "      <th>Team_MINNESOTA TWINS</th>\n",
              "      <th>Team_NEW YORK METS</th>\n",
              "      <th>Team_NEW YORK YANKEES</th>\n",
              "      <th>Team_NY YANKEES</th>\n",
              "      <th>Team_OAKLAND ATHLETICS</th>\n",
              "      <th>Team_PITTSBURGH PIRATES</th>\n",
              "      <th>Team_RAINED OUT 5/27</th>\n",
              "      <th>Team_SAN DIEGO PADRES</th>\n",
              "      <th>Team_SEATTLE MARINERS</th>\n",
              "      <th>Team_SF GIANTS</th>\n",
              "      <th>Team_ST. LOUIS CARDINALS</th>\n",
              "      <th>Team_TAMPA BAY RAYS</th>\n",
              "      <th>Team_TEXAS RANGERS</th>\n",
              "      <th>Team_TORONTO BLUE JAYS</th>\n",
              "      <th>Team_WASHINGTON NATIONALS</th>\n",
              "      <th>DayName_Friday</th>\n",
              "      <th>DayName_Monday</th>\n",
              "      <th>DayName_Saturday</th>\n",
              "      <th>DayName_Sunday</th>\n",
              "      <th>DayName_Thursday</th>\n",
              "      <th>DayName_Tuesday</th>\n",
              "      <th>DayName_Wednesday</th>\n",
              "      <th>MonthName_April</th>\n",
              "      <th>MonthName_August</th>\n",
              "      <th>MonthName_July</th>\n",
              "      <th>MonthName_June</th>\n",
              "      <th>MonthName_May</th>\n",
              "      <th>MonthName_September</th>\n",
              "      <th>Day_Night_day</th>\n",
              "      <th>Day_Night_night</th>\n",
              "      <th>f4p_y_n_0</th>\n",
              "      <th>f4p_y_n_1</th>\n",
              "      <th>b_b_y_n_0</th>\n",
              "      <th>b_b_y_n_1</th>\n",
              "    </tr>\n",
              "  </thead>\n",
              "  <tbody>\n",
              "    <tr>\n",
              "      <th>82</th>\n",
              "      <td>2017</td>\n",
              "      <td>0.0</td>\n",
              "      <td>1.0</td>\n",
              "      <td>3.000000</td>\n",
              "      <td>0.0000</td>\n",
              "      <td>0.00</td>\n",
              "      <td>56.0</td>\n",
              "      <td>46.0</td>\n",
              "      <td>51.0</td>\n",
              "      <td>0</td>\n",
              "      <td>0</td>\n",
              "      <td>0</td>\n",
              "      <td>0</td>\n",
              "      <td>1</td>\n",
              "      <td>0</td>\n",
              "      <td>0</td>\n",
              "      <td>0</td>\n",
              "      <td>0</td>\n",
              "      <td>0</td>\n",
              "      <td>0</td>\n",
              "      <td>0</td>\n",
              "      <td>0</td>\n",
              "      <td>0</td>\n",
              "      <td>0</td>\n",
              "      <td>0</td>\n",
              "      <td>0</td>\n",
              "      <td>0</td>\n",
              "      <td>0</td>\n",
              "      <td>0</td>\n",
              "      <td>0</td>\n",
              "      <td>0</td>\n",
              "      <td>0</td>\n",
              "      <td>0</td>\n",
              "      <td>0</td>\n",
              "      <td>0</td>\n",
              "      <td>0</td>\n",
              "      <td>0</td>\n",
              "      <td>0</td>\n",
              "      <td>0</td>\n",
              "      <td>0</td>\n",
              "      <td>1</td>\n",
              "      <td>0</td>\n",
              "      <td>1</td>\n",
              "      <td>0</td>\n",
              "      <td>0</td>\n",
              "      <td>0</td>\n",
              "      <td>0</td>\n",
              "      <td>0</td>\n",
              "      <td>1</td>\n",
              "      <td>0</td>\n",
              "      <td>1</td>\n",
              "      <td>0</td>\n",
              "      <td>1</td>\n",
              "      <td>0</td>\n",
              "    </tr>\n",
              "    <tr>\n",
              "      <th>84</th>\n",
              "      <td>2017</td>\n",
              "      <td>1.0</td>\n",
              "      <td>1.0</td>\n",
              "      <td>7.000000</td>\n",
              "      <td>50.0000</td>\n",
              "      <td>0.50</td>\n",
              "      <td>52.0</td>\n",
              "      <td>38.0</td>\n",
              "      <td>45.0</td>\n",
              "      <td>0</td>\n",
              "      <td>0</td>\n",
              "      <td>0</td>\n",
              "      <td>0</td>\n",
              "      <td>1</td>\n",
              "      <td>0</td>\n",
              "      <td>0</td>\n",
              "      <td>0</td>\n",
              "      <td>0</td>\n",
              "      <td>0</td>\n",
              "      <td>0</td>\n",
              "      <td>0</td>\n",
              "      <td>0</td>\n",
              "      <td>0</td>\n",
              "      <td>0</td>\n",
              "      <td>0</td>\n",
              "      <td>0</td>\n",
              "      <td>0</td>\n",
              "      <td>0</td>\n",
              "      <td>0</td>\n",
              "      <td>0</td>\n",
              "      <td>0</td>\n",
              "      <td>0</td>\n",
              "      <td>0</td>\n",
              "      <td>0</td>\n",
              "      <td>0</td>\n",
              "      <td>0</td>\n",
              "      <td>0</td>\n",
              "      <td>0</td>\n",
              "      <td>0</td>\n",
              "      <td>1</td>\n",
              "      <td>0</td>\n",
              "      <td>0</td>\n",
              "      <td>1</td>\n",
              "      <td>0</td>\n",
              "      <td>0</td>\n",
              "      <td>0</td>\n",
              "      <td>0</td>\n",
              "      <td>0</td>\n",
              "      <td>1</td>\n",
              "      <td>0</td>\n",
              "      <td>1</td>\n",
              "      <td>0</td>\n",
              "      <td>1</td>\n",
              "      <td>0</td>\n",
              "    </tr>\n",
              "    <tr>\n",
              "      <th>85</th>\n",
              "      <td>2017</td>\n",
              "      <td>27.0</td>\n",
              "      <td>35.0</td>\n",
              "      <td>4.483871</td>\n",
              "      <td>43.5484</td>\n",
              "      <td>0.00</td>\n",
              "      <td>95.0</td>\n",
              "      <td>74.0</td>\n",
              "      <td>84.5</td>\n",
              "      <td>1</td>\n",
              "      <td>0</td>\n",
              "      <td>0</td>\n",
              "      <td>0</td>\n",
              "      <td>0</td>\n",
              "      <td>0</td>\n",
              "      <td>0</td>\n",
              "      <td>0</td>\n",
              "      <td>0</td>\n",
              "      <td>0</td>\n",
              "      <td>0</td>\n",
              "      <td>0</td>\n",
              "      <td>0</td>\n",
              "      <td>0</td>\n",
              "      <td>0</td>\n",
              "      <td>0</td>\n",
              "      <td>0</td>\n",
              "      <td>0</td>\n",
              "      <td>0</td>\n",
              "      <td>0</td>\n",
              "      <td>0</td>\n",
              "      <td>0</td>\n",
              "      <td>0</td>\n",
              "      <td>0</td>\n",
              "      <td>0</td>\n",
              "      <td>0</td>\n",
              "      <td>0</td>\n",
              "      <td>1</td>\n",
              "      <td>0</td>\n",
              "      <td>0</td>\n",
              "      <td>0</td>\n",
              "      <td>0</td>\n",
              "      <td>0</td>\n",
              "      <td>0</td>\n",
              "      <td>0</td>\n",
              "      <td>0</td>\n",
              "      <td>1</td>\n",
              "      <td>0</td>\n",
              "      <td>0</td>\n",
              "      <td>0</td>\n",
              "      <td>1</td>\n",
              "      <td>1</td>\n",
              "      <td>0</td>\n",
              "      <td>1</td>\n",
              "      <td>0</td>\n",
              "    </tr>\n",
              "    <tr>\n",
              "      <th>86</th>\n",
              "      <td>2017</td>\n",
              "      <td>1.0</td>\n",
              "      <td>2.0</td>\n",
              "      <td>5.000000</td>\n",
              "      <td>33.3333</td>\n",
              "      <td>0.00</td>\n",
              "      <td>54.0</td>\n",
              "      <td>37.0</td>\n",
              "      <td>45.5</td>\n",
              "      <td>0</td>\n",
              "      <td>0</td>\n",
              "      <td>0</td>\n",
              "      <td>0</td>\n",
              "      <td>0</td>\n",
              "      <td>0</td>\n",
              "      <td>0</td>\n",
              "      <td>0</td>\n",
              "      <td>0</td>\n",
              "      <td>0</td>\n",
              "      <td>0</td>\n",
              "      <td>1</td>\n",
              "      <td>0</td>\n",
              "      <td>0</td>\n",
              "      <td>0</td>\n",
              "      <td>0</td>\n",
              "      <td>0</td>\n",
              "      <td>0</td>\n",
              "      <td>0</td>\n",
              "      <td>0</td>\n",
              "      <td>0</td>\n",
              "      <td>0</td>\n",
              "      <td>0</td>\n",
              "      <td>0</td>\n",
              "      <td>0</td>\n",
              "      <td>0</td>\n",
              "      <td>1</td>\n",
              "      <td>0</td>\n",
              "      <td>0</td>\n",
              "      <td>0</td>\n",
              "      <td>0</td>\n",
              "      <td>0</td>\n",
              "      <td>0</td>\n",
              "      <td>1</td>\n",
              "      <td>0</td>\n",
              "      <td>0</td>\n",
              "      <td>0</td>\n",
              "      <td>0</td>\n",
              "      <td>0</td>\n",
              "      <td>0</td>\n",
              "      <td>1</td>\n",
              "      <td>1</td>\n",
              "      <td>0</td>\n",
              "      <td>1</td>\n",
              "      <td>0</td>\n",
              "    </tr>\n",
              "    <tr>\n",
              "      <th>87</th>\n",
              "      <td>2017</td>\n",
              "      <td>41.0</td>\n",
              "      <td>63.0</td>\n",
              "      <td>4.355769</td>\n",
              "      <td>39.4231</td>\n",
              "      <td>0.00</td>\n",
              "      <td>86.0</td>\n",
              "      <td>71.0</td>\n",
              "      <td>78.5</td>\n",
              "      <td>0</td>\n",
              "      <td>0</td>\n",
              "      <td>0</td>\n",
              "      <td>0</td>\n",
              "      <td>0</td>\n",
              "      <td>0</td>\n",
              "      <td>0</td>\n",
              "      <td>0</td>\n",
              "      <td>0</td>\n",
              "      <td>0</td>\n",
              "      <td>0</td>\n",
              "      <td>0</td>\n",
              "      <td>0</td>\n",
              "      <td>0</td>\n",
              "      <td>0</td>\n",
              "      <td>0</td>\n",
              "      <td>0</td>\n",
              "      <td>0</td>\n",
              "      <td>0</td>\n",
              "      <td>0</td>\n",
              "      <td>0</td>\n",
              "      <td>0</td>\n",
              "      <td>0</td>\n",
              "      <td>0</td>\n",
              "      <td>1</td>\n",
              "      <td>0</td>\n",
              "      <td>0</td>\n",
              "      <td>0</td>\n",
              "      <td>0</td>\n",
              "      <td>0</td>\n",
              "      <td>0</td>\n",
              "      <td>1</td>\n",
              "      <td>0</td>\n",
              "      <td>0</td>\n",
              "      <td>1</td>\n",
              "      <td>0</td>\n",
              "      <td>0</td>\n",
              "      <td>0</td>\n",
              "      <td>0</td>\n",
              "      <td>0</td>\n",
              "      <td>1</td>\n",
              "      <td>1</td>\n",
              "      <td>0</td>\n",
              "      <td>1</td>\n",
              "      <td>0</td>\n",
              "    </tr>\n",
              "    <tr>\n",
              "      <th>...</th>\n",
              "      <td>...</td>\n",
              "      <td>...</td>\n",
              "      <td>...</td>\n",
              "      <td>...</td>\n",
              "      <td>...</td>\n",
              "      <td>...</td>\n",
              "      <td>...</td>\n",
              "      <td>...</td>\n",
              "      <td>...</td>\n",
              "      <td>...</td>\n",
              "      <td>...</td>\n",
              "      <td>...</td>\n",
              "      <td>...</td>\n",
              "      <td>...</td>\n",
              "      <td>...</td>\n",
              "      <td>...</td>\n",
              "      <td>...</td>\n",
              "      <td>...</td>\n",
              "      <td>...</td>\n",
              "      <td>...</td>\n",
              "      <td>...</td>\n",
              "      <td>...</td>\n",
              "      <td>...</td>\n",
              "      <td>...</td>\n",
              "      <td>...</td>\n",
              "      <td>...</td>\n",
              "      <td>...</td>\n",
              "      <td>...</td>\n",
              "      <td>...</td>\n",
              "      <td>...</td>\n",
              "      <td>...</td>\n",
              "      <td>...</td>\n",
              "      <td>...</td>\n",
              "      <td>...</td>\n",
              "      <td>...</td>\n",
              "      <td>...</td>\n",
              "      <td>...</td>\n",
              "      <td>...</td>\n",
              "      <td>...</td>\n",
              "      <td>...</td>\n",
              "      <td>...</td>\n",
              "      <td>...</td>\n",
              "      <td>...</td>\n",
              "      <td>...</td>\n",
              "      <td>...</td>\n",
              "      <td>...</td>\n",
              "      <td>...</td>\n",
              "      <td>...</td>\n",
              "      <td>...</td>\n",
              "      <td>...</td>\n",
              "      <td>...</td>\n",
              "      <td>...</td>\n",
              "      <td>...</td>\n",
              "      <td>...</td>\n",
              "    </tr>\n",
              "    <tr>\n",
              "      <th>323</th>\n",
              "      <td>2019</td>\n",
              "      <td>69.0</td>\n",
              "      <td>88.0</td>\n",
              "      <td>4.320513</td>\n",
              "      <td>43.9490</td>\n",
              "      <td>0.00</td>\n",
              "      <td>80.0</td>\n",
              "      <td>65.0</td>\n",
              "      <td>72.5</td>\n",
              "      <td>0</td>\n",
              "      <td>0</td>\n",
              "      <td>0</td>\n",
              "      <td>1</td>\n",
              "      <td>0</td>\n",
              "      <td>0</td>\n",
              "      <td>0</td>\n",
              "      <td>0</td>\n",
              "      <td>0</td>\n",
              "      <td>0</td>\n",
              "      <td>0</td>\n",
              "      <td>0</td>\n",
              "      <td>0</td>\n",
              "      <td>0</td>\n",
              "      <td>0</td>\n",
              "      <td>0</td>\n",
              "      <td>0</td>\n",
              "      <td>0</td>\n",
              "      <td>0</td>\n",
              "      <td>0</td>\n",
              "      <td>0</td>\n",
              "      <td>0</td>\n",
              "      <td>0</td>\n",
              "      <td>0</td>\n",
              "      <td>0</td>\n",
              "      <td>0</td>\n",
              "      <td>0</td>\n",
              "      <td>0</td>\n",
              "      <td>0</td>\n",
              "      <td>0</td>\n",
              "      <td>0</td>\n",
              "      <td>0</td>\n",
              "      <td>1</td>\n",
              "      <td>0</td>\n",
              "      <td>0</td>\n",
              "      <td>0</td>\n",
              "      <td>0</td>\n",
              "      <td>0</td>\n",
              "      <td>1</td>\n",
              "      <td>0</td>\n",
              "      <td>1</td>\n",
              "      <td>1</td>\n",
              "      <td>0</td>\n",
              "      <td>0</td>\n",
              "      <td>1</td>\n",
              "    </tr>\n",
              "    <tr>\n",
              "      <th>324</th>\n",
              "      <td>2019</td>\n",
              "      <td>70.0</td>\n",
              "      <td>88.0</td>\n",
              "      <td>4.343949</td>\n",
              "      <td>44.3038</td>\n",
              "      <td>0.00</td>\n",
              "      <td>73.0</td>\n",
              "      <td>57.0</td>\n",
              "      <td>65.0</td>\n",
              "      <td>0</td>\n",
              "      <td>0</td>\n",
              "      <td>0</td>\n",
              "      <td>1</td>\n",
              "      <td>0</td>\n",
              "      <td>0</td>\n",
              "      <td>0</td>\n",
              "      <td>0</td>\n",
              "      <td>0</td>\n",
              "      <td>0</td>\n",
              "      <td>0</td>\n",
              "      <td>0</td>\n",
              "      <td>0</td>\n",
              "      <td>0</td>\n",
              "      <td>0</td>\n",
              "      <td>0</td>\n",
              "      <td>0</td>\n",
              "      <td>0</td>\n",
              "      <td>0</td>\n",
              "      <td>0</td>\n",
              "      <td>0</td>\n",
              "      <td>0</td>\n",
              "      <td>0</td>\n",
              "      <td>0</td>\n",
              "      <td>0</td>\n",
              "      <td>0</td>\n",
              "      <td>0</td>\n",
              "      <td>0</td>\n",
              "      <td>0</td>\n",
              "      <td>0</td>\n",
              "      <td>1</td>\n",
              "      <td>0</td>\n",
              "      <td>0</td>\n",
              "      <td>0</td>\n",
              "      <td>0</td>\n",
              "      <td>0</td>\n",
              "      <td>0</td>\n",
              "      <td>0</td>\n",
              "      <td>1</td>\n",
              "      <td>0</td>\n",
              "      <td>1</td>\n",
              "      <td>1</td>\n",
              "      <td>0</td>\n",
              "      <td>0</td>\n",
              "      <td>1</td>\n",
              "    </tr>\n",
              "    <tr>\n",
              "      <th>325</th>\n",
              "      <td>2019</td>\n",
              "      <td>72.0</td>\n",
              "      <td>89.0</td>\n",
              "      <td>4.381250</td>\n",
              "      <td>44.7205</td>\n",
              "      <td>0.99</td>\n",
              "      <td>69.0</td>\n",
              "      <td>62.0</td>\n",
              "      <td>65.5</td>\n",
              "      <td>0</td>\n",
              "      <td>0</td>\n",
              "      <td>0</td>\n",
              "      <td>0</td>\n",
              "      <td>1</td>\n",
              "      <td>0</td>\n",
              "      <td>0</td>\n",
              "      <td>0</td>\n",
              "      <td>0</td>\n",
              "      <td>0</td>\n",
              "      <td>0</td>\n",
              "      <td>0</td>\n",
              "      <td>0</td>\n",
              "      <td>0</td>\n",
              "      <td>0</td>\n",
              "      <td>0</td>\n",
              "      <td>0</td>\n",
              "      <td>0</td>\n",
              "      <td>0</td>\n",
              "      <td>0</td>\n",
              "      <td>0</td>\n",
              "      <td>0</td>\n",
              "      <td>0</td>\n",
              "      <td>0</td>\n",
              "      <td>0</td>\n",
              "      <td>0</td>\n",
              "      <td>0</td>\n",
              "      <td>0</td>\n",
              "      <td>0</td>\n",
              "      <td>1</td>\n",
              "      <td>0</td>\n",
              "      <td>0</td>\n",
              "      <td>0</td>\n",
              "      <td>0</td>\n",
              "      <td>0</td>\n",
              "      <td>0</td>\n",
              "      <td>0</td>\n",
              "      <td>0</td>\n",
              "      <td>1</td>\n",
              "      <td>1</td>\n",
              "      <td>0</td>\n",
              "      <td>0</td>\n",
              "      <td>1</td>\n",
              "      <td>1</td>\n",
              "      <td>0</td>\n",
              "    </tr>\n",
              "    <tr>\n",
              "      <th>328</th>\n",
              "      <td>2019</td>\n",
              "      <td>27.0</td>\n",
              "      <td>29.0</td>\n",
              "      <td>4.290909</td>\n",
              "      <td>48.2143</td>\n",
              "      <td>0.12</td>\n",
              "      <td>80.0</td>\n",
              "      <td>61.0</td>\n",
              "      <td>70.5</td>\n",
              "      <td>0</td>\n",
              "      <td>0</td>\n",
              "      <td>0</td>\n",
              "      <td>1</td>\n",
              "      <td>0</td>\n",
              "      <td>0</td>\n",
              "      <td>0</td>\n",
              "      <td>0</td>\n",
              "      <td>0</td>\n",
              "      <td>0</td>\n",
              "      <td>0</td>\n",
              "      <td>0</td>\n",
              "      <td>0</td>\n",
              "      <td>0</td>\n",
              "      <td>0</td>\n",
              "      <td>0</td>\n",
              "      <td>0</td>\n",
              "      <td>0</td>\n",
              "      <td>0</td>\n",
              "      <td>0</td>\n",
              "      <td>0</td>\n",
              "      <td>0</td>\n",
              "      <td>0</td>\n",
              "      <td>0</td>\n",
              "      <td>0</td>\n",
              "      <td>0</td>\n",
              "      <td>0</td>\n",
              "      <td>0</td>\n",
              "      <td>0</td>\n",
              "      <td>0</td>\n",
              "      <td>1</td>\n",
              "      <td>0</td>\n",
              "      <td>0</td>\n",
              "      <td>0</td>\n",
              "      <td>0</td>\n",
              "      <td>0</td>\n",
              "      <td>0</td>\n",
              "      <td>1</td>\n",
              "      <td>0</td>\n",
              "      <td>0</td>\n",
              "      <td>1</td>\n",
              "      <td>1</td>\n",
              "      <td>0</td>\n",
              "      <td>0</td>\n",
              "      <td>1</td>\n",
              "    </tr>\n",
              "    <tr>\n",
              "      <th>329</th>\n",
              "      <td>2019</td>\n",
              "      <td>46.0</td>\n",
              "      <td>60.0</td>\n",
              "      <td>4.047619</td>\n",
              "      <td>43.3962</td>\n",
              "      <td>0.00</td>\n",
              "      <td>80.0</td>\n",
              "      <td>60.0</td>\n",
              "      <td>70.0</td>\n",
              "      <td>0</td>\n",
              "      <td>0</td>\n",
              "      <td>0</td>\n",
              "      <td>0</td>\n",
              "      <td>0</td>\n",
              "      <td>0</td>\n",
              "      <td>0</td>\n",
              "      <td>0</td>\n",
              "      <td>0</td>\n",
              "      <td>0</td>\n",
              "      <td>0</td>\n",
              "      <td>0</td>\n",
              "      <td>1</td>\n",
              "      <td>0</td>\n",
              "      <td>0</td>\n",
              "      <td>0</td>\n",
              "      <td>0</td>\n",
              "      <td>0</td>\n",
              "      <td>0</td>\n",
              "      <td>0</td>\n",
              "      <td>0</td>\n",
              "      <td>0</td>\n",
              "      <td>0</td>\n",
              "      <td>0</td>\n",
              "      <td>0</td>\n",
              "      <td>0</td>\n",
              "      <td>0</td>\n",
              "      <td>0</td>\n",
              "      <td>0</td>\n",
              "      <td>0</td>\n",
              "      <td>1</td>\n",
              "      <td>0</td>\n",
              "      <td>0</td>\n",
              "      <td>0</td>\n",
              "      <td>1</td>\n",
              "      <td>0</td>\n",
              "      <td>0</td>\n",
              "      <td>0</td>\n",
              "      <td>0</td>\n",
              "      <td>1</td>\n",
              "      <td>0</td>\n",
              "      <td>0</td>\n",
              "      <td>1</td>\n",
              "      <td>0</td>\n",
              "      <td>1</td>\n",
              "    </tr>\n",
              "  </tbody>\n",
              "</table>\n",
              "<p>224 rows × 54 columns</p>\n",
              "</div>"
            ],
            "text/plain": [
              "     Season  Wins  Losses  ...  f4p_y_n_1  b_b_y_n_0  b_b_y_n_1\n",
              "82     2017   0.0     1.0  ...          0          1          0\n",
              "84     2017   1.0     1.0  ...          0          1          0\n",
              "85     2017  27.0    35.0  ...          0          1          0\n",
              "86     2017   1.0     2.0  ...          0          1          0\n",
              "87     2017  41.0    63.0  ...          0          1          0\n",
              "..      ...   ...     ...  ...        ...        ...        ...\n",
              "323    2019  69.0    88.0  ...          0          0          1\n",
              "324    2019  70.0    88.0  ...          0          0          1\n",
              "325    2019  72.0    89.0  ...          1          1          0\n",
              "328    2019  27.0    29.0  ...          0          0          1\n",
              "329    2019  46.0    60.0  ...          1          0          1\n",
              "\n",
              "[224 rows x 54 columns]"
            ]
          },
          "metadata": {
            "tags": []
          },
          "execution_count": 52
        }
      ]
    },
    {
      "cell_type": "code",
      "metadata": {
        "id": "RX2xQh-8mRwF",
        "colab_type": "code",
        "outputId": "4e0a0718-d44e-411b-99f7-593ccb65cadc",
        "colab": {
          "base_uri": "https://localhost:8080/",
          "height": 295
        }
      },
      "source": [
        "df = ss.inverse_transform(X_test)\n",
        "df = pd.DataFrame(df)      \n",
        "df[54] = np.where(df[53]==1,'y','k') ##bleachers and brews\n",
        "df[55] = np.where(df[51]==1,'r','k') ##f4p \n",
        "\n",
        "def f(row):\n",
        "    if row[54] == 'y':\n",
        "        if row[55] == 'r':\n",
        "          val = 'y' ##both\n",
        "        else:\n",
        "          val = 'm' ##bnb\n",
        "    elif row[55] == 'r':\n",
        "        val = 'c'  ## f4P\n",
        "    else:\n",
        "        val = 'k'\n",
        "    return val\n",
        "\n",
        "df[56] = df.apply(f,axis =1)\n",
        "\n",
        "colors = df[56]\n",
        "\n",
        "y_predicted = gbr2.predict(X_test)\n",
        "fig, ax = plt.subplots()\n",
        "ax.scatter(y_test, y_predicted, c=colors,edgecolors=(0, 0, 0))\n",
        "ax.plot([y_test.min(), y_test.max()], [y_test.min(), y_test.max()], 'k--', lw=4)\n",
        "ax.set_xlabel('Actual')\n",
        "ax.set_ylabel('Predicted')\n",
        "ax.set_title(\"Ground Truth vs Predicted\")\n",
        "plt.show()\n"
      ],
      "execution_count": 0,
      "outputs": [
        {
          "output_type": "display_data",
          "data": {
            "image/png": "[encoded data removed]",
            "text/plain": [
              "<Figure size 432x288 with 1 Axes>"
            ]
          },
          "metadata": {
            "tags": [],
            "needs_background": "light"
          }
        }
      ]
    },
    {
      "cell_type": "code",
      "metadata": {
        "id": "c__Ynz86xWJP",
        "colab_type": "code",
        "outputId": "bcddb922-5467-4fdf-f8ee-77e6415b5fb1",
        "colab": {
          "base_uri": "https://localhost:8080/",
          "height": 295
        }
      },
      "source": [
        "\n",
        "df2 = X.copy()\n",
        "##df2 = ss.inverse_transform(df2)\n",
        "##df2 = pd.DataFrame(df2)      \n",
        "\n",
        "##df2[57] = np.where(df2['b_b_y_n_0']==0,'y','k') ##bleachers and brews\n",
        "##df2[58] = np.where(df2['f4p_y_n_0']==0,'r','k') ##f4p \n",
        "\n",
        "def f(row):\n",
        "    if row[53] == 1:\n",
        "        if row[51] == 1:\n",
        "          val = 'y' ## both\n",
        "        else:\n",
        "          val = 'm' ## bleachers n brews\n",
        "    elif row[51] == 1:\n",
        "        val = 'c' ##f4p\n",
        "    else:\n",
        "        val = 'k' ##none\n",
        "    return val\n",
        "\n",
        "df2[54] = df2.apply(f,axis =1)\n",
        "\n",
        "\n",
        "\n",
        "y_predicted_full = gbr2.predict(Xscaled)\n",
        "df2['pred']=y_predicted_full\n",
        "df2['actuals'] =y\n",
        "df2=df2.loc[df2[54]!='k']\n",
        "colors2 = df2[54]\n",
        "\n",
        "fig, ax = plt.subplots()\n",
        "ax.scatter(df2['actuals'], df2['pred'],c=colors2, edgecolors=(0, 0, 0))\n",
        "ax.plot([y_test.min(), y_test.max()], [y_test.min(), y_test.max()], 'k--', lw=4)\n",
        "ax.set_xlabel('Actual')\n",
        "ax.set_ylabel('Predicted')\n",
        "ax.set_title(\"Ground Truth vs Predicted\")\n",
        "plt.show()"
      ],
      "execution_count": 0,
      "outputs": [
        {
          "output_type": "display_data",
          "data": {
            "image/png": "[encoded data removed]",
            "text/plain": [
              "<Figure size 432x288 with 1 Axes>"
            ]
          },
          "metadata": {
            "tags": [],
            "needs_background": "light"
          }
        }
      ]
    },
    {
      "cell_type": "code",
      "metadata": {
        "id": "ccW8HJmUgiaL",
        "colab_type": "code",
        "colab": {}
      },
      "source": [
        "\n",
        "attendance.to_csv('Concession Revenue Model Data.csv')\n",
        "files.download('Concession Revenue Model Data.csv')"
      ],
      "execution_count": 0,
      "outputs": []
    },
    {
      "cell_type": "code",
      "metadata": {
        "id": "eL6CPX6txPuk",
        "colab_type": "code",
        "outputId": "f04e50a4-2727-4faa-caa7-cd54f0d202f2",
        "colab": {
          "base_uri": "https://localhost:8080/",
          "height": 414
        }
      },
      "source": [
        "gbr2_featimp[0:15].plot(x='index', y='importance', kind='bar', rot =80)\n",
        "# plt.title('Feature Importances', fontsize=25)\n",
        "plt.xlabel('   ')\n",
        "plt.ylabel('Importance')\n",
        "plt.legend().set_visible(False)"
      ],
      "execution_count": 0,
      "outputs": [
        {
          "output_type": "display_data",
          "data": {
            "image/png": "[encoded data removed]",
            "text/plain": [
              "<Figure size 432x288 with 1 Axes>"
            ]
          },
          "metadata": {
            "tags": [],
            "needs_background": "light"
          }
        }
      ]
    },
    {
      "cell_type": "code",
      "metadata": {
        "id": "uS7j5koSl_xY",
        "colab_type": "code",
        "outputId": "d9b9f0de-9207-48d6-ca07-d9b45a6556a0",
        "colab": {
          "base_uri": "https://localhost:8080/",
          "height": 401
        }
      },
      "source": [
        "#Gradient Boosting Regressor for F4P\n",
        "\n",
        "X = attendance_f4p.drop(['EventName', 'EventDateKey', 'EventDate', 'TotalScans','PaidIssued','Year', 'Event Name', 'B&B Sold', 'F4P Sold', 'Unnamed: 4',\n",
        "                     'concession_rev_bnb', 'concession_rev_f4p', 'Date', 'Occurences', 'RunsScored', 'STATION', 'NAME', 'DATE', 'DATEKEY'], axis = 1)\n",
        "X = pd.get_dummies(X)\n",
        "y= attendance_f4p.concession_rev_f4p\n",
        "ss = StandardScaler()\n",
        "Xscaled = ss.fit_transform(X)\n",
        "X_train, X_test, y_train, y_test = train_test_split(Xscaled, y, test_size = 0.3, random_state = 86)\n",
        "gbr = GradientBoostingRegressor(n_estimators=300)\n",
        "%time evaluate(gbr)\n",
        "##R^2 = 0.53198"
      ],
      "execution_count": 0,
      "outputs": [
        {
          "output_type": "stream",
          "text": [
            "R^2 score: 0.527263202864911\n",
            "Cross Validation Score: 0.43879 ± 0.16779\n",
            "Model Performance\n",
            "Average Error: 12115.8731 degrees.\n",
            "Accuracy = 62.45%.\n"
          ],
          "name": "stdout"
        },
        {
          "output_type": "display_data",
          "data": {
            "image/png": "[encoded data removed]",
            "text/plain": [
              "<Figure size 432x288 with 1 Axes>"
            ]
          },
          "metadata": {
            "tags": [],
            "needs_background": "light"
          }
        },
        {
          "output_type": "stream",
          "text": [
            "CPU times: user 451 ms, sys: 224 ms, total: 674 ms\n",
            "Wall time: 2.62 s\n"
          ],
          "name": "stdout"
        }
      ]
    },
    {
      "cell_type": "code",
      "metadata": {
        "id": "JO3Br0I0mM-D",
        "colab_type": "code",
        "outputId": "d4e064f5-a277-4ec4-a33a-968fa964cede",
        "colab": {
          "base_uri": "https://localhost:8080/",
          "height": 69
        }
      },
      "source": [
        "%time gbr_gs()\n"
      ],
      "execution_count": 0,
      "outputs": [
        {
          "output_type": "stream",
          "text": [
            "{'learning_rate': 0.15, 'max_depth': 3, 'max_features': 3, 'min_samples_leaf': 1, 'min_samples_split': 3, 'n_estimators': 300} 0.6395622846067975\n",
            "CPU times: user 1min 2s, sys: 1.13 s, total: 1min 3s\n",
            "Wall time: 26min 14s\n"
          ],
          "name": "stdout"
        }
      ]
    },
    {
      "cell_type": "code",
      "metadata": {
        "id": "G1JcLPGjmROt",
        "colab_type": "code",
        "outputId": "1894cbd3-19ff-457f-8b92-fde66f9d7049",
        "colab": {
          "base_uri": "https://localhost:8080/",
          "height": 401
        }
      },
      "source": [
        "gbr2 = GradientBoostingRegressor(n_estimators=300, max_features= 3, max_depth=3, min_samples_leaf= 1, min_samples_split= 3, learning_rate=0.15)\n",
        "%time evaluate(gbr2)\n",
        "\n",
        "##R^2 = 0.68651 (n_estimators=400, max_features= 'sqrt', max_depth=6, min_samples_leaf= 1, min_samples_split= 3, learning_rate=0.1)\n",
        "##R^2 = 0.68651 (n_estimators=100, max_features= 'sqrt', max_depth=4, min_samples_leaf= 3, min_samples_split= 3, learning_rate=0.1)"
      ],
      "execution_count": 0,
      "outputs": [
        {
          "output_type": "stream",
          "text": [
            "R^2 score: 0.5065637427343187\n",
            "Cross Validation Score: 0.37559 ± 0.22162\n",
            "Model Performance\n",
            "Average Error: 12310.6260 degrees.\n",
            "Accuracy = 63.01%.\n"
          ],
          "name": "stdout"
        },
        {
          "output_type": "display_data",
          "data": {
            "image/png": "[encoded data removed]",
            "text/plain": [
              "<Figure size 432x288 with 1 Axes>"
            ]
          },
          "metadata": {
            "tags": [],
            "needs_background": "light"
          }
        },
        {
          "output_type": "stream",
          "text": [
            "CPU times: user 305 ms, sys: 107 ms, total: 412 ms\n",
            "Wall time: 629 ms\n"
          ],
          "name": "stdout"
        }
      ]
    },
    {
      "cell_type": "code",
      "metadata": {
        "id": "82DSg5vnmU0H",
        "colab_type": "code",
        "outputId": "71dd40eb-bfcc-422a-da3f-09811f1f5384",
        "colab": {
          "base_uri": "https://localhost:8080/",
          "height": 971
        }
      },
      "source": [
        "gbr2_featimp = feat_imp(gbr2)\n"
      ],
      "execution_count": 0,
      "outputs": [
        {
          "output_type": "stream",
          "text": [
            "                          index  importance\n",
            "0              DayName_Saturday    0.133603\n",
            "1             Team_CHICAGO CUBS    0.093132\n",
            "2                       Win_pct    0.081820\n",
            "3                          Wins    0.073495\n",
            "4   Season Rolling Average Runs    0.065662\n",
            "5               DayName_Tuesday    0.053909\n",
            "6                          TMIN    0.046578\n",
            "7                      temp_avg    0.043511\n",
            "8                MonthName_July    0.042535\n",
            "9                        Losses    0.031884\n",
            "10          Team_BOSTON RED SOX    0.029927\n",
            "11                         TMAX    0.027845\n",
            "12                         PRCP    0.026288\n",
            "13               DayName_Monday    0.022883\n",
            "14                    f4p_y_n_1    0.015141\n",
            "15          Team_TAMPA BAY RAYS    0.014802\n",
            "16          MonthName_September    0.014722\n",
            "17               DayName_Sunday    0.014663\n",
            "18      Team_KANSAS CITY ROYALS    0.014238\n",
            "19            DayName_Wednesday    0.012911\n",
            "20                       Season    0.011865\n",
            "21       Team_OAKLAND ATHLETICS    0.011600\n",
            "22             DayName_Thursday    0.010588\n",
            "23                Day_Night_day    0.010112\n",
            "24       Team_BALTIMORE ORIOLES    0.010083\n",
            "25               DayName_Friday    0.008495\n",
            "26                    b_b_y_n_0    0.007785\n",
            "27               Team_SF GIANTS    0.007207\n",
            "28              Day_Night_night    0.006714\n",
            "29             MonthName_August    0.006653\n",
            "30       Team_MILWAUKEE BREWERS    0.006101\n",
            "31          Team_DETROIT TIGERS    0.005330\n",
            "32         Team_MINNESOTA TWINS    0.005176\n",
            "33              MonthName_April    0.004982\n",
            "34       Team_CLEVELAND INDIANS    0.004879\n",
            "35                    f4p_y_n_0    0.003881\n",
            "36                    b_b_y_n_1    0.003764\n",
            "37           Team_MIAMI MARLINS    0.003031\n",
            "38       Team_TORONTO BLUE JAYS    0.002973\n",
            "39      Team_LOS ANGELES ANGELS    0.002230\n",
            "40     Team_LOS ANGELES DODGERS    0.001635\n",
            "41               MonthName_June    0.001400\n",
            "42        Team_SEATTLE MARINERS    0.001209\n",
            "43              Team_NY YANKEES    0.000364\n",
            "44        Team_SAN DIEGO PADRES    0.000363\n",
            "45                MonthName_May    0.000347\n",
            "46        Team_NEW YORK YANKEES    0.000323\n",
            "47           Team_TEXAS RANGERS    0.000266\n",
            "48          Team_HOUSTON ASTROS    0.000259\n",
            "49    Team_WASHINGTON NATIONALS    0.000236\n",
            "50     Team_ST. LOUIS CARDINALS    0.000205\n",
            "51      Team_PITTSBURGH PIRATES    0.000191\n",
            "52           Team_NEW YORK METS    0.000127\n",
            "53         Team_RAINED OUT 5/27    0.000078\n"
          ],
          "name": "stdout"
        }
      ]
    },
    {
      "cell_type": "code",
      "metadata": {
        "id": "fMphlA53meXo",
        "colab_type": "code",
        "outputId": "bb4f7bf2-50a0-4959-96d6-fde903578237",
        "colab": {
          "base_uri": "https://localhost:8080/",
          "height": 295
        }
      },
      "source": [
        "df = ss.inverse_transform(X_test)\n",
        "df = pd.DataFrame(df)      \n",
        "df[54] = np.where(df[53]==1,'y','k') ##bleachers and brews\n",
        "df[55] = np.where(df[51]==1,'r','k') ##f4p \n",
        "\n",
        "def f(row):\n",
        "    if row[54] == 'y':\n",
        "        if row[55] == 'r':\n",
        "          val = 'y' ##both\n",
        "        else:\n",
        "          val = 'm' ##bnb\n",
        "    elif row[55] == 'r':\n",
        "        val = 'c'  ## f4P\n",
        "    else:\n",
        "        val = 'k'\n",
        "    return val\n",
        "\n",
        "df[56] = df.apply(f,axis =1)\n",
        "\n",
        "colors = df[56]\n",
        "\n",
        "y_predicted = gbr2.predict(X_test)\n",
        "fig, ax = plt.subplots()\n",
        "ax.scatter(y_test, y_predicted, c=colors,edgecolors=(0, 0, 0))\n",
        "ax.plot([y_test.min(), y_test.max()], [y_test.min(), y_test.max()], 'k--', lw=4)\n",
        "ax.set_xlabel('Actual')\n",
        "ax.set_ylabel('Predicted')\n",
        "ax.set_title(\"Ground Truth vs Predicted\")\n",
        "plt.show()\n"
      ],
      "execution_count": 0,
      "outputs": [
        {
          "output_type": "display_data",
          "data": {
            "image/png": "[encoded data removed]",
            "text/plain": [
              "<Figure size 432x288 with 1 Axes>"
            ]
          },
          "metadata": {
            "tags": [],
            "needs_background": "light"
          }
        }
      ]
    },
    {
      "cell_type": "code",
      "metadata": {
        "id": "xJOzNIowsyWw",
        "colab_type": "code",
        "outputId": "c00d31d7-5b08-450c-dfe4-ce77f94f981e",
        "colab": {
          "base_uri": "https://localhost:8080/",
          "height": 417
        }
      },
      "source": [
        "gbr2_featimp[0:15].plot(x='index', y='importance', kind='bar',rot=80)\n",
        "# plt.title('Feature Importances', fontsize=25)\n",
        "plt.xlabel('   ')\n",
        "plt.ylabel('Importance')\n",
        "plt.legend().set_visible(False)"
      ],
      "execution_count": 0,
      "outputs": [
        {
          "output_type": "display_data",
          "data": {
            "image/png": "[encoded data removed]",
            "text/plain": [
              "<Figure size 432x288 with 1 Axes>"
            ]
          },
          "metadata": {
            "tags": [],
            "needs_background": "light"
          }
        }
      ]
    }
  ]
}