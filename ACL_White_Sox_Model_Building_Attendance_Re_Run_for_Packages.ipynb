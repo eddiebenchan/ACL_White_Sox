{
  "nbformat": 4,
  "nbformat_minor": 0,
  "metadata": {
    "colab": {
      "name": "ACL White Sox Model Building Re-Run for Packages.ipynb",
      "provenance": [],
      "collapsed_sections": [],
      "authorship_tag": "ABX9TyMluGHyBySeEVvKPav6/pDB",
      "include_colab_link": true
    },
    "kernelspec": {
      "name": "python3",
      "display_name": "Python 3"
    }
  },
  "cells": [
    {
      "cell_type": "markdown",
      "metadata": {
        "id": "view-in-github",
        "colab_type": "text"
      },
      "source": [
        "<a href=\"https://colab.research.google.com/github/eddiebenchan/ACL_White_Sox/blob/master/ACL_White_Sox_Model_Building_Attendance_Re_Run_for_Packages.ipynb\" target=\"_parent\"><img src=\"https://colab.research.google.com/assets/colab-badge.svg\" alt=\"Open In Colab\"/></a>"
      ]
    },
    {
      "cell_type": "code",
      "metadata": {
        "id": "lF-EUNwNzdfO",
        "colab_type": "code",
        "outputId": "902768dc-fb7b-4c97-cf0f-30931a2da2df",
        "colab": {
          "base_uri": "https://localhost:8080/",
          "height": 52
        }
      },
      "source": [
        "##imports\n",
        "import pandas as pd\n",
        "from google.colab import files\n",
        "import io\n",
        "import numpy as np\n",
        "import seaborn as sns\n",
        "import matplotlib.pyplot as plt"
      ],
      "execution_count": 0,
      "outputs": [
        {
          "output_type": "stream",
          "text": [
            "/usr/local/lib/python3.6/dist-packages/statsmodels/tools/_testing.py:19: FutureWarning: pandas.util.testing is deprecated. Use the functions in the public API at pandas.testing instead.\n",
            "  import pandas.util.testing as tm\n"
          ],
          "name": "stderr"
        }
      ]
    },
    {
      "cell_type": "code",
      "metadata": {
        "id": "0Ykplx01PCk-",
        "colab_type": "code",
        "outputId": "f590c82d-b599-48c2-a298-964b39f7dd5c",
        "colab": {
          "resources": {
            "http://localhost:8080/nbextensions/google.colab/files.js": {
              "data": "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",
              "ok": true,
              "headers": [
                [
                  "content-type",
                  "application/javascript"
                ]
              ],
              "status": 200,
              "status_text": ""
            }
          },
          "base_uri": "https://localhost:8080/",
          "height": 353
        }
      },
      "source": [
        "##add the csvs \n",
        "uploaded = files.upload()"
      ],
      "execution_count": 0,
      "outputs": [
        {
          "output_type": "display_data",
          "data": {
            "text/html": [
              "\n",
              "     <input type=\"file\" id=\"files-c88250e7-15c8-455c-9c17-2499f1686a23\" name=\"files[]\" multiple disabled />\n",
              "     <output id=\"result-c88250e7-15c8-455c-9c17-2499f1686a23\">\n",
              "      Upload widget is only available when the cell has been executed in the\n",
              "      current browser session. Please rerun this cell to enable.\n",
              "      </output>\n",
              "      <script src=\"/nbextensions/google.colab/files.js\"></script> "
            ],
            "text/plain": [
              "<IPython.core.display.HTML object>"
            ]
          },
          "metadata": {
            "tags": []
          }
        },
        {
          "output_type": "stream",
          "text": [
            "Saving 2016_rev.csv to 2016_rev.csv\n",
            "Saving 2017_rev.csv to 2017_rev.csv\n",
            "Saving 2018_rev.csv to 2018_rev.csv\n",
            "Saving 2019_rev.csv to 2019_rev.csv\n",
            "Saving B&B and F4P Data_Eddie.csv to B&B and F4P Data_Eddie.csv\n",
            "Saving Chicago_weather.csv to Chicago_weather.csv\n",
            "Saving White Sox Attendance by game 2016-2019.csv to White Sox Attendance by game 2016-2019.csv\n",
            "Saving White Sox Promotions 2016-2019.csv to White Sox Promotions 2016-2019.csv\n",
            "Saving White Sox Records.csv to White Sox Records.csv\n"
          ],
          "name": "stdout"
        }
      ]
    },
    {
      "cell_type": "code",
      "metadata": {
        "id": "7ZcnLNQePWlb",
        "colab_type": "code",
        "colab": {}
      },
      "source": [
        "## save to pandas\n",
        "bnb_f4p = pd.read_csv(io.StringIO(uploaded['B&B and F4P Data_Eddie.csv'].decode('utf-8')))\n",
        "attendance_2016_2019 = pd.read_csv(io.StringIO(uploaded['White Sox Attendance by game 2016-2019.csv'].decode('utf-8')))\n",
        "promo_2016_2019 = pd.read_csv(io.StringIO(uploaded['White Sox Promotions 2016-2019.csv'].decode('utf-8')))\n",
        "rev_2016 = pd.read_csv(io.StringIO(uploaded['2016_rev.csv'].decode('utf-8')))\n",
        "rev_2017 = pd.read_csv(io.StringIO(uploaded['2017_rev.csv'].decode('utf-8')))\n",
        "rev_2018 = pd.read_csv(io.StringIO(uploaded['2018_rev.csv'].decode('utf-8')))\n",
        "rev_2019 = pd.read_csv(io.StringIO(uploaded['2019_rev.csv'].decode('utf-8')))\n",
        "records = pd.read_csv(io.StringIO(uploaded['White Sox Records.csv'].decode('utf-8')))\n",
        "weather = pd.read_csv(io.StringIO(uploaded['Chicago_weather.csv'].decode('utf-8')))\n"
      ],
      "execution_count": 0,
      "outputs": []
    },
    {
      "cell_type": "code",
      "metadata": {
        "id": "3c8xWHDdQ8DY",
        "colab_type": "code",
        "colab": {}
      },
      "source": [
        "## adjust columns\n",
        "promo_2016_2019[\"game_date\"] = pd.DatetimeIndex(promo_2016_2019['game_time_local']).date\n",
        "attendance_2016_2019.EventDate = pd.to_datetime(attendance_2016_2019.EventDate)\n",
        "promo_2016_2019.game_date = pd.to_datetime(promo_2016_2019.game_date)\n",
        "attendance_2016_2019 = attendance_2016_2019.rename(columns={' PaidIssued ': 'PaidIssued'})\n",
        "attendance_2016_2019 = attendance_2016_2019.rename(columns={' TotalScans ': 'TotalScans'})\n",
        "attendance_2016_2019[\"PaidIssued\"] = attendance_2016_2019[\"PaidIssued\"].str.strip()\n",
        "attendance_2016_2019[\"TotalScans\"] = attendance_2016_2019[\"TotalScans\"].str.strip()\n",
        "attendance_2016_2019[\"PaidIssued\"] = attendance_2016_2019[\"PaidIssued\"].replace(\"-\", 0)\n",
        "attendance_2016_2019[\"TotalScans\"] = attendance_2016_2019[\"TotalScans\"].replace(\"-\", 0)\n",
        "attendance_2016_2019[\"PaidIssued\"] = attendance_2016_2019[\"PaidIssued\"].str.replace(\",\",\"\").astype(float)\n",
        "attendance_2016_2019[\"TotalScans\"] = attendance_2016_2019[\"TotalScans\"].str.replace(\",\",\"\").astype(float)\n",
        "attendance_2016_2019[\"PaidIssued\"] = attendance_2016_2019[\"PaidIssued\"].fillna(0)\n",
        "attendance_2016_2019[\"TotalScans\"] = attendance_2016_2019[\"TotalScans\"].fillna(0)\n",
        "records['Date'] = pd.to_datetime(records.Date)\n",
        "weather['DATE'] = pd.to_datetime(weather.DATE)\n",
        "\n",
        "records['Wins'] = records['Wins'].astype(str).astype(float)\n",
        "records['Losses'] = records['Losses'].astype(str).astype(float)\n",
        "records['Win_pct'] = records['Win_pct'].astype(str).str.strip('%').astype(float)\n",
        "weather[\"PRCP\"] = weather[\"PRCP\"].fillna(0)\n",
        "weather[\"temp_avg\"] = weather[\"temp_avg\"].fillna(0)\n",
        "weather[\"TMAX\"] = weather[\"TMAX\"].fillna(0)\n",
        "weather[\"TMIN\"] = weather[\"TMIN\"].fillna(0)"
      ],
      "execution_count": 0,
      "outputs": []
    },
    {
      "cell_type": "code",
      "metadata": {
        "id": "vRiHK2upP5-a",
        "colab_type": "code",
        "colab": {}
      },
      "source": [
        "revenue = rev_2016.append(rev_2017)\n",
        "revenue = revenue.append(rev_2018)\n",
        "revenue = revenue.append(rev_2019)\n",
        "\n",
        "##merging to a single dataframe\n",
        "attendance = pd.merge(attendance_2016_2019, bnb_f4p, left_on = (\"Season\", \"EventName\"), right_on = (\"Year\", \"Event Name\"), how = 'left')\n",
        "##attendance = pd.merge(attendance, promo_2016_2019, left_on = (\"EventDate\"), right_on = (\"game_date\"), how = 'left')\n",
        "attendance = pd.merge(attendance, revenue, left_on = (\"EventDateKey\"), right_on = (\"DateKey\"), how = 'left')\n",
        "attendance = pd.merge(attendance, records, left_on = \"EventDate\", right_on = \"Date\", how = \"left\")\n",
        "attendance = pd.merge(attendance, weather, left_on = \"EventDate\", right_on = \"DATE\", how = \"left\")\n",
        "\n",
        "##add columns\n",
        "attendance['f4p_y_n'] = attendance['F4P Sold'].apply(lambda x: '1' if x > 0 else '0')\n",
        "attendance['b_b_y_n'] = attendance['B&B Sold'].apply(lambda x: '1' if x > 0 else '0')\n",
        "attendance[\"F4P Sold\"] = attendance[\"F4P Sold\"].fillna(0)\n",
        "attendance[\"B&B Sold\"] = attendance[\"B&B Sold\"].fillna(0)\n",
        "attendance[\"Wins\"] = attendance[\"Wins\"].fillna(0)\n",
        "attendance[\"Losses\"] = attendance[\"Losses\"].fillna(0)\n",
        "attendance[\"Season Rolling Average Runs\"] = attendance[\"Season Rolling Average Runs\"].fillna(0)\n",
        "attendance[\"PRCP\"] = attendance[\"PRCP\"].fillna(0)\n",
        "attendance[\"temp_avg\"] = attendance[\"temp_avg\"].fillna(0)\n",
        "attendance[\"TMAX\"] = attendance[\"TMAX\"].fillna(0)\n",
        "attendance[\"TMIN\"] = attendance[\"TMIN\"].fillna(0)\n",
        "attendance[\"Win_pct\"] = attendance[\"Win_pct\"].fillna(0)\n",
        "\n",
        "##a = ['RAINED OUT 5/27', 'ST. LOUIS CARDINALS', 'PITTSBURGH PIRATES', 'PHILADELPHIA PHILLIES', 'LOS ANGELES DODGERS', \n",
        "##     'ATLANTA BRAVES', 'SF GIANTS', 'SAN DIEGO PADRES', 'NEW YORK METS', 'MILWAUKEE BREWERS', 'MIAMI MARLINS', 'NY YANKEES', 'WASHINGTON NATIONALS', 'CHICAGO CUBS']\n",
        "##attendance = attendance.replace(to_replace = ['RAINED OUT 5/27', 'ST. LOUIS CARDINALS', 'PITTSBURGH PIRATES', 'PHILADELPHIA PHILLIES', 'LOS ANGELES DODGERS', \n",
        "##     'ATLANTA BRAVES', 'SF GIANTS', 'SAN DIEGO PADRES', 'NEW YORK METS', 'MILWAUKEE BREWERS', 'MIAMI MARLINS', 'NY YANKEES', 'WASHINGTON NATIONALS', 'CHICAGO CUBS'],\n",
        "##     value = \"Other\")\n",
        "\n",
        "##Rain Outs to Remove: 4/10/2016, 4/5/2017, 5/8/2017, 5/10/2017\n",
        "##Doubleheaders to Remove: 5/23/2016, 5/27/2017, 8/21/2017, 4/28/2018. 6/5/2018, 6/22/2018, 9/28/2018, 5/1/2019, 7/3/2019, 8/6/2019, 8/13/2019, 9/28/2019,\n",
        "dates = [20160410, 20170405, 20170508, 20170510, 20160523, 20170527, 20170821, 20180428, 20180605, 20180622, 20180928, 20190501, 20190703, 20190806, 20190813, 20190928]\n",
        "attendance = attendance[~attendance['EventDateKey'].isin(dates)]"
      ],
      "execution_count": 0,
      "outputs": []
    },
    {
      "cell_type": "code",
      "metadata": {
        "id": "Ez_KHSDmi1D_",
        "colab_type": "code",
        "outputId": "d7c50c97-7373-4f24-86fd-34d90dd9c6fd",
        "colab": {
          "base_uri": "https://localhost:8080/",
          "height": 235
        }
      },
      "source": [
        "X = attendance.iloc[:,7].values.reshape(-1,1)\n",
        "Y = attendance.iloc[:,15].values.reshape(-1,1)\n",
        "linear_regressor = LinearRegression(fit_intercept = False)\n",
        "linear_regressor.fit(X,Y)\n",
        "Y_pred = linear_regressor.predict(X)\n",
        "plt.scatter(X,Y)\n",
        "plt.plot(X,Y_pred, color='red')\n",
        "plt.xlabel(\"Attendance\")\n",
        "plt.ylabel(\"Revenue\")\n",
        "plt.show()\n",
        "r_sq = linear_regressor.score(X,Y)\n",
        "print('coefficient of determination:', r_sq)\n",
        "print('intercept:', linear_regressor.intercept_)\n",
        "print('slope:', linear_regressor.coef_)"
      ],
      "execution_count": 0,
      "outputs": [
        {
          "output_type": "error",
          "ename": "NameError",
          "evalue": "ignored",
          "traceback": [
            "\u001b[0;31m---------------------------------------------------------------------------\u001b[0m",
            "\u001b[0;31mNameError\u001b[0m                                 Traceback (most recent call last)",
            "\u001b[0;32m<ipython-input-6-54a523d3b4c8>\u001b[0m in \u001b[0;36m<module>\u001b[0;34m()\u001b[0m\n\u001b[1;32m      1\u001b[0m \u001b[0mX\u001b[0m \u001b[0;34m=\u001b[0m \u001b[0mattendance\u001b[0m\u001b[0;34m.\u001b[0m\u001b[0miloc\u001b[0m\u001b[0;34m[\u001b[0m\u001b[0;34m:\u001b[0m\u001b[0;34m,\u001b[0m\u001b[0;36m7\u001b[0m\u001b[0;34m]\u001b[0m\u001b[0;34m.\u001b[0m\u001b[0mvalues\u001b[0m\u001b[0;34m.\u001b[0m\u001b[0mreshape\u001b[0m\u001b[0;34m(\u001b[0m\u001b[0;34m-\u001b[0m\u001b[0;36m1\u001b[0m\u001b[0;34m,\u001b[0m\u001b[0;36m1\u001b[0m\u001b[0;34m)\u001b[0m\u001b[0;34m\u001b[0m\u001b[0;34m\u001b[0m\u001b[0m\n\u001b[1;32m      2\u001b[0m \u001b[0mY\u001b[0m \u001b[0;34m=\u001b[0m \u001b[0mattendance\u001b[0m\u001b[0;34m.\u001b[0m\u001b[0miloc\u001b[0m\u001b[0;34m[\u001b[0m\u001b[0;34m:\u001b[0m\u001b[0;34m,\u001b[0m\u001b[0;36m15\u001b[0m\u001b[0;34m]\u001b[0m\u001b[0;34m.\u001b[0m\u001b[0mvalues\u001b[0m\u001b[0;34m.\u001b[0m\u001b[0mreshape\u001b[0m\u001b[0;34m(\u001b[0m\u001b[0;34m-\u001b[0m\u001b[0;36m1\u001b[0m\u001b[0;34m,\u001b[0m\u001b[0;36m1\u001b[0m\u001b[0;34m)\u001b[0m\u001b[0;34m\u001b[0m\u001b[0;34m\u001b[0m\u001b[0m\n\u001b[0;32m----> 3\u001b[0;31m \u001b[0mlinear_regressor\u001b[0m \u001b[0;34m=\u001b[0m \u001b[0mLinearRegression\u001b[0m\u001b[0;34m(\u001b[0m\u001b[0mfit_intercept\u001b[0m \u001b[0;34m=\u001b[0m \u001b[0;32mFalse\u001b[0m\u001b[0;34m)\u001b[0m\u001b[0;34m\u001b[0m\u001b[0;34m\u001b[0m\u001b[0m\n\u001b[0m\u001b[1;32m      4\u001b[0m \u001b[0mlinear_regressor\u001b[0m\u001b[0;34m.\u001b[0m\u001b[0mfit\u001b[0m\u001b[0;34m(\u001b[0m\u001b[0mX\u001b[0m\u001b[0;34m,\u001b[0m\u001b[0mY\u001b[0m\u001b[0;34m)\u001b[0m\u001b[0;34m\u001b[0m\u001b[0;34m\u001b[0m\u001b[0m\n\u001b[1;32m      5\u001b[0m \u001b[0mY_pred\u001b[0m \u001b[0;34m=\u001b[0m \u001b[0mlinear_regressor\u001b[0m\u001b[0;34m.\u001b[0m\u001b[0mpredict\u001b[0m\u001b[0;34m(\u001b[0m\u001b[0mX\u001b[0m\u001b[0;34m)\u001b[0m\u001b[0;34m\u001b[0m\u001b[0;34m\u001b[0m\u001b[0m\n",
            "\u001b[0;31mNameError\u001b[0m: name 'LinearRegression' is not defined"
          ]
        }
      ]
    },
    {
      "cell_type": "code",
      "metadata": {
        "id": "ojR02l5Pgpqf",
        "colab_type": "code",
        "colab": {}
      },
      "source": [
        "from sklearn.preprocessing import LabelEncoder, StandardScaler\n",
        "from sklearn.ensemble import RandomForestRegressor, GradientBoostingRegressor\n",
        "from sklearn.svm import SVR, LinearSVR\n",
        "from sklearn.model_selection import train_test_split, cross_val_score, GridSearchCV\n",
        "from sklearn.metrics import r2_score\n",
        "from statsmodels.tools.tools import add_constant\n",
        "from statsmodels.regression.linear_model import OLS\n",
        "import time\n",
        "from sklearn.ensemble import GradientBoostingClassifier\n",
        "from sklearn.model_selection import RandomizedSearchCV\n",
        "from sklearn.tree import plot_tree\n",
        "from sklearn import tree\n",
        "import pydotplus\n",
        "from IPython.display import Image \n",
        "from sklearn.metrics import mean_squared_error\n",
        "from sklearn.metrics import mean_absolute_error\n",
        "from sklearn import datasets\n",
        "import xgboost as xgb\n",
        "from xgboost import XGBClassifier\n",
        "from xgboost import XGBRegressor\n",
        "from sklearn.metrics import precision_score, recall_score, accuracy_score,explained_variance_score\n",
        "from sklearn.linear_model import LinearRegression\n",
        "\n",
        "\n",
        "X = attendance.drop(['EventName', 'EventDateKey', 'EventDate', 'TotalScans','PaidIssued','Year', 'Event Name', 'B&B Sold', 'F4P Sold', 'Unnamed: 4',\n",
        "                     'DateKey','Revenue', 'Date', 'Occurences', 'RunsScored', 'STATION', 'NAME', 'DATE', 'DATEKEY'], axis = 1)\n",
        "X = pd.get_dummies(X)\n",
        "y= attendance.TotalScans\n"
      ],
      "execution_count": 0,
      "outputs": []
    },
    {
      "cell_type": "code",
      "metadata": {
        "id": "a416KPIFiHN8",
        "colab_type": "code",
        "colab": {}
      },
      "source": [
        "ss = StandardScaler()\n",
        "Xscaled = ss.fit_transform(X)\n",
        "Xscaled = add_constant(Xscaled)"
      ],
      "execution_count": 0,
      "outputs": []
    },
    {
      "cell_type": "code",
      "metadata": {
        "id": "8Rxn79qvivSd",
        "colab_type": "code",
        "outputId": "e7d75105-78a5-490e-b7d1-0275ecabdc3d",
        "colab": {
          "base_uri": "https://localhost:8080/",
          "height": 34
        }
      },
      "source": [
        "X_train, X_test, y_train, y_test = train_test_split(Xscaled, y, test_size = 0.3, random_state = 86)\n",
        "lin_model = OLS(y_train, X_train).fit()\n",
        "\n",
        "lin_pred = lin_model.predict(X_test)\n",
        "lin_model_score = r2_score(y_test, lin_pred)\n",
        "\n",
        "print (\"R^2 score:\", lin_model_score)\n"
      ],
      "execution_count": 0,
      "outputs": [
        {
          "output_type": "stream",
          "text": [
            "R^2 score: 0.278987574237198\n"
          ],
          "name": "stdout"
        }
      ]
    },
    {
      "cell_type": "code",
      "metadata": {
        "id": "0AcO7GOTjC59",
        "colab_type": "code",
        "colab": {}
      },
      "source": [
        "def evaluate(model):        \n",
        "    model.fit(X_train, y_train)\n",
        "    pred = model.predict(X_test)\n",
        "    model_score = r2_score(y_test, pred)\n",
        "    \n",
        "    s = cross_val_score(model, X, y, cv=5, scoring='r2', n_jobs=-1)\n",
        "        \n",
        "    print (\"R^2 score:\", model_score)\n",
        "    print (\"Cross Validation Score: {:0.5} ± {:0.5}\".format(s.mean().round(5), s.std().round(5)))\n",
        "    \n",
        "  \n",
        "    errors = abs(pred - y_test)\n",
        "    mape = 100 * np.mean(errors / y_test)\n",
        "    accuracy = 100 - mape\n",
        "    print('Model Performance')\n",
        "    print('Average Error: {:0.4f} degrees.'.format(np.mean(errors)))\n",
        "    print('Accuracy = {:0.2f}%.'.format(accuracy))\n",
        "\n",
        "    df = pd.DataFrame(columns=['attendance', 'predictions', 'residuals'])\n",
        "    df.attendance = y\n",
        "    df.predictions = model.predict(Xscaled)\n",
        "    df.residuals = df.attendance - df.predictions\n",
        "    df.plot(x='predictions', y='residuals', kind='scatter')\n",
        "    plt.show()"
      ],
      "execution_count": 0,
      "outputs": []
    },
    {
      "cell_type": "code",
      "metadata": {
        "id": "i9xoGNhzjFU6",
        "colab_type": "code",
        "colab": {}
      },
      "source": [
        "def feat_imp(model):\n",
        "    feature_importances = pd.DataFrame(model.feature_importances_, index = X.columns, columns=['importance']\n",
        "                                      ).sort_values('importance', ascending=False).reset_index()\n",
        "    print (feature_importances)\n",
        "    return feature_importances"
      ],
      "execution_count": 0,
      "outputs": []
    },
    {
      "cell_type": "code",
      "metadata": {
        "id": "MzKNxj5pjUdb",
        "colab_type": "code",
        "outputId": "1237ff09-6dad-408e-c66c-340927fb5d1f",
        "colab": {
          "base_uri": "https://localhost:8080/",
          "height": 402
        }
      },
      "source": [
        "## Random Forest\n",
        "X = attendance.drop(['EventName', 'EventDateKey', 'EventDate', 'TotalScans','PaidIssued','Year', 'Event Name', 'B&B Sold', 'F4P Sold', 'Unnamed: 4',\n",
        "                     'DateKey','Revenue', 'Date', 'Occurences', 'RunsScored', 'STATION', 'NAME', 'DATE', 'DATEKEY'], axis = 1)\n",
        "X = pd.get_dummies(X)\n",
        "y= attendance.TotalScans\n",
        "ss = StandardScaler()\n",
        "Xscaled = ss.fit_transform(X)\n",
        "X_train, X_test, y_train, y_test = train_test_split(Xscaled, y, test_size = 0.3, random_state = 86)\n",
        "rf = RandomForestRegressor(n_estimators=300)\n",
        "%time evaluate(rf)\n",
        "##.65"
      ],
      "execution_count": 0,
      "outputs": [
        {
          "output_type": "stream",
          "text": [
            "R^2 score: 0.5427215421389892\n",
            "Cross Validation Score: 0.42708 ± 0.28929\n",
            "Model Performance\n",
            "Average Error: 4087.5776 degrees.\n",
            "Accuracy = 72.96%.\n"
          ],
          "name": "stdout"
        },
        {
          "output_type": "display_data",
          "data": {
            "image/png": "[encoded data removed]",
            "text/plain": [
              "<Figure size 432x288 with 1 Axes>"
            ]
          },
          "metadata": {
            "tags": [],
            "needs_background": "light"
          }
        },
        {
          "output_type": "stream",
          "text": [
            "CPU times: user 1.09 s, sys: 136 ms, total: 1.22 s\n",
            "Wall time: 5.98 s\n"
          ],
          "name": "stdout"
        }
      ]
    },
    {
      "cell_type": "code",
      "metadata": {
        "id": "mZeGTnDAkDUi",
        "colab_type": "code",
        "outputId": "4ace7217-b36a-436d-b1f8-6b9a34b6974d",
        "colab": {
          "base_uri": "https://localhost:8080/",
          "height": 1000
        }
      },
      "source": [
        "rf_featimp = feat_imp(rf)\n"
      ],
      "execution_count": 0,
      "outputs": [
        {
          "output_type": "stream",
          "text": [
            "                          index  importance\n",
            "0             Team_CHICAGO CUBS    0.257470\n",
            "1                          Wins    0.129757\n",
            "2              DayName_Saturday    0.093640\n",
            "3                          TMAX    0.066285\n",
            "4                DayName_Sunday    0.057307\n",
            "5                      temp_avg    0.045729\n",
            "6                       Win_pct    0.043496\n",
            "7                        Losses    0.040914\n",
            "8   Season Rolling Average Runs    0.038634\n",
            "9                          TMIN    0.036093\n",
            "10                         PRCP    0.022472\n",
            "11               DayName_Friday    0.018172\n",
            "12          Team_TAMPA BAY RAYS    0.017498\n",
            "13        Team_NEW YORK YANKEES    0.016846\n",
            "14              DayName_Tuesday    0.013326\n",
            "15          MonthName_September    0.012843\n",
            "16               MonthName_July    0.009387\n",
            "17       Team_CLEVELAND INDIANS    0.008587\n",
            "18                       Season    0.008246\n",
            "19                Day_Night_day    0.005876\n",
            "20              Day_Night_night    0.005761\n",
            "21      Team_KANSAS CITY ROYALS    0.005495\n",
            "22            DayName_Wednesday    0.005464\n",
            "23               DayName_Monday    0.003357\n",
            "24          Team_BOSTON RED SOX    0.003307\n",
            "25               MonthName_June    0.003136\n",
            "26         Team_MINNESOTA TWINS    0.002488\n",
            "27          Team_DETROIT TIGERS    0.002382\n",
            "28     Team_ST. LOUIS CARDINALS    0.002119\n",
            "29                MonthName_May    0.001970\n",
            "30             DayName_Thursday    0.001869\n",
            "31                    f4p_y_n_1    0.001722\n",
            "32       Team_TORONTO BLUE JAYS    0.001575\n",
            "33                    b_b_y_n_1    0.001564\n",
            "34        Team_SEATTLE MARINERS    0.001557\n",
            "35              MonthName_April    0.001474\n",
            "36                    f4p_y_n_0    0.001438\n",
            "37           Team_NEW YORK METS    0.001394\n",
            "38           Team_TEXAS RANGERS    0.001263\n",
            "39             MonthName_August    0.001062\n",
            "40                    b_b_y_n_0    0.001054\n",
            "41        Team_SAN DIEGO PADRES    0.000962\n",
            "42       Team_BALTIMORE ORIOLES    0.000934\n",
            "43          Team_HOUSTON ASTROS    0.000845\n",
            "44       Team_OAKLAND ATHLETICS    0.000769\n",
            "45           Team_MIAMI MARLINS    0.000578\n",
            "46              Team_NY YANKEES    0.000570\n",
            "47      Team_LOS ANGELES ANGELS    0.000565\n",
            "48    Team_WASHINGTON NATIONALS    0.000371\n",
            "49      Team_PITTSBURGH PIRATES    0.000159\n",
            "50               Team_SF GIANTS    0.000097\n",
            "51       Team_MILWAUKEE BREWERS    0.000055\n",
            "52   Team_PHILADELPHIA PHILLIES    0.000041\n",
            "53         Team_RAINED OUT 5/27    0.000024\n",
            "54          Team_ATLANTA BRAVES    0.000000\n",
            "55            MonthName_October    0.000000\n",
            "56     Team_LOS ANGELES DODGERS    0.000000\n"
          ],
          "name": "stdout"
        }
      ]
    },
    {
      "cell_type": "code",
      "metadata": {
        "id": "-sRNg24wvC3S",
        "colab_type": "code",
        "colab": {}
      },
      "source": [
        " def rf_rs():\n",
        "    # Number of trees in random forest\n",
        "    n_estimators = [int(x) for x in np.linspace(start = 50, stop = 1000, num = 10)]\n",
        "    # Number of features to consider at every split\n",
        "    max_features = ['auto', 'sqrt']\n",
        "    # Maximum number of levels in tree\n",
        "    max_depth = [int(x) for x in np.linspace(10, 110, num = 11)]\n",
        "    max_depth.append(None)\n",
        "    # Minimum number of samples required to split a node\n",
        "    min_samples_split = [2, 5, 10]\n",
        "    # Minimum number of samples required at each leaf node\n",
        "    min_samples_leaf = [1, 2, 4]\n",
        "    # Method of selecting samples for training each tree\n",
        "    bootstrap = [True, False]\n",
        "    # Create the random grid\n",
        "    random_grid = {'n_estimators': n_estimators,\n",
        "                  'max_features': max_features,\n",
        "                  'max_depth': max_depth,\n",
        "                  'min_samples_split': min_samples_split,\n",
        "                  'min_samples_leaf': min_samples_leaf,\n",
        "                  'bootstrap': bootstrap}\n",
        "    print(random_grid)\n",
        "    # Use the random grid to search for best hyperparameters\n",
        "    # First create the base model to tune\n",
        "    rf = RandomForestRegressor()\n",
        "    # Random search of parameters, using 3 fold cross validation, \n",
        "    # search across 100 different combinations, and use all available cores\n",
        "    rf_random = RandomizedSearchCV(estimator = rf, param_distributions = random_grid, n_iter = 100, cv = 3, verbose=2, random_state=42, n_jobs = -1)\n",
        "    # Fit the random search model\n",
        "    rf_random.fit(X_train, y_train)\n",
        "    print(rf_random.best_params_, rf_random.best_score_)"
      ],
      "execution_count": 0,
      "outputs": []
    },
    {
      "cell_type": "code",
      "metadata": {
        "id": "Wu_Ov04kv2qm",
        "colab_type": "code",
        "outputId": "5bbff486-80bc-4ece-a447-9c36be5bec6e",
        "colab": {
          "base_uri": "https://localhost:8080/",
          "height": 193
        }
      },
      "source": [
        "%time rf_rs()"
      ],
      "execution_count": 0,
      "outputs": [
        {
          "output_type": "stream",
          "text": [
            "{'n_estimators': [50, 155, 261, 366, 472, 577, 683, 788, 894, 1000], 'max_features': ['auto', 'sqrt'], 'max_depth': [10, 20, 30, 40, 50, 60, 70, 80, 90, 100, 110, None], 'min_samples_split': [2, 5, 10], 'min_samples_leaf': [1, 2, 4], 'bootstrap': [True, False]}\n",
            "Fitting 3 folds for each of 100 candidates, totalling 300 fits\n"
          ],
          "name": "stdout"
        },
        {
          "output_type": "stream",
          "text": [
            "[Parallel(n_jobs=-1)]: Using backend LokyBackend with 2 concurrent workers.\n",
            "[Parallel(n_jobs=-1)]: Done  37 tasks      | elapsed:   24.8s\n",
            "[Parallel(n_jobs=-1)]: Done 158 tasks      | elapsed:  1.7min\n",
            "[Parallel(n_jobs=-1)]: Done 300 out of 300 | elapsed:  3.3min finished\n"
          ],
          "name": "stderr"
        },
        {
          "output_type": "stream",
          "text": [
            "{'n_estimators': 261, 'min_samples_split': 5, 'min_samples_leaf': 1, 'max_features': 'sqrt', 'max_depth': 60, 'bootstrap': False} 0.6027476814400211\n",
            "CPU times: user 1.47 s, sys: 44.7 ms, total: 1.52 s\n",
            "Wall time: 3min 20s\n"
          ],
          "name": "stdout"
        }
      ]
    },
    {
      "cell_type": "code",
      "metadata": {
        "id": "t2fCkY-kkIdH",
        "colab_type": "code",
        "colab": {}
      },
      "source": [
        "def rf_gs():\n",
        "    params = {\n",
        "        'max_features' : [1, 2,'auto', 'sqrt'],\n",
        "        'max_depth' : [20, 30, 50, 60, None],\n",
        "        'n_estimators' : [250, 261, 350, 400],\n",
        "        'min_samples_split' : [1,2,3,4,5],\n",
        "        'min_samples_leaf' : [1,2],\n",
        "        'bootstrap' : [False]\n",
        "    }\n",
        "\n",
        "    gs_rf = GridSearchCV(rf, params, n_jobs=-1, cv=5)\n",
        "    gs_rf.fit(X_train, y_train)\n",
        "\n",
        "    print (gs_rf.best_params_, gs_rf.best_score_)"
      ],
      "execution_count": 0,
      "outputs": []
    },
    {
      "cell_type": "code",
      "metadata": {
        "id": "ErQMNZyIkOhP",
        "colab_type": "code",
        "outputId": "304d6321-a1a6-40fc-a4fe-c5e9ea4b62a0",
        "colab": {
          "base_uri": "https://localhost:8080/",
          "height": 69
        }
      },
      "source": [
        "%time rf_gs()\n"
      ],
      "execution_count": 0,
      "outputs": [
        {
          "output_type": "stream",
          "text": [
            "{'bootstrap': False, 'max_depth': 20, 'max_features': 'sqrt', 'min_samples_leaf': 1, 'min_samples_split': 3, 'n_estimators': 250} 0.6225342612327907\n",
            "CPU times: user 15.6 s, sys: 600 ms, total: 16.2 s\n",
            "Wall time: 20min 35s\n"
          ],
          "name": "stdout"
        }
      ]
    },
    {
      "cell_type": "code",
      "metadata": {
        "id": "NpFDRSQCkRRc",
        "colab_type": "code",
        "colab": {}
      },
      "source": [
        "rf2 = RandomForestRegressor(n_estimators=35, max_features='auto' , max_depth= None, min_samples_leaf= 1, min_samples_split= 2)\n",
        "\n",
        "##r^2 = .649 (n_estimators=35, max_features='auto' , max_depth= None, min_samples_leaf= 1, min_samples_split= 2)"
      ],
      "execution_count": 0,
      "outputs": []
    },
    {
      "cell_type": "code",
      "metadata": {
        "id": "MeZgMwPwka2F",
        "colab_type": "code",
        "outputId": "c0d86308-cfe2-478b-c8e9-8d87624a1b3a",
        "colab": {
          "base_uri": "https://localhost:8080/",
          "height": 403
        }
      },
      "source": [
        "%time evaluate(rf2)\n"
      ],
      "execution_count": 0,
      "outputs": [
        {
          "output_type": "stream",
          "text": [
            "R^2 score: 0.586572138204849\n",
            "Cross Validation Score: 0.41379 ± 0.28115\n",
            "Model Performance\n",
            "Average Error: 3706.5631 degrees.\n",
            "Accuracy = -inf%.\n"
          ],
          "name": "stdout"
        },
        {
          "output_type": "display_data",
          "data": {
            "image/png": "[encoded data removed]",
            "text/plain": [
              "<Figure size 432x288 with 1 Axes>"
            ]
          },
          "metadata": {
            "tags": [],
            "needs_background": "light"
          }
        },
        {
          "output_type": "stream",
          "text": [
            "CPU times: user 339 ms, sys: 107 ms, total: 446 ms\n",
            "Wall time: 767 ms\n"
          ],
          "name": "stdout"
        }
      ]
    },
    {
      "cell_type": "code",
      "metadata": {
        "id": "EO65wweQke-X",
        "colab_type": "code",
        "outputId": "f2093083-7953-477b-f79e-95010aa385a1",
        "colab": {
          "base_uri": "https://localhost:8080/",
          "height": 1000
        }
      },
      "source": [
        "rf2_featimp = feat_imp(rf2)\n"
      ],
      "execution_count": 0,
      "outputs": [
        {
          "output_type": "stream",
          "text": [
            "                          index  importance\n",
            "0                          Wins    0.159544\n",
            "1              DayName_Saturday    0.150239\n",
            "2             Team_CHICAGO CUBS    0.142174\n",
            "3                        Losses    0.084131\n",
            "4                       Win_pct    0.068242\n",
            "5   Season Rolling Average Runs    0.051161\n",
            "6                DayName_Sunday    0.046729\n",
            "7                          TMAX    0.045507\n",
            "8                      temp_avg    0.037963\n",
            "9                DayName_Friday    0.037506\n",
            "10               MonthName_July    0.035528\n",
            "11                         TMIN    0.024135\n",
            "12                         PRCP    0.017798\n",
            "13          MonthName_September    0.011960\n",
            "14              DayName_Tuesday    0.011473\n",
            "15        Team_NEW YORK YANKEES    0.006464\n",
            "16          Team_BOSTON RED SOX    0.006206\n",
            "17                       Season    0.004979\n",
            "18              Day_Night_night    0.004818\n",
            "19      Team_KANSAS CITY ROYALS    0.004640\n",
            "20       Team_CLEVELAND INDIANS    0.004353\n",
            "21            DayName_Wednesday    0.004076\n",
            "22                Day_Night_day    0.003150\n",
            "23           Team_TEXAS RANGERS    0.002885\n",
            "24         Team_MINNESOTA TWINS    0.002751\n",
            "25          Team_TAMPA BAY RAYS    0.002513\n",
            "26          Team_DETROIT TIGERS    0.002241\n",
            "27               MonthName_June    0.002237\n",
            "28               Team_SF GIANTS    0.002044\n",
            "29              MonthName_April    0.002012\n",
            "30                    b_b_y_n_1    0.001975\n",
            "31                MonthName_May    0.001900\n",
            "32       Team_BALTIMORE ORIOLES    0.001792\n",
            "33                    f4p_y_n_0    0.001698\n",
            "34             DayName_Thursday    0.001608\n",
            "35               DayName_Monday    0.001525\n",
            "36       Team_OAKLAND ATHLETICS    0.001511\n",
            "37      Team_LOS ANGELES ANGELS    0.001244\n",
            "38        Team_SEATTLE MARINERS    0.001183\n",
            "39       Team_TORONTO BLUE JAYS    0.000870\n",
            "40                    b_b_y_n_0    0.000804\n",
            "41                    f4p_y_n_1    0.000675\n",
            "42          Team_HOUSTON ASTROS    0.000619\n",
            "43        Team_SAN DIEGO PADRES    0.000596\n",
            "44           Team_MIAMI MARLINS    0.000577\n",
            "45             MonthName_August    0.000498\n",
            "46    Team_WASHINGTON NATIONALS    0.000407\n",
            "47   Team_PHILADELPHIA PHILLIES    0.000347\n",
            "48           Team_NEW YORK METS    0.000248\n",
            "49       Team_MILWAUKEE BREWERS    0.000155\n",
            "50          Team_ATLANTA BRAVES    0.000106\n",
            "51              Team_NY YANKEES    0.000089\n",
            "52      Team_PITTSBURGH PIRATES    0.000070\n",
            "53            MonthName_October    0.000024\n",
            "54     Team_LOS ANGELES DODGERS    0.000012\n",
            "55         Team_RAINED OUT 5/27    0.000007\n",
            "56     Team_ST. LOUIS CARDINALS    0.000000\n"
          ],
          "name": "stdout"
        }
      ]
    },
    {
      "cell_type": "code",
      "metadata": {
        "id": "pkd3mZ2plNBz",
        "colab_type": "code",
        "outputId": "27188d30-162a-491b-debd-5dc007b57e89",
        "colab": {
          "base_uri": "https://localhost:8080/",
          "height": 401
        }
      },
      "source": [
        "##Gradient Boosting Regressor\n",
        "X = attendance.drop(['EventName', 'EventDateKey', 'EventDate', 'TotalScans','PaidIssued','Year', 'Event Name', 'B&B Sold', 'F4P Sold', 'Unnamed: 4',\n",
        "                     'DateKey','Revenue', 'Date', 'Occurences', 'RunsScored', 'STATION', 'NAME', 'DATE', 'DATEKEY'], axis = 1)\n",
        "X = pd.get_dummies(X)\n",
        "y= attendance.TotalScans\n",
        "ss = StandardScaler()\n",
        "Xscaled = ss.fit_transform(X)\n",
        "X_train, X_test, y_train, y_test = train_test_split(Xscaled, y, test_size = 0.3, random_state = 86)\n",
        "gbr = GradientBoostingRegressor(n_estimators=300)\n",
        "%time evaluate(gbr)\n",
        "##R^2 = 0.6677"
      ],
      "execution_count": 0,
      "outputs": [
        {
          "output_type": "stream",
          "text": [
            "R^2 score: 0.5857687931014783\n",
            "Cross Validation Score: 0.41051 ± 0.29759\n",
            "Model Performance\n",
            "Average Error: 3832.4989 degrees.\n",
            "Accuracy = 77.27%.\n"
          ],
          "name": "stdout"
        },
        {
          "output_type": "display_data",
          "data": {
            "image/png": "[encoded data removed]",
            "text/plain": [
              "<Figure size 432x288 with 1 Axes>"
            ]
          },
          "metadata": {
            "tags": [],
            "needs_background": "light"
          }
        },
        {
          "output_type": "stream",
          "text": [
            "CPU times: user 521 ms, sys: 133 ms, total: 654 ms\n",
            "Wall time: 2.97 s\n"
          ],
          "name": "stdout"
        }
      ]
    },
    {
      "cell_type": "code",
      "metadata": {
        "id": "hpIftXAqlcUh",
        "colab_type": "code",
        "colab": {}
      },
      "source": [
        "def gbr_gs():\n",
        "    params = {\n",
        "        'max_features' : [0.5, 0.75,3,5,7, 'auto', 'sqrt'],\n",
        "        'max_depth' : [3,4,6,20, 30, None],\n",
        "        'n_estimators' : [10, 20, 50, 100,200,300],\n",
        "        'min_samples_split' : [1,2,3],\n",
        "        'min_samples_leaf' : [1,2,3],\n",
        "        ##'max_features' : [0.75, 'auto', 'sqrt'],\n",
        "        ##'max_depth' : [30, 40,None],\n",
        "        ##'n_estimators' : [200, 300],\n",
        "        ##'min_samples_split' : [2],\n",
        "        ##'min_samples_leaf' : [2],\n",
        "        'learning_rate' : [0.15,0.1,0.05,0.01],\n",
        "    }\n",
        "\n",
        "    gs_gbr = GridSearchCV(gbr, params, n_jobs=-1, cv=5)\n",
        "    gs_gbr.fit(X_train, y_train)\n",
        "\n",
        "    print (gs_gbr.best_params_, gs_gbr.best_score_)"
      ],
      "execution_count": 0,
      "outputs": []
    },
    {
      "cell_type": "code",
      "metadata": {
        "id": "WwK87iLflfFl",
        "colab_type": "code",
        "outputId": "2d0a3ba5-93fe-4857-ae8d-cf503179cb6e",
        "colab": {
          "base_uri": "https://localhost:8080/",
          "height": 69
        }
      },
      "source": [
        "%time gbr_gs()\n"
      ],
      "execution_count": 0,
      "outputs": [
        {
          "output_type": "stream",
          "text": [
            "{'learning_rate': 0.1, 'max_depth': 3, 'max_features': 3, 'min_samples_leaf': 1, 'min_samples_split': 3, 'n_estimators': 300} 0.6244538927416887\n",
            "CPU times: user 1min 2s, sys: 1 s, total: 1min 3s\n",
            "Wall time: 31min 51s\n"
          ],
          "name": "stdout"
        }
      ]
    },
    {
      "cell_type": "code",
      "metadata": {
        "id": "2gS6PIWrlgTS",
        "colab_type": "code",
        "outputId": "4e281469-7c73-4bb6-9c9a-b9a4b845199d",
        "colab": {
          "base_uri": "https://localhost:8080/",
          "height": 401
        }
      },
      "source": [
        "gbr2 = GradientBoostingRegressor(n_estimators=600, max_features= 3, max_depth=3, min_samples_leaf= 1, min_samples_split= 3, learning_rate=0.15)\n",
        "%time evaluate(gbr2)\n",
        "\n",
        "##R^2 = 0.68651 (n_estimators=400, max_features= 'sqrt', max_depth=6, min_samples_leaf= 1, min_samples_split= 3, learning_rate=0.1)\n",
        "##R^2 = 0.68651 (n_estimators=100, max_features= 'sqrt', max_depth=4, min_samples_leaf= 3, min_samples_split= 3, learning_rate=0.1)"
      ],
      "execution_count": 0,
      "outputs": [
        {
          "output_type": "stream",
          "text": [
            "R^2 score: 0.6472367626914168\n",
            "Cross Validation Score: 0.40909 ± 0.29914\n",
            "Model Performance\n",
            "Average Error: 3615.1242 degrees.\n",
            "Accuracy = 77.12%.\n"
          ],
          "name": "stdout"
        },
        {
          "output_type": "display_data",
          "data": {
            "image/png": "[encoded data removed]",
            "text/plain": [
              "<Figure size 432x288 with 1 Axes>"
            ]
          },
          "metadata": {
            "tags": [],
            "needs_background": "light"
          }
        },
        {
          "output_type": "stream",
          "text": [
            "CPU times: user 410 ms, sys: 101 ms, total: 511 ms\n",
            "Wall time: 1.08 s\n"
          ],
          "name": "stdout"
        }
      ]
    },
    {
      "cell_type": "code",
      "metadata": {
        "id": "c-11iHVZljHM",
        "colab_type": "code",
        "outputId": "642ddae4-f513-44b6-851a-935764ef4f04",
        "colab": {
          "base_uri": "https://localhost:8080/",
          "height": 1000
        }
      },
      "source": [
        "gbr2_featimp = feat_imp(gbr2)\n"
      ],
      "execution_count": 0,
      "outputs": [
        {
          "output_type": "stream",
          "text": [
            "                          index  importance\n",
            "0             Team_CHICAGO CUBS    0.167639\n",
            "1                          Wins    0.099974\n",
            "2              DayName_Saturday    0.078463\n",
            "3                        Losses    0.055080\n",
            "4   Season Rolling Average Runs    0.050455\n",
            "5                          TMAX    0.045959\n",
            "6                          TMIN    0.043367\n",
            "7                      temp_avg    0.042151\n",
            "8                MonthName_July    0.038947\n",
            "9                       Win_pct    0.037819\n",
            "10          Team_TAMPA BAY RAYS    0.036294\n",
            "11              DayName_Tuesday    0.033212\n",
            "12               DayName_Sunday    0.026690\n",
            "13        Team_NEW YORK YANKEES    0.024128\n",
            "14                         PRCP    0.021082\n",
            "15          MonthName_September    0.020320\n",
            "16              MonthName_April    0.019128\n",
            "17            DayName_Wednesday    0.015932\n",
            "18               DayName_Monday    0.014821\n",
            "19              Day_Night_night    0.010700\n",
            "20          Team_BOSTON RED SOX    0.009022\n",
            "21                       Season    0.007608\n",
            "22             DayName_Thursday    0.007184\n",
            "23                    b_b_y_n_0    0.006705\n",
            "24                Day_Night_day    0.006678\n",
            "25      Team_LOS ANGELES ANGELS    0.006290\n",
            "26       Team_CLEVELAND INDIANS    0.006254\n",
            "27                    b_b_y_n_1    0.005886\n",
            "28                    f4p_y_n_1    0.005455\n",
            "29               DayName_Friday    0.005217\n",
            "30       Team_OAKLAND ATHLETICS    0.004581\n",
            "31       Team_TORONTO BLUE JAYS    0.004507\n",
            "32      Team_KANSAS CITY ROYALS    0.004250\n",
            "33       Team_BALTIMORE ORIOLES    0.004219\n",
            "34         Team_MINNESOTA TWINS    0.004093\n",
            "35        Team_SEATTLE MARINERS    0.004083\n",
            "36          Team_DETROIT TIGERS    0.003410\n",
            "37     Team_ST. LOUIS CARDINALS    0.002770\n",
            "38      Team_PITTSBURGH PIRATES    0.002271\n",
            "39                    f4p_y_n_0    0.002142\n",
            "40               MonthName_June    0.002020\n",
            "41           Team_TEXAS RANGERS    0.001979\n",
            "42        Team_SAN DIEGO PADRES    0.001755\n",
            "43           Team_MIAMI MARLINS    0.001734\n",
            "44           Team_NEW YORK METS    0.001694\n",
            "45             MonthName_August    0.001210\n",
            "46                MonthName_May    0.001132\n",
            "47               Team_SF GIANTS    0.001044\n",
            "48          Team_HOUSTON ASTROS    0.001006\n",
            "49              Team_NY YANKEES    0.000804\n",
            "50         Team_RAINED OUT 5/27    0.000317\n",
            "51    Team_WASHINGTON NATIONALS    0.000270\n",
            "52       Team_MILWAUKEE BREWERS    0.000220\n",
            "53   Team_PHILADELPHIA PHILLIES    0.000030\n",
            "54            MonthName_October    0.000000\n",
            "55     Team_LOS ANGELES DODGERS    0.000000\n",
            "56          Team_ATLANTA BRAVES    0.000000\n"
          ],
          "name": "stdout"
        }
      ]
    },
    {
      "cell_type": "code",
      "metadata": {
        "id": "sq99t5Rq41nM",
        "colab_type": "code",
        "outputId": "14ef904b-39dc-4c74-c20e-c8e148ef4a31",
        "colab": {
          "base_uri": "https://localhost:8080/",
          "height": 295
        }
      },
      "source": [
        "y_predicted = gbr2.predict(X_test)\n",
        "fig, ax = plt.subplots()\n",
        "ax.scatter(y_test, y_predicted, edgecolors=(0, 0, 0))\n",
        "ax.plot([y_test.min(), y_test.max()], [y_test.min(), y_test.max()], 'k--', lw=4)\n",
        "ax.set_xlabel('Actual')\n",
        "ax.set_ylabel('Predicted')\n",
        "ax.set_title(\"Ground Truth vs Predicted\")\n",
        "plt.show()"
      ],
      "execution_count": 0,
      "outputs": [
        {
          "output_type": "display_data",
          "data": {
            "image/png": "[encoded data removed]",
            "text/plain": [
              "<Figure size 432x288 with 1 Axes>"
            ]
          },
          "metadata": {
            "tags": [],
            "needs_background": "light"
          }
        }
      ]
    },
    {
      "cell_type": "code",
      "metadata": {
        "id": "epeKtwg7Ksxn",
        "colab_type": "code",
        "outputId": "04a697ab-8db8-4431-f310-b42809b1c643",
        "colab": {
          "base_uri": "https://localhost:8080/",
          "height": 225
        }
      },
      "source": [
        "##df.sort_values(by='col1', ascending=True)\n",
        "y_test.sort_values(ascending=True)"
      ],
      "execution_count": 0,
      "outputs": [
        {
          "output_type": "execute_result",
          "data": {
            "text/plain": [
              "170     1800.0\n",
              "252     4931.0\n",
              "178     5926.0\n",
              "295     6323.0\n",
              "189     6968.0\n",
              "        ...   \n",
              "276    33077.0\n",
              "280    33478.0\n",
              "110    34320.0\n",
              "313    35342.0\n",
              "260    38310.0\n",
              "Name: TotalScans, Length: 93, dtype: float64"
            ]
          },
          "metadata": {
            "tags": []
          },
          "execution_count": 62
        }
      ]
    },
    {
      "cell_type": "code",
      "metadata": {
        "id": "tZYYNhipL80Y",
        "colab_type": "code",
        "outputId": "03e00fc8-efab-4a8c-d7a1-6a170b31fa27",
        "colab": {
          "base_uri": "https://localhost:8080/",
          "height": 321
        }
      },
      "source": [
        "attendance.loc[attendance['TotalScans'].isin([1800.0,4931.0])]"
      ],
      "execution_count": 0,
      "outputs": [
        {
          "output_type": "execute_result",
          "data": {
            "text/html": [
              "<div>\n",
              "<style scoped>\n",
              "    .dataframe tbody tr th:only-of-type {\n",
              "        vertical-align: middle;\n",
              "    }\n",
              "\n",
              "    .dataframe tbody tr th {\n",
              "        vertical-align: top;\n",
              "    }\n",
              "\n",
              "    .dataframe thead th {\n",
              "        text-align: right;\n",
              "    }\n",
              "</style>\n",
              "<table border=\"1\" class=\"dataframe\">\n",
              "  <thead>\n",
              "    <tr style=\"text-align: right;\">\n",
              "      <th></th>\n",
              "      <th>Season</th>\n",
              "      <th>EventName</th>\n",
              "      <th>EventDateKey</th>\n",
              "      <th>EventDate</th>\n",
              "      <th>Team</th>\n",
              "      <th>DayName</th>\n",
              "      <th>MonthName</th>\n",
              "      <th>TotalScans</th>\n",
              "      <th>PaidIssued</th>\n",
              "      <th>Year</th>\n",
              "      <th>Event Name</th>\n",
              "      <th>B&amp;B Sold</th>\n",
              "      <th>F4P Sold</th>\n",
              "      <th>Unnamed: 4</th>\n",
              "      <th>DateKey</th>\n",
              "      <th>Revenue</th>\n",
              "      <th>Date</th>\n",
              "      <th>Day_Night</th>\n",
              "      <th>Wins</th>\n",
              "      <th>Losses</th>\n",
              "      <th>Occurences</th>\n",
              "      <th>RunsScored</th>\n",
              "      <th>Season Rolling Average Runs</th>\n",
              "      <th>Win_pct</th>\n",
              "      <th>STATION</th>\n",
              "      <th>NAME</th>\n",
              "      <th>DATE</th>\n",
              "      <th>DATEKEY</th>\n",
              "      <th>PRCP</th>\n",
              "      <th>TMAX</th>\n",
              "      <th>TMIN</th>\n",
              "      <th>temp_avg</th>\n",
              "      <th>f4p_y_n</th>\n",
              "      <th>b_b_y_n</th>\n",
              "    </tr>\n",
              "  </thead>\n",
              "  <tbody>\n",
              "    <tr>\n",
              "      <th>170</th>\n",
              "      <td>2018</td>\n",
              "      <td>ESX0409</td>\n",
              "      <td>20180409</td>\n",
              "      <td>2018-04-09</td>\n",
              "      <td>TAMPA BAY RAYS</td>\n",
              "      <td>Monday</td>\n",
              "      <td>April</td>\n",
              "      <td>1800.0</td>\n",
              "      <td>10377.0</td>\n",
              "      <td>NaN</td>\n",
              "      <td>NaN</td>\n",
              "      <td>0.0</td>\n",
              "      <td>0.0</td>\n",
              "      <td>NaN</td>\n",
              "      <td>20180409</td>\n",
              "      <td>48527.19</td>\n",
              "      <td>2018-04-09</td>\n",
              "      <td>day</td>\n",
              "      <td>3.0</td>\n",
              "      <td>6.0</td>\n",
              "      <td>1.0</td>\n",
              "      <td>4.0</td>\n",
              "      <td>4.555556</td>\n",
              "      <td>33.3333</td>\n",
              "      <td>USC00111577</td>\n",
              "      <td>CHICAGO MIDWAY AIRPORT 3 SW, IL US</td>\n",
              "      <td>2018-04-09</td>\n",
              "      <td>20180409</td>\n",
              "      <td>0.12</td>\n",
              "      <td>40.0</td>\n",
              "      <td>32.0</td>\n",
              "      <td>36.0</td>\n",
              "      <td>0</td>\n",
              "      <td>0</td>\n",
              "    </tr>\n",
              "    <tr>\n",
              "      <th>252</th>\n",
              "      <td>2019</td>\n",
              "      <td>ESOX0409</td>\n",
              "      <td>20190409</td>\n",
              "      <td>2019-04-09</td>\n",
              "      <td>TAMPA BAY RAYS</td>\n",
              "      <td>Tuesday</td>\n",
              "      <td>April</td>\n",
              "      <td>4931.0</td>\n",
              "      <td>10795.0</td>\n",
              "      <td>NaN</td>\n",
              "      <td>NaN</td>\n",
              "      <td>0.0</td>\n",
              "      <td>0.0</td>\n",
              "      <td>NaN</td>\n",
              "      <td>20190409</td>\n",
              "      <td>130204.67</td>\n",
              "      <td>2019-04-09</td>\n",
              "      <td>day</td>\n",
              "      <td>3.0</td>\n",
              "      <td>7.0</td>\n",
              "      <td>1.0</td>\n",
              "      <td>5.0</td>\n",
              "      <td>5.111111</td>\n",
              "      <td>30.0000</td>\n",
              "      <td>USC00111577</td>\n",
              "      <td>CHICAGO MIDWAY AIRPORT 3 SW, IL US</td>\n",
              "      <td>2019-04-09</td>\n",
              "      <td>20190409</td>\n",
              "      <td>0.00</td>\n",
              "      <td>68.0</td>\n",
              "      <td>41.0</td>\n",
              "      <td>54.5</td>\n",
              "      <td>0</td>\n",
              "      <td>0</td>\n",
              "    </tr>\n",
              "  </tbody>\n",
              "</table>\n",
              "</div>"
            ],
            "text/plain": [
              "     Season EventName  EventDateKey  EventDate  ...  TMIN temp_avg f4p_y_n  b_b_y_n\n",
              "170    2018   ESX0409      20180409 2018-04-09  ...  32.0     36.0       0        0\n",
              "252    2019  ESOX0409      20190409 2019-04-09  ...  41.0     54.5       0        0\n",
              "\n",
              "[2 rows x 34 columns]"
            ]
          },
          "metadata": {
            "tags": []
          },
          "execution_count": 65
        }
      ]
    },
    {
      "cell_type": "code",
      "metadata": {
        "id": "RX2xQh-8mRwF",
        "colab_type": "code",
        "outputId": "d5578f94-16d2-45a3-aebd-2846fc04db6b",
        "colab": {
          "base_uri": "https://localhost:8080/",
          "height": 295
        }
      },
      "source": [
        "df = ss.inverse_transform(X_test)\n",
        "df = pd.DataFrame(df)      \n",
        "df[57] = np.where(df[56]==1,'y','k') ##bleachers and brews\n",
        "df[58] = np.where(df[54]==1,'r','k') ##f4p \n",
        "\n",
        "def f(row):\n",
        "    if row[57] == 'y':\n",
        "        if row[58] == 'r':\n",
        "          val = 'y' ##both\n",
        "        else:\n",
        "          val = 'm' ##bnb\n",
        "    elif row[58] == 'r':\n",
        "        val = 'c'  ## f4P\n",
        "    else:\n",
        "        val = 'k'\n",
        "    return val\n",
        "\n",
        "df[59] = df.apply(f,axis =1)\n",
        "\n",
        "colors = df[59]\n",
        "\n",
        "y_predicted = gbr2.predict(X_test)\n",
        "fig, ax = plt.subplots()\n",
        "ax.scatter(y_test, y_predicted, c=colors,edgecolors=(0, 0, 0))\n",
        "ax.plot([y_test.min(), y_test.max()], [y_test.min(), y_test.max()], 'k--', lw=4)\n",
        "ax.set_xlabel('Actual')\n",
        "ax.set_ylabel('Predicted')\n",
        "ax.set_title(\"Ground Truth vs Predicted\")\n",
        "plt.show()\n"
      ],
      "execution_count": 0,
      "outputs": [
        {
          "output_type": "display_data",
          "data": {
            "image/png": "[encoded data removed]",
            "text/plain": [
              "<Figure size 432x288 with 1 Axes>"
            ]
          },
          "metadata": {
            "tags": [],
            "needs_background": "light"
          }
        }
      ]
    },
    {
      "cell_type": "code",
      "metadata": {
        "id": "c__Ynz86xWJP",
        "colab_type": "code",
        "outputId": "0fdc0901-091e-499b-ff14-25453dbc9fcd",
        "colab": {
          "base_uri": "https://localhost:8080/",
          "height": 313
        }
      },
      "source": [
        "\n",
        "df2 = X.copy()\n",
        "##df2 = ss.inverse_transform(df2)\n",
        "##df2 = pd.DataFrame(df2)      \n",
        "\n",
        "##df2[57] = np.where(df2['b_b_y_n_0']==0,'y','k') ##bleachers and brews\n",
        "##df2[58] = np.where(df2['f4p_y_n_0']==0,'r','k') ##f4p \n",
        "\n",
        "def f(row):\n",
        "    if row[56] == 1:\n",
        "        if row[54] == 1:\n",
        "          val = 'y' ## both\n",
        "        else:\n",
        "          val = 'm' ## bleachers n brews\n",
        "    elif row[54] == 1:\n",
        "        val = 'c' ##f4p\n",
        "    else:\n",
        "        val = 'k' ##none\n",
        "    return val\n",
        "\n",
        "df2[59] = df2.apply(f,axis =1)\n",
        "\n",
        "\n",
        "\n",
        "y_predicted_full = gbr2.predict(Xscaled)\n",
        "df2['pred']=y_predicted_full\n",
        "df2['actuals'] =y\n",
        "df2=df2.loc[df2[59]!='k']\n",
        "colors2 = df2[59]\n",
        "\n",
        "fig, ax = plt.subplots()\n",
        "ax.scatter(df2['actuals'], df2['pred'], c=colors2, edgecolors=(0, 0, 0))\n",
        "ax.plot([y_test.min(), y_test.max()], [y_test.min(), y_test.max()], 'k--', lw=4)\n",
        "ax.set_xlabel('Actual')\n",
        "ax.set_ylabel('Predicted')\n",
        "ax.set_title(\"Ground Truth vs Predicted\")\n",
        "ax.legend()\n",
        "plt.show()"
      ],
      "execution_count": 0,
      "outputs": [
        {
          "output_type": "stream",
          "text": [
            "No handles with labels found to put in legend.\n"
          ],
          "name": "stderr"
        },
        {
          "output_type": "display_data",
          "data": {
            "image/png": "[encoded data removed]",
            "text/plain": [
              "<Figure size 432x288 with 1 Axes>"
            ]
          },
          "metadata": {
            "tags": [],
            "needs_background": "light"
          }
        }
      ]
    },
    {
      "cell_type": "code",
      "metadata": {
        "id": "ccW8HJmUgiaL",
        "colab_type": "code",
        "colab": {}
      },
      "source": [
        "\n",
        "attendance.to_csv('Overall AttendanceRevenue Model Data.csv')\n",
        "files.download('Overall AttendanceRevenue Model Data.csv')"
      ],
      "execution_count": 0,
      "outputs": []
    },
    {
      "cell_type": "code",
      "metadata": {
        "id": "eL6CPX6txPuk",
        "colab_type": "code",
        "outputId": "00776079-8688-4803-ccbd-8380163be8b5",
        "colab": {
          "base_uri": "https://localhost:8080/",
          "height": 414
        }
      },
      "source": [
        "gbr2_featimp[0:15].plot(x='index', y='importance', kind='bar', rot=80)\n",
        "# plt.title('Feature Importances', fontsize=25)\n",
        "plt.xlabel('   ')\n",
        "plt.ylabel('Importance')\n",
        "plt.legend().set_visible(False)"
      ],
      "execution_count": 0,
      "outputs": [
        {
          "output_type": "display_data",
          "data": {
            "image/png": "[encoded data removed]",
            "text/plain": [
              "<Figure size 432x288 with 1 Axes>"
            ]
          },
          "metadata": {
            "tags": [],
            "needs_background": "light"
          }
        }
      ]
    },
    {
      "cell_type": "code",
      "metadata": {
        "id": "8KB0MST-2MYd",
        "colab_type": "code",
        "outputId": "0f97473e-e31b-4080-e382-7f95d2e53c2f",
        "colab": {
          "base_uri": "https://localhost:8080/",
          "height": 1000
        }
      },
      "source": [
        "##XGBoost Regressor following https://blog.cambridgespark.com/hyperparameter-tuning-in-xgboost-4ff9100a3b2f\n",
        "X = attendance.drop(['EventName', 'EventDateKey', 'EventDate', 'TotalScans','PaidIssued','Year', 'Event Name', 'B&B Sold', 'F4P Sold', 'Unnamed: 4',\n",
        "                     'DateKey','Revenue', 'Date', 'Occurences', 'RunsScored', 'STATION', 'NAME', 'DATE', 'DATEKEY'], axis = 1)\n",
        "X = pd.get_dummies(X)\n",
        "y= attendance.TotalScans\n",
        "ss = StandardScaler()\n",
        "Xscaled = ss.fit_transform(X)\n",
        "X_train, X_test, y_train, y_test = train_test_split(Xscaled, y, test_size = 0.3, random_state = 86)\n",
        "\n",
        "\n",
        "# \"Learn\" the mean from the training data\n",
        "mean_train = np.mean(y_train)\n",
        "# Get predictions on the test set\n",
        "baseline_predictions = np.ones(y_test.shape) * mean_train\n",
        "# Compute MAE\n",
        "mae_baseline = mean_absolute_error(y_test, baseline_predictions)\n",
        "print(\"Baseline MAE is {:.2f}\".format(mae_baseline))\n",
        "\n",
        "\n",
        "\n",
        "\n",
        "dtrain = xgb.DMatrix(X_train, label=y_train)\n",
        "dtest = xgb.DMatrix(X_test, label=y_test)\n",
        "\n",
        "\n",
        "params = {\n",
        "    # Parameters that we are going to tune.\n",
        "    'max_depth':6,\n",
        "    'min_child_weight': 1,\n",
        "    'eta':.3,\n",
        "    'subsample': 1,\n",
        "    'colsample_bytree': 1,\n",
        "    # Other parameters\n",
        "    'objective':'reg:squarederror',\n",
        "}\n",
        "\n",
        "params['eval_metric'] = \"mae\"\n",
        "num_boost_round = 999\n",
        "\n",
        "model = xgb.train(\n",
        "    params,\n",
        "    dtrain,\n",
        "    num_boost_round=num_boost_round,\n",
        "    evals=[(dtest, \"Test\")],\n",
        "    early_stopping_rounds=10\n",
        ")\n",
        "\n",
        "##xg_reg.fit(X_train,y_train)\n",
        "##%time evaluate(xg_reg)\n",
        "##preds = xg_reg.predict(X_test)\n",
        "\n",
        "##rmse = np.sqrt(mean_squared_error(y_test, preds))\n",
        "##print(\"RMSE: %f\" % (rmse))\n",
        "##xgb.plot_importance(xg_reg)\n",
        "##plt.rcParams['figure.figsize'] = [5, 5]\n",
        "##plt.show()"
      ],
      "execution_count": 0,
      "outputs": [
        {
          "output_type": "stream",
          "text": [
            "Baseline MAE is 6387.11\n",
            "[0]\tTest-mae:13663.4\n",
            "Will train until Test-mae hasn't improved in 10 rounds.\n",
            "[1]\tTest-mae:10040.8\n",
            "[2]\tTest-mae:7794.46\n",
            "[3]\tTest-mae:6323.47\n",
            "[4]\tTest-mae:5520.45\n",
            "[5]\tTest-mae:4886.6\n",
            "[6]\tTest-mae:4499.66\n",
            "[7]\tTest-mae:4218.45\n",
            "[8]\tTest-mae:4118.92\n",
            "[9]\tTest-mae:4067.09\n",
            "[10]\tTest-mae:3973.88\n",
            "[11]\tTest-mae:3960.17\n",
            "[12]\tTest-mae:3940.83\n",
            "[13]\tTest-mae:3943.01\n",
            "[14]\tTest-mae:3917.76\n",
            "[15]\tTest-mae:3919.04\n",
            "[16]\tTest-mae:3913.71\n",
            "[17]\tTest-mae:3913.46\n",
            "[18]\tTest-mae:3915.96\n",
            "[19]\tTest-mae:3904.98\n",
            "[20]\tTest-mae:3867.14\n",
            "[21]\tTest-mae:3845.23\n",
            "[22]\tTest-mae:3826.87\n",
            "[23]\tTest-mae:3819.84\n",
            "[24]\tTest-mae:3821.88\n",
            "[25]\tTest-mae:3829.77\n",
            "[26]\tTest-mae:3834.18\n",
            "[27]\tTest-mae:3830.47\n",
            "[28]\tTest-mae:3820.84\n",
            "[29]\tTest-mae:3827.59\n",
            "[30]\tTest-mae:3824.14\n",
            "[31]\tTest-mae:3816.71\n",
            "[32]\tTest-mae:3820.95\n",
            "[33]\tTest-mae:3811.63\n",
            "[34]\tTest-mae:3798.49\n",
            "[35]\tTest-mae:3794.7\n",
            "[36]\tTest-mae:3797.97\n",
            "[37]\tTest-mae:3799.08\n",
            "[38]\tTest-mae:3793.31\n",
            "[39]\tTest-mae:3791.21\n",
            "[40]\tTest-mae:3790.01\n",
            "[41]\tTest-mae:3788.7\n",
            "[42]\tTest-mae:3788.07\n",
            "[43]\tTest-mae:3782.39\n",
            "[44]\tTest-mae:3778.67\n",
            "[45]\tTest-mae:3775.31\n",
            "[46]\tTest-mae:3773.51\n",
            "[47]\tTest-mae:3773.49\n",
            "[48]\tTest-mae:3771.82\n",
            "[49]\tTest-mae:3771.14\n",
            "[50]\tTest-mae:3769.79\n",
            "[51]\tTest-mae:3767.21\n",
            "[52]\tTest-mae:3766.28\n",
            "[53]\tTest-mae:3769.18\n",
            "[54]\tTest-mae:3767.72\n",
            "[55]\tTest-mae:3769.54\n",
            "[56]\tTest-mae:3769.49\n",
            "[57]\tTest-mae:3768.77\n",
            "[58]\tTest-mae:3767.92\n",
            "[59]\tTest-mae:3767.3\n",
            "[60]\tTest-mae:3765.22\n",
            "[61]\tTest-mae:3764.69\n",
            "[62]\tTest-mae:3766.09\n",
            "[63]\tTest-mae:3764.7\n",
            "[64]\tTest-mae:3764.77\n",
            "[65]\tTest-mae:3765.47\n",
            "[66]\tTest-mae:3766.67\n",
            "[67]\tTest-mae:3767.24\n",
            "[68]\tTest-mae:3766.87\n",
            "[69]\tTest-mae:3768.62\n",
            "[70]\tTest-mae:3768.22\n",
            "[71]\tTest-mae:3768.5\n",
            "Stopping. Best iteration:\n",
            "[61]\tTest-mae:3764.69\n",
            "\n"
          ],
          "name": "stdout"
        }
      ]
    },
    {
      "cell_type": "code",
      "metadata": {
        "id": "uLjfQDFYHJsG",
        "colab_type": "code",
        "outputId": "4efc43f0-ece9-43a9-d488-52751e697da8",
        "colab": {
          "base_uri": "https://localhost:8080/",
          "height": 265
        }
      },
      "source": [
        "cv_results = xgb.cv(\n",
        "    params,\n",
        "    dtrain,\n",
        "    num_boost_round=num_boost_round,\n",
        "    seed=42,\n",
        "    nfold=5,\n",
        "    metrics={'mae'},\n",
        "    early_stopping_rounds=10\n",
        ")\n",
        "cv_results\n",
        "## 3974 ## cv_results['test-mae-mean'].min() \n"
      ],
      "execution_count": 0,
      "outputs": [
        {
          "output_type": "execute_result",
          "data": {
            "text/html": [
              "<div>\n",
              "<style scoped>\n",
              "    .dataframe tbody tr th:only-of-type {\n",
              "        vertical-align: middle;\n",
              "    }\n",
              "\n",
              "    .dataframe tbody tr th {\n",
              "        vertical-align: top;\n",
              "    }\n",
              "\n",
              "    .dataframe thead th {\n",
              "        text-align: right;\n",
              "    }\n",
              "</style>\n",
              "<table border=\"1\" class=\"dataframe\">\n",
              "  <thead>\n",
              "    <tr style=\"text-align: right;\">\n",
              "      <th></th>\n",
              "      <th>train-mae-mean</th>\n",
              "      <th>train-mae-std</th>\n",
              "      <th>test-mae-mean</th>\n",
              "      <th>test-mae-std</th>\n",
              "    </tr>\n",
              "  </thead>\n",
              "  <tbody>\n",
              "    <tr>\n",
              "      <th>0</th>\n",
              "      <td>4749.037012</td>\n",
              "      <td>346.670253</td>\n",
              "      <td>11414.422363</td>\n",
              "      <td>4509.013165</td>\n",
              "    </tr>\n",
              "    <tr>\n",
              "      <th>1</th>\n",
              "      <td>3516.867578</td>\n",
              "      <td>98.197906</td>\n",
              "      <td>11149.317236</td>\n",
              "      <td>5384.291803</td>\n",
              "    </tr>\n",
              "    <tr>\n",
              "      <th>2</th>\n",
              "      <td>3147.962110</td>\n",
              "      <td>84.015536</td>\n",
              "      <td>11018.289453</td>\n",
              "      <td>5520.792816</td>\n",
              "    </tr>\n",
              "    <tr>\n",
              "      <th>3</th>\n",
              "      <td>2952.009375</td>\n",
              "      <td>76.496357</td>\n",
              "      <td>10925.579492</td>\n",
              "      <td>5531.463632</td>\n",
              "    </tr>\n",
              "    <tr>\n",
              "      <th>4</th>\n",
              "      <td>2839.940869</td>\n",
              "      <td>79.470329</td>\n",
              "      <td>10886.183984</td>\n",
              "      <td>5519.324774</td>\n",
              "    </tr>\n",
              "    <tr>\n",
              "      <th>5</th>\n",
              "      <td>2769.187842</td>\n",
              "      <td>89.038462</td>\n",
              "      <td>10876.827783</td>\n",
              "      <td>5517.483038</td>\n",
              "    </tr>\n",
              "    <tr>\n",
              "      <th>6</th>\n",
              "      <td>2721.572559</td>\n",
              "      <td>94.862082</td>\n",
              "      <td>10876.511768</td>\n",
              "      <td>5523.084823</td>\n",
              "    </tr>\n",
              "  </tbody>\n",
              "</table>\n",
              "</div>"
            ],
            "text/plain": [
              "   train-mae-mean  train-mae-std  test-mae-mean  test-mae-std\n",
              "0     4749.037012     346.670253   11414.422363   4509.013165\n",
              "1     3516.867578      98.197906   11149.317236   5384.291803\n",
              "2     3147.962110      84.015536   11018.289453   5520.792816\n",
              "3     2952.009375      76.496357   10925.579492   5531.463632\n",
              "4     2839.940869      79.470329   10886.183984   5519.324774\n",
              "5     2769.187842      89.038462   10876.827783   5517.483038\n",
              "6     2721.572559      94.862082   10876.511768   5523.084823"
            ]
          },
          "metadata": {
            "tags": []
          },
          "execution_count": 104
        }
      ]
    },
    {
      "cell_type": "code",
      "metadata": {
        "id": "FVZwgPg49Uz_",
        "colab_type": "code",
        "outputId": "bf82c404-28a3-46b8-93d6-9c020e0ff830",
        "colab": {
          "base_uri": "https://localhost:8080/",
          "height": 1000
        }
      },
      "source": [
        "gridsearch_params = [\n",
        "    (max_depth, min_child_weight)\n",
        "    for max_depth in range(1,12)\n",
        "    for min_child_weight in range(1,8)\n",
        "]\n",
        "\n",
        "# Define initial best params and MAE\n",
        "min_mae = float(\"Inf\")\n",
        "best_params = None\n",
        "for max_depth, min_child_weight in gridsearch_params:\n",
        "    print(\"CV with max_depth={}, min_child_weight={}\".format(\n",
        "                             max_depth,\n",
        "                             min_child_weight))\n",
        "    # Update our parameters\n",
        "    params['max_depth'] = max_depth\n",
        "    params['min_child_weight'] = min_child_weight\n",
        "    # Run CV\n",
        "    cv_results = xgb.cv(\n",
        "        params,\n",
        "        dtrain,\n",
        "        num_boost_round=num_boost_round,\n",
        "        seed=42,\n",
        "        nfold=5,\n",
        "        metrics={'mae'},\n",
        "        early_stopping_rounds=10\n",
        "    )\n",
        "    # Update best MAE\n",
        "    mean_mae = cv_results['test-mae-mean'].min()\n",
        "    boost_rounds = cv_results['test-mae-mean'].argmin()\n",
        "    print(\"\\tMAE {} for {} rounds\".format(mean_mae, boost_rounds))\n",
        "    if mean_mae < min_mae:\n",
        "        min_mae = mean_mae\n",
        "        best_params = (max_depth,min_child_weight)\n",
        "print(\"Best params: {}, {}, MAE: {}\".format(best_params[0], best_params[1], min_mae))\n"
      ],
      "execution_count": 0,
      "outputs": [
        {
          "output_type": "stream",
          "text": [
            "CV with max_depth=1, min_child_weight=1\n",
            "\tMAE 3738.0880372 for 100 rounds\n",
            "CV with max_depth=1, min_child_weight=2\n",
            "\tMAE 3757.7860840000003 for 93 rounds\n",
            "CV with max_depth=1, min_child_weight=3\n",
            "\tMAE 3753.8369141999997 for 81 rounds\n",
            "CV with max_depth=1, min_child_weight=4\n",
            "\tMAE 3823.6592773999996 for 101 rounds\n",
            "CV with max_depth=1, min_child_weight=5\n",
            "\tMAE 4105.704004 for 75 rounds\n",
            "CV with max_depth=1, min_child_weight=6\n",
            "\tMAE 4046.8337400000005 for 74 rounds\n",
            "CV with max_depth=1, min_child_weight=7\n",
            "\tMAE 4118.0708005999995 for 77 rounds\n",
            "CV with max_depth=2, min_child_weight=1\n",
            "\tMAE 3807.0452147999995 for 42 rounds\n",
            "CV with max_depth=2, min_child_weight=2\n",
            "\tMAE 3777.4724122 for 50 rounds\n",
            "CV with max_depth=2, min_child_weight=3\n",
            "\tMAE 3838.1398925999993 for 39 rounds\n",
            "CV with max_depth=2, min_child_weight=4\n",
            "\tMAE 3937.7546385999995 for 38 rounds\n",
            "CV with max_depth=2, min_child_weight=5\n",
            "\tMAE 4218.1266602000005 for 31 rounds\n",
            "CV with max_depth=2, min_child_weight=6\n",
            "\tMAE 4276.3168458 for 27 rounds\n",
            "CV with max_depth=2, min_child_weight=7\n",
            "\tMAE 4257.528076199999 for 52 rounds\n",
            "CV with max_depth=3, min_child_weight=1\n",
            "\tMAE 3893.086279 for 59 rounds\n",
            "CV with max_depth=3, min_child_weight=2\n",
            "\tMAE 3966.4519044 for 31 rounds\n",
            "CV with max_depth=3, min_child_weight=3\n",
            "\tMAE 3738.5621579999997 for 56 rounds\n",
            "CV with max_depth=3, min_child_weight=4\n",
            "\tMAE 3883.8821777999997 for 47 rounds\n",
            "CV with max_depth=3, min_child_weight=5\n",
            "\tMAE 4200.0654786 for 24 rounds\n",
            "CV with max_depth=3, min_child_weight=6\n",
            "\tMAE 4269.936377 for 45 rounds\n",
            "CV with max_depth=3, min_child_weight=7\n",
            "\tMAE 4390.4053222 for 23 rounds\n",
            "CV with max_depth=4, min_child_weight=1\n",
            "\tMAE 3829.725342 for 23 rounds\n",
            "CV with max_depth=4, min_child_weight=2\n",
            "\tMAE 3895.3149902000005 for 22 rounds\n",
            "CV with max_depth=4, min_child_weight=3\n",
            "\tMAE 3767.5141114 for 28 rounds\n",
            "CV with max_depth=4, min_child_weight=4\n",
            "\tMAE 3917.1567382000003 for 15 rounds\n",
            "CV with max_depth=4, min_child_weight=5\n",
            "\tMAE 4216.583251999999 for 19 rounds\n",
            "CV with max_depth=4, min_child_weight=6\n",
            "\tMAE 4234.569385 for 23 rounds\n",
            "CV with max_depth=4, min_child_weight=7\n",
            "\tMAE 4294.4464844 for 14 rounds\n",
            "CV with max_depth=5, min_child_weight=1\n",
            "\tMAE 3878.1161134000004 for 24 rounds\n",
            "CV with max_depth=5, min_child_weight=2\n",
            "\tMAE 3756.5085448 for 32 rounds\n",
            "CV with max_depth=5, min_child_weight=3\n",
            "\tMAE 3901.4909181999997 for 22 rounds\n",
            "CV with max_depth=5, min_child_weight=4\n",
            "\tMAE 3921.3381838 for 19 rounds\n",
            "CV with max_depth=5, min_child_weight=5\n",
            "\tMAE 4209.931201 for 34 rounds\n",
            "CV with max_depth=5, min_child_weight=6\n",
            "\tMAE 4218.4612792 for 18 rounds\n",
            "CV with max_depth=5, min_child_weight=7\n",
            "\tMAE 4240.8301759999995 for 18 rounds\n",
            "CV with max_depth=6, min_child_weight=1\n",
            "\tMAE 3973.1083008 for 41 rounds\n",
            "CV with max_depth=6, min_child_weight=2\n",
            "\tMAE 3878.5003418 for 24 rounds\n",
            "CV with max_depth=6, min_child_weight=3\n",
            "\tMAE 3944.4655762 for 23 rounds\n",
            "CV with max_depth=6, min_child_weight=4\n",
            "\tMAE 3942.5861818000003 for 12 rounds\n",
            "CV with max_depth=6, min_child_weight=5\n",
            "\tMAE 4296.4120606 for 14 rounds\n",
            "CV with max_depth=6, min_child_weight=6\n",
            "\tMAE 4278.5663578 for 16 rounds\n",
            "CV with max_depth=6, min_child_weight=7\n",
            "\tMAE 4225.6936524 for 58 rounds\n",
            "CV with max_depth=7, min_child_weight=1\n",
            "\tMAE 3818.9011230000006 for 47 rounds\n",
            "CV with max_depth=7, min_child_weight=2\n",
            "\tMAE 3896.5311524 for 14 rounds\n",
            "CV with max_depth=7, min_child_weight=3\n",
            "\tMAE 3869.5598146 for 23 rounds\n",
            "CV with max_depth=7, min_child_weight=4\n",
            "\tMAE 3916.8974122 for 23 rounds\n",
            "CV with max_depth=7, min_child_weight=5\n",
            "\tMAE 4124.8931152000005 for 14 rounds\n",
            "CV with max_depth=7, min_child_weight=6\n",
            "\tMAE 4195.8389162 for 13 rounds\n",
            "CV with max_depth=7, min_child_weight=7\n",
            "\tMAE 4165.1235838 for 32 rounds\n",
            "CV with max_depth=8, min_child_weight=1\n",
            "\tMAE 3787.9694336000002 for 41 rounds\n",
            "CV with max_depth=8, min_child_weight=2\n",
            "\tMAE 3950.2826172 for 34 rounds\n",
            "CV with max_depth=8, min_child_weight=3\n",
            "\tMAE 3782.2717774000002 for 46 rounds\n",
            "CV with max_depth=8, min_child_weight=4\n",
            "\tMAE 3881.8200684000003 for 48 rounds\n",
            "CV with max_depth=8, min_child_weight=5\n",
            "\tMAE 4138.4746583999995 for 14 rounds\n",
            "CV with max_depth=8, min_child_weight=6\n",
            "\tMAE 4165.3637206 for 16 rounds\n",
            "CV with max_depth=8, min_child_weight=7\n",
            "\tMAE 4370.934326199999 for 19 rounds\n",
            "CV with max_depth=9, min_child_weight=1\n",
            "\tMAE 3982.4729006000002 for 63 rounds\n",
            "CV with max_depth=9, min_child_weight=2\n",
            "\tMAE 3869.6119628 for 93 rounds\n",
            "CV with max_depth=9, min_child_weight=3\n",
            "\tMAE 3982.6042482000003 for 54 rounds\n",
            "CV with max_depth=9, min_child_weight=4\n",
            "\tMAE 3879.8405762 for 70 rounds\n",
            "CV with max_depth=9, min_child_weight=5\n",
            "\tMAE 4137.7286134000005 for 14 rounds\n",
            "CV with max_depth=9, min_child_weight=6\n",
            "\tMAE 4022.646338 for 13 rounds\n",
            "CV with max_depth=9, min_child_weight=7\n",
            "\tMAE 4221.9589356 for 10 rounds\n",
            "CV with max_depth=10, min_child_weight=1\n",
            "\tMAE 3903.9854981999997 for 20 rounds\n",
            "CV with max_depth=10, min_child_weight=2\n",
            "\tMAE 3943.2424315999997 for 12 rounds\n",
            "CV with max_depth=10, min_child_weight=3\n",
            "\tMAE 3903.3743649999997 for 224 rounds\n",
            "CV with max_depth=10, min_child_weight=4\n",
            "\tMAE 3898.9596189999997 for 38 rounds\n",
            "CV with max_depth=10, min_child_weight=5\n",
            "\tMAE 4332.8088866 for 19 rounds\n",
            "CV with max_depth=10, min_child_weight=6\n",
            "\tMAE 4135.8917968000005 for 16 rounds\n",
            "CV with max_depth=10, min_child_weight=7\n",
            "\tMAE 4275.0703128000005 for 14 rounds\n",
            "CV with max_depth=11, min_child_weight=1\n",
            "\tMAE 3992.8864746 for 26 rounds\n",
            "CV with max_depth=11, min_child_weight=2\n",
            "\tMAE 3913.1053220000003 for 11 rounds\n",
            "CV with max_depth=11, min_child_weight=3\n",
            "\tMAE 3998.7842775999998 for 33 rounds\n",
            "CV with max_depth=11, min_child_weight=4\n",
            "\tMAE 3974.4538574 for 57 rounds\n",
            "CV with max_depth=11, min_child_weight=5\n",
            "\tMAE 4256.1864256 for 12 rounds\n",
            "CV with max_depth=11, min_child_weight=6\n",
            "\tMAE 4190.754638799999 for 30 rounds\n",
            "CV with max_depth=11, min_child_weight=7\n",
            "\tMAE 4260.5034670000005 for 30 rounds\n",
            "Best params: 1, 1, MAE: 3738.0880372\n"
          ],
          "name": "stdout"
        }
      ]
    },
    {
      "cell_type": "code",
      "metadata": {
        "id": "foHjcS0VK-BS",
        "colab_type": "code",
        "outputId": "2888932c-1889-4acb-b07b-650a878d6d70",
        "colab": {
          "base_uri": "https://localhost:8080/",
          "height": 1000
        }
      },
      "source": [
        "params['max_depth'] = 1\n",
        "params['min_child_weight'] = 1\n",
        "\n",
        "gridsearch_params = [\n",
        "    (subsample, colsample)\n",
        "    for subsample in [i/10. for i in range(1,11)]\n",
        "    for colsample in [i/10. for i in range(1,11)]\n",
        "]\n",
        "\n",
        "min_mae = float(\"Inf\")\n",
        "best_params = None\n",
        "# We start by the largest values and go down to the smallest\n",
        "for subsample, colsample in reversed(gridsearch_params):\n",
        "    print(\"CV with subsample={}, colsample={}\".format(\n",
        "                             subsample,\n",
        "                             colsample))\n",
        "    # We update our parameters\n",
        "    params['subsample'] = subsample\n",
        "    params['colsample_bytree'] = colsample\n",
        "    # Run CV\n",
        "    cv_results = xgb.cv(\n",
        "        params,\n",
        "        dtrain,\n",
        "        num_boost_round=num_boost_round,\n",
        "        seed=42,\n",
        "        nfold=5,\n",
        "        metrics={'mae'},\n",
        "        early_stopping_rounds=10\n",
        "    )\n",
        "    # Update best score\n",
        "    mean_mae = cv_results['test-mae-mean'].min()\n",
        "    boost_rounds = cv_results['test-mae-mean'].argmin()\n",
        "    print(\"\\tMAE {} for {} rounds\".format(mean_mae, boost_rounds))\n",
        "    if mean_mae < min_mae:\n",
        "        min_mae = mean_mae\n",
        "        best_params = (subsample,colsample)\n",
        "print(\"Best params: {}, {}, MAE: {}\".format(best_params[0], best_params[1], min_mae))"
      ],
      "execution_count": 0,
      "outputs": [
        {
          "output_type": "stream",
          "text": [
            "CV with subsample=1.0, colsample=1.0\n",
            "\tMAE 10876.511767599999 for 6 rounds\n",
            "CV with subsample=1.0, colsample=0.9\n",
            "\tMAE 10876.511767599999 for 6 rounds\n",
            "CV with subsample=1.0, colsample=0.8\n",
            "\tMAE 10876.511767599999 for 6 rounds\n",
            "CV with subsample=1.0, colsample=0.7\n",
            "\tMAE 10876.511767599999 for 6 rounds\n",
            "CV with subsample=1.0, colsample=0.6\n",
            "\tMAE 10876.511767599999 for 6 rounds\n",
            "CV with subsample=1.0, colsample=0.5\n",
            "\tMAE 10876.511767599999 for 6 rounds\n",
            "CV with subsample=1.0, colsample=0.4\n",
            "\tMAE 10876.511767599999 for 6 rounds\n",
            "CV with subsample=1.0, colsample=0.3\n",
            "\tMAE 10876.511767599999 for 6 rounds\n",
            "CV with subsample=1.0, colsample=0.2\n",
            "\tMAE 10876.511767599999 for 6 rounds\n",
            "CV with subsample=1.0, colsample=0.1\n",
            "\tMAE 10876.511767599999 for 6 rounds\n",
            "CV with subsample=0.9, colsample=1.0\n",
            "\tMAE 10876.511767599999 for 6 rounds\n",
            "CV with subsample=0.9, colsample=0.9\n",
            "\tMAE 10876.511767599999 for 6 rounds\n",
            "CV with subsample=0.9, colsample=0.8\n",
            "\tMAE 10876.511767599999 for 6 rounds\n",
            "CV with subsample=0.9, colsample=0.7\n",
            "\tMAE 10876.511767599999 for 6 rounds\n",
            "CV with subsample=0.9, colsample=0.6\n",
            "\tMAE 10876.511767599999 for 6 rounds\n",
            "CV with subsample=0.9, colsample=0.5\n",
            "\tMAE 10876.511767599999 for 6 rounds\n",
            "CV with subsample=0.9, colsample=0.4\n",
            "\tMAE 10876.511767599999 for 6 rounds\n",
            "CV with subsample=0.9, colsample=0.3\n",
            "\tMAE 10876.511767599999 for 6 rounds\n",
            "CV with subsample=0.9, colsample=0.2\n",
            "\tMAE 10876.511767599999 for 6 rounds\n",
            "CV with subsample=0.9, colsample=0.1\n",
            "\tMAE 10876.511767599999 for 6 rounds\n",
            "CV with subsample=0.8, colsample=1.0\n",
            "\tMAE 10876.511767599999 for 6 rounds\n",
            "CV with subsample=0.8, colsample=0.9\n",
            "\tMAE 10876.511767599999 for 6 rounds\n",
            "CV with subsample=0.8, colsample=0.8\n",
            "\tMAE 10876.511767599999 for 6 rounds\n",
            "CV with subsample=0.8, colsample=0.7\n",
            "\tMAE 10876.511767599999 for 6 rounds\n",
            "CV with subsample=0.8, colsample=0.6\n",
            "\tMAE 10876.511767599999 for 6 rounds\n",
            "CV with subsample=0.8, colsample=0.5\n",
            "\tMAE 10876.511767599999 for 6 rounds\n",
            "CV with subsample=0.8, colsample=0.4\n",
            "\tMAE 10876.511767599999 for 6 rounds\n",
            "CV with subsample=0.8, colsample=0.3\n",
            "\tMAE 10876.511767599999 for 6 rounds\n",
            "CV with subsample=0.8, colsample=0.2\n",
            "\tMAE 10876.511767599999 for 6 rounds\n",
            "CV with subsample=0.8, colsample=0.1\n",
            "\tMAE 10876.511767599999 for 6 rounds\n",
            "CV with subsample=0.7, colsample=1.0\n",
            "\tMAE 10876.511767599999 for 6 rounds\n",
            "CV with subsample=0.7, colsample=0.9\n",
            "\tMAE 10876.511767599999 for 6 rounds\n",
            "CV with subsample=0.7, colsample=0.8\n",
            "\tMAE 10876.511767599999 for 6 rounds\n",
            "CV with subsample=0.7, colsample=0.7\n",
            "\tMAE 10876.511767599999 for 6 rounds\n",
            "CV with subsample=0.7, colsample=0.6\n",
            "\tMAE 10876.511767599999 for 6 rounds\n",
            "CV with subsample=0.7, colsample=0.5\n",
            "\tMAE 10876.511767599999 for 6 rounds\n",
            "CV with subsample=0.7, colsample=0.4\n",
            "\tMAE 10876.511767599999 for 6 rounds\n",
            "CV with subsample=0.7, colsample=0.3\n",
            "\tMAE 10876.511767599999 for 6 rounds\n",
            "CV with subsample=0.7, colsample=0.2\n",
            "\tMAE 10876.511767599999 for 6 rounds\n",
            "CV with subsample=0.7, colsample=0.1\n",
            "\tMAE 10876.511767599999 for 6 rounds\n",
            "CV with subsample=0.6, colsample=1.0\n",
            "\tMAE 10876.511767599999 for 6 rounds\n",
            "CV with subsample=0.6, colsample=0.9\n",
            "\tMAE 10876.511767599999 for 6 rounds\n",
            "CV with subsample=0.6, colsample=0.8\n",
            "\tMAE 10876.511767599999 for 6 rounds\n",
            "CV with subsample=0.6, colsample=0.7\n",
            "\tMAE 10876.511767599999 for 6 rounds\n",
            "CV with subsample=0.6, colsample=0.6\n",
            "\tMAE 10876.511767599999 for 6 rounds\n",
            "CV with subsample=0.6, colsample=0.5\n",
            "\tMAE 10876.511767599999 for 6 rounds\n",
            "CV with subsample=0.6, colsample=0.4\n",
            "\tMAE 10876.511767599999 for 6 rounds\n",
            "CV with subsample=0.6, colsample=0.3\n",
            "\tMAE 10876.511767599999 for 6 rounds\n",
            "CV with subsample=0.6, colsample=0.2\n",
            "\tMAE 10876.511767599999 for 6 rounds\n",
            "CV with subsample=0.6, colsample=0.1\n",
            "\tMAE 10876.511767599999 for 6 rounds\n",
            "CV with subsample=0.5, colsample=1.0\n",
            "\tMAE 10876.511767599999 for 6 rounds\n",
            "CV with subsample=0.5, colsample=0.9\n",
            "\tMAE 10876.511767599999 for 6 rounds\n",
            "CV with subsample=0.5, colsample=0.8\n",
            "\tMAE 10876.511767599999 for 6 rounds\n",
            "CV with subsample=0.5, colsample=0.7\n",
            "\tMAE 10876.511767599999 for 6 rounds\n",
            "CV with subsample=0.5, colsample=0.6\n",
            "\tMAE 10876.511767599999 for 6 rounds\n",
            "CV with subsample=0.5, colsample=0.5\n",
            "\tMAE 10876.511767599999 for 6 rounds\n",
            "CV with subsample=0.5, colsample=0.4\n",
            "\tMAE 10876.511767599999 for 6 rounds\n",
            "CV with subsample=0.5, colsample=0.3\n",
            "\tMAE 10876.511767599999 for 6 rounds\n",
            "CV with subsample=0.5, colsample=0.2\n",
            "\tMAE 10876.511767599999 for 6 rounds\n",
            "CV with subsample=0.5, colsample=0.1\n",
            "\tMAE 10876.511767599999 for 6 rounds\n",
            "CV with subsample=0.4, colsample=1.0\n",
            "\tMAE 10876.511767599999 for 6 rounds\n",
            "CV with subsample=0.4, colsample=0.9\n",
            "\tMAE 10876.511767599999 for 6 rounds\n",
            "CV with subsample=0.4, colsample=0.8\n",
            "\tMAE 10876.511767599999 for 6 rounds\n",
            "CV with subsample=0.4, colsample=0.7\n",
            "\tMAE 10876.511767599999 for 6 rounds\n",
            "CV with subsample=0.4, colsample=0.6\n",
            "\tMAE 10876.511767599999 for 6 rounds\n",
            "CV with subsample=0.4, colsample=0.5\n",
            "\tMAE 10876.511767599999 for 6 rounds\n",
            "CV with subsample=0.4, colsample=0.4\n",
            "\tMAE 10876.511767599999 for 6 rounds\n",
            "CV with subsample=0.4, colsample=0.3\n",
            "\tMAE 10876.511767599999 for 6 rounds\n",
            "CV with subsample=0.4, colsample=0.2\n",
            "\tMAE 10876.511767599999 for 6 rounds\n",
            "CV with subsample=0.4, colsample=0.1\n",
            "\tMAE 10876.511767599999 for 6 rounds\n",
            "CV with subsample=0.3, colsample=1.0\n",
            "\tMAE 10876.511767599999 for 6 rounds\n",
            "CV with subsample=0.3, colsample=0.9\n",
            "\tMAE 10876.511767599999 for 6 rounds\n",
            "CV with subsample=0.3, colsample=0.8\n",
            "\tMAE 10876.511767599999 for 6 rounds\n",
            "CV with subsample=0.3, colsample=0.7\n",
            "\tMAE 10876.511767599999 for 6 rounds\n",
            "CV with subsample=0.3, colsample=0.6\n",
            "\tMAE 10876.511767599999 for 6 rounds\n",
            "CV with subsample=0.3, colsample=0.5\n",
            "\tMAE 10876.511767599999 for 6 rounds\n",
            "CV with subsample=0.3, colsample=0.4\n",
            "\tMAE 10876.511767599999 for 6 rounds\n",
            "CV with subsample=0.3, colsample=0.3\n",
            "\tMAE 10876.511767599999 for 6 rounds\n",
            "CV with subsample=0.3, colsample=0.2\n",
            "\tMAE 10876.511767599999 for 6 rounds\n",
            "CV with subsample=0.3, colsample=0.1\n",
            "\tMAE 10876.511767599999 for 6 rounds\n",
            "CV with subsample=0.2, colsample=1.0\n",
            "\tMAE 10876.511767599999 for 6 rounds\n",
            "CV with subsample=0.2, colsample=0.9\n",
            "\tMAE 10876.511767599999 for 6 rounds\n",
            "CV with subsample=0.2, colsample=0.8\n",
            "\tMAE 10876.511767599999 for 6 rounds\n",
            "CV with subsample=0.2, colsample=0.7\n",
            "\tMAE 10876.511767599999 for 6 rounds\n",
            "CV with subsample=0.2, colsample=0.6\n",
            "\tMAE 10876.511767599999 for 6 rounds\n",
            "CV with subsample=0.2, colsample=0.5\n",
            "\tMAE 10876.511767599999 for 6 rounds\n",
            "CV with subsample=0.2, colsample=0.4\n",
            "\tMAE 10876.511767599999 for 6 rounds\n",
            "CV with subsample=0.2, colsample=0.3\n",
            "\tMAE 10876.511767599999 for 6 rounds\n",
            "CV with subsample=0.2, colsample=0.2\n",
            "\tMAE 10876.511767599999 for 6 rounds\n",
            "CV with subsample=0.2, colsample=0.1\n",
            "\tMAE 10876.511767599999 for 6 rounds\n",
            "CV with subsample=0.1, colsample=1.0\n",
            "\tMAE 10876.511767599999 for 6 rounds\n",
            "CV with subsample=0.1, colsample=0.9\n",
            "\tMAE 10876.511767599999 for 6 rounds\n",
            "CV with subsample=0.1, colsample=0.8\n",
            "\tMAE 10876.511767599999 for 6 rounds\n",
            "CV with subsample=0.1, colsample=0.7\n",
            "\tMAE 10876.511767599999 for 6 rounds\n",
            "CV with subsample=0.1, colsample=0.6\n",
            "\tMAE 10876.511767599999 for 6 rounds\n",
            "CV with subsample=0.1, colsample=0.5\n",
            "\tMAE 10876.511767599999 for 6 rounds\n",
            "CV with subsample=0.1, colsample=0.4\n",
            "\tMAE 10876.511767599999 for 6 rounds\n",
            "CV with subsample=0.1, colsample=0.3\n",
            "\tMAE 10876.511767599999 for 6 rounds\n",
            "CV with subsample=0.1, colsample=0.2\n",
            "\tMAE 10876.511767599999 for 6 rounds\n",
            "CV with subsample=0.1, colsample=0.1\n",
            "\tMAE 10876.511767599999 for 6 rounds\n",
            "Best params: 1.0, 1.0, MAE: 10876.511767599999\n"
          ],
          "name": "stdout"
        }
      ]
    },
    {
      "cell_type": "code",
      "metadata": {
        "id": "Wd-KPn4hLk42",
        "colab_type": "code",
        "outputId": "49b6c292-4e91-4a2d-ca3d-b9c7947d05ff",
        "colab": {
          "base_uri": "https://localhost:8080/",
          "height": 598
        }
      },
      "source": [
        "params['subsample'] = .8\n",
        "params['colsample_bytree'] = .7\n",
        "\n",
        "%time\n",
        "# This can take some time…\n",
        "min_mae = float(\"Inf\")\n",
        "best_params = None\n",
        "for eta in [.3, .2, .1, .05, .01, .005]:\n",
        "    print(\"CV with eta={}\".format(eta))\n",
        "    # We update our parameters\n",
        "    params['eta'] = eta\n",
        "    # Run and time CV\n",
        "    %time cv_results = xgb.cv(params, dtrain, num_boost_round=num_boost_round, seed=42, nfold=5, metrics=['mae'], early_stopping_rounds=10)\n",
        "    # Update best score\n",
        "    mean_mae = cv_results['test-mae-mean'].min()\n",
        "    boost_rounds = cv_results['test-mae-mean'].argmin()\n",
        "    print(\"\\tMAE {} for {} rounds\\n\".format(mean_mae, boost_rounds))\n",
        "    if mean_mae < min_mae:\n",
        "        min_mae = mean_mae\n",
        "        best_params = eta\n",
        "print(\"Best params: {}, MAE: {}\".format(best_params, min_mae))"
      ],
      "execution_count": 0,
      "outputs": [
        {
          "output_type": "stream",
          "text": [
            "CPU times: user 3 µs, sys: 0 ns, total: 3 µs\n",
            "Wall time: 8.82 µs\n",
            "CV with eta=0.3\n",
            "CPU times: user 525 ms, sys: 6.98 ms, total: 532 ms\n",
            "Wall time: 535 ms\n",
            "\tMAE 3786.5934571999996 for 54 rounds\n",
            "\n",
            "CV with eta=0.2\n",
            "CPU times: user 667 ms, sys: 7 ms, total: 674 ms\n",
            "Wall time: 674 ms\n",
            "\tMAE 3763.735205 for 76 rounds\n",
            "\n",
            "CV with eta=0.1\n",
            "CPU times: user 1.22 s, sys: 12 ms, total: 1.23 s\n",
            "Wall time: 1.23 s\n",
            "\tMAE 3668.9052736000003 for 153 rounds\n",
            "\n",
            "CV with eta=0.05\n",
            "CPU times: user 2.04 s, sys: 22 ms, total: 2.06 s\n",
            "Wall time: 2.06 s\n",
            "\tMAE 3694.0907225999995 for 266 rounds\n",
            "\n",
            "CV with eta=0.01\n",
            "CPU times: user 6.96 s, sys: 76.9 ms, total: 7.04 s\n",
            "Wall time: 7.05 s\n",
            "\tMAE 3830.5066894 for 939 rounds\n",
            "\n",
            "CV with eta=0.005\n",
            "CPU times: user 7.26 s, sys: 88.9 ms, total: 7.35 s\n",
            "Wall time: 7.36 s\n",
            "\tMAE 4140.9684082 for 998 rounds\n",
            "\n",
            "Best params: 0.1, MAE: 3668.9052736000003\n"
          ],
          "name": "stdout"
        }
      ]
    },
    {
      "cell_type": "code",
      "metadata": {
        "id": "a7L7FrECMJj7",
        "colab_type": "code",
        "outputId": "a54223ce-0b11-43f9-e8b1-2e5c33e879d4",
        "colab": {
          "base_uri": "https://localhost:8080/",
          "height": 1000
        }
      },
      "source": [
        "params['eta'] = .1\n",
        "\n",
        "params\n",
        "model = xgb.train(\n",
        "    params,\n",
        "    dtrain,\n",
        "    num_boost_round=num_boost_round,\n",
        "    evals=[(dtest, \"Test\")],\n",
        "    early_stopping_rounds=10\n",
        ")"
      ],
      "execution_count": 0,
      "outputs": [
        {
          "output_type": "stream",
          "text": [
            "[0]\tTest-mae:17193.9\n",
            "Will train until Test-mae hasn't improved in 10 rounds.\n",
            "[1]\tTest-mae:15668.3\n",
            "[2]\tTest-mae:14209\n",
            "[3]\tTest-mae:12991.3\n",
            "[4]\tTest-mae:11871.7\n",
            "[5]\tTest-mae:10849.9\n",
            "[6]\tTest-mae:10009.2\n",
            "[7]\tTest-mae:9260.16\n",
            "[8]\tTest-mae:8601.42\n",
            "[9]\tTest-mae:8156.58\n",
            "[10]\tTest-mae:7675.69\n",
            "[11]\tTest-mae:7196.31\n",
            "[12]\tTest-mae:6849.96\n",
            "[13]\tTest-mae:6568.17\n",
            "[14]\tTest-mae:6272.77\n",
            "[15]\tTest-mae:6024.44\n",
            "[16]\tTest-mae:5898.29\n",
            "[17]\tTest-mae:5679.76\n",
            "[18]\tTest-mae:5533.21\n",
            "[19]\tTest-mae:5406.59\n",
            "[20]\tTest-mae:5319.58\n",
            "[21]\tTest-mae:5244.07\n",
            "[22]\tTest-mae:5160.96\n",
            "[23]\tTest-mae:5012.21\n",
            "[24]\tTest-mae:4948.41\n",
            "[25]\tTest-mae:4921.35\n",
            "[26]\tTest-mae:4877.17\n",
            "[27]\tTest-mae:4836.84\n",
            "[28]\tTest-mae:4794.97\n",
            "[29]\tTest-mae:4740.98\n",
            "[30]\tTest-mae:4706.19\n",
            "[31]\tTest-mae:4666.43\n",
            "[32]\tTest-mae:4620.82\n",
            "[33]\tTest-mae:4631.18\n",
            "[34]\tTest-mae:4621.69\n",
            "[35]\tTest-mae:4576.93\n",
            "[36]\tTest-mae:4579.21\n",
            "[37]\tTest-mae:4561.58\n",
            "[38]\tTest-mae:4556.53\n",
            "[39]\tTest-mae:4546.26\n",
            "[40]\tTest-mae:4483.44\n",
            "[41]\tTest-mae:4452.63\n",
            "[42]\tTest-mae:4435.76\n",
            "[43]\tTest-mae:4439.3\n",
            "[44]\tTest-mae:4426.39\n",
            "[45]\tTest-mae:4390.83\n",
            "[46]\tTest-mae:4398.48\n",
            "[47]\tTest-mae:4399.93\n",
            "[48]\tTest-mae:4406.69\n",
            "[49]\tTest-mae:4368.41\n",
            "[50]\tTest-mae:4358.17\n",
            "[51]\tTest-mae:4268.31\n",
            "[52]\tTest-mae:4226.58\n",
            "[53]\tTest-mae:4180.54\n",
            "[54]\tTest-mae:4147.99\n",
            "[55]\tTest-mae:4143.49\n",
            "[56]\tTest-mae:4110.17\n",
            "[57]\tTest-mae:4084.16\n",
            "[58]\tTest-mae:4098.16\n",
            "[59]\tTest-mae:4089.82\n",
            "[60]\tTest-mae:4099.77\n",
            "[61]\tTest-mae:4093.04\n",
            "[62]\tTest-mae:4084.23\n",
            "[63]\tTest-mae:4053.65\n",
            "[64]\tTest-mae:4036.08\n",
            "[65]\tTest-mae:4049.76\n",
            "[66]\tTest-mae:4012.52\n",
            "[67]\tTest-mae:4013.35\n",
            "[68]\tTest-mae:4009.09\n",
            "[69]\tTest-mae:4004.47\n",
            "[70]\tTest-mae:3985.45\n",
            "[71]\tTest-mae:3990.78\n",
            "[72]\tTest-mae:3971.33\n",
            "[73]\tTest-mae:3971.77\n",
            "[74]\tTest-mae:3975.31\n",
            "[75]\tTest-mae:3958.34\n",
            "[76]\tTest-mae:3959.05\n",
            "[77]\tTest-mae:3957.95\n",
            "[78]\tTest-mae:3943.78\n",
            "[79]\tTest-mae:3944.79\n",
            "[80]\tTest-mae:3934.97\n",
            "[81]\tTest-mae:3950.84\n",
            "[82]\tTest-mae:3952.73\n",
            "[83]\tTest-mae:3951.4\n",
            "[84]\tTest-mae:3938.57\n",
            "[85]\tTest-mae:3931.71\n",
            "[86]\tTest-mae:3918.81\n",
            "[87]\tTest-mae:3921.7\n",
            "[88]\tTest-mae:3920.63\n",
            "[89]\tTest-mae:3905.75\n",
            "[90]\tTest-mae:3902.29\n",
            "[91]\tTest-mae:3894.19\n",
            "[92]\tTest-mae:3889.92\n",
            "[93]\tTest-mae:3884.76\n",
            "[94]\tTest-mae:3884.73\n",
            "[95]\tTest-mae:3889.08\n",
            "[96]\tTest-mae:3892.27\n",
            "[97]\tTest-mae:3891.83\n",
            "[98]\tTest-mae:3888.14\n",
            "[99]\tTest-mae:3888.81\n",
            "[100]\tTest-mae:3889.77\n",
            "[101]\tTest-mae:3876.3\n",
            "[102]\tTest-mae:3888.15\n",
            "[103]\tTest-mae:3869.79\n",
            "[104]\tTest-mae:3871.84\n",
            "[105]\tTest-mae:3860.55\n",
            "[106]\tTest-mae:3860.8\n",
            "[107]\tTest-mae:3871.44\n",
            "[108]\tTest-mae:3852.79\n",
            "[109]\tTest-mae:3857.41\n",
            "[110]\tTest-mae:3851.33\n",
            "[111]\tTest-mae:3852\n",
            "[112]\tTest-mae:3842.06\n",
            "[113]\tTest-mae:3838.75\n",
            "[114]\tTest-mae:3843.43\n",
            "[115]\tTest-mae:3822.03\n",
            "[116]\tTest-mae:3829.14\n",
            "[117]\tTest-mae:3823.92\n",
            "[118]\tTest-mae:3830.02\n",
            "[119]\tTest-mae:3829\n",
            "[120]\tTest-mae:3827.79\n",
            "[121]\tTest-mae:3825.07\n",
            "[122]\tTest-mae:3818.6\n",
            "[123]\tTest-mae:3820.42\n",
            "[124]\tTest-mae:3827.08\n",
            "[125]\tTest-mae:3816.44\n",
            "[126]\tTest-mae:3805.64\n",
            "[127]\tTest-mae:3798.22\n",
            "[128]\tTest-mae:3796.9\n",
            "[129]\tTest-mae:3788.61\n",
            "[130]\tTest-mae:3786.55\n",
            "[131]\tTest-mae:3785.37\n",
            "[132]\tTest-mae:3786.4\n",
            "[133]\tTest-mae:3784.72\n",
            "[134]\tTest-mae:3789.31\n",
            "[135]\tTest-mae:3779.18\n",
            "[136]\tTest-mae:3767.54\n",
            "[137]\tTest-mae:3767.73\n",
            "[138]\tTest-mae:3766.17\n",
            "[139]\tTest-mae:3770.55\n",
            "[140]\tTest-mae:3766.46\n",
            "[141]\tTest-mae:3753.12\n",
            "[142]\tTest-mae:3760\n",
            "[143]\tTest-mae:3763.24\n",
            "[144]\tTest-mae:3762.53\n",
            "[145]\tTest-mae:3758.97\n",
            "[146]\tTest-mae:3754.18\n",
            "[147]\tTest-mae:3755.07\n",
            "[148]\tTest-mae:3747.24\n",
            "[149]\tTest-mae:3739.59\n",
            "[150]\tTest-mae:3753.89\n",
            "[151]\tTest-mae:3738.04\n",
            "[152]\tTest-mae:3737.42\n",
            "[153]\tTest-mae:3743.03\n",
            "[154]\tTest-mae:3749.01\n",
            "[155]\tTest-mae:3739.44\n",
            "[156]\tTest-mae:3737.93\n",
            "[157]\tTest-mae:3728.18\n",
            "[158]\tTest-mae:3729.05\n",
            "[159]\tTest-mae:3731.33\n",
            "[160]\tTest-mae:3734.9\n",
            "[161]\tTest-mae:3732.54\n",
            "[162]\tTest-mae:3728.26\n",
            "[163]\tTest-mae:3736.32\n",
            "[164]\tTest-mae:3724.89\n",
            "[165]\tTest-mae:3719.77\n",
            "[166]\tTest-mae:3723.86\n",
            "[167]\tTest-mae:3721.42\n",
            "[168]\tTest-mae:3721.05\n",
            "[169]\tTest-mae:3708\n",
            "[170]\tTest-mae:3716.74\n",
            "[171]\tTest-mae:3710.55\n",
            "[172]\tTest-mae:3698.51\n",
            "[173]\tTest-mae:3699.99\n",
            "[174]\tTest-mae:3705.61\n",
            "[175]\tTest-mae:3703.32\n",
            "[176]\tTest-mae:3705.22\n",
            "[177]\tTest-mae:3710.01\n",
            "[178]\tTest-mae:3700.04\n",
            "[179]\tTest-mae:3701.74\n",
            "[180]\tTest-mae:3690.42\n",
            "[181]\tTest-mae:3689.42\n",
            "[182]\tTest-mae:3697.09\n",
            "[183]\tTest-mae:3693.94\n",
            "[184]\tTest-mae:3689.99\n",
            "[185]\tTest-mae:3674.36\n",
            "[186]\tTest-mae:3664.22\n",
            "[187]\tTest-mae:3664.71\n",
            "[188]\tTest-mae:3670.93\n",
            "[189]\tTest-mae:3663.15\n",
            "[190]\tTest-mae:3667.51\n",
            "[191]\tTest-mae:3684.83\n",
            "[192]\tTest-mae:3685.45\n",
            "[193]\tTest-mae:3682.95\n",
            "[194]\tTest-mae:3701.01\n",
            "[195]\tTest-mae:3692.01\n",
            "[196]\tTest-mae:3688.64\n",
            "[197]\tTest-mae:3691.68\n",
            "[198]\tTest-mae:3696.6\n",
            "[199]\tTest-mae:3693.28\n",
            "Stopping. Best iteration:\n",
            "[189]\tTest-mae:3663.15\n",
            "\n"
          ],
          "name": "stdout"
        }
      ]
    },
    {
      "cell_type": "code",
      "metadata": {
        "id": "P_gcce1fOAKC",
        "colab_type": "code",
        "colab": {}
      },
      "source": [
        "num_boost_round = model.best_iteration + 1\n",
        "best_model = xgb.train(\n",
        "    params,\n",
        "    dtrain,\n",
        "    num_boost_round=num_boost_round,\n",
        "    evals=[(dtest, \"Test\")]\n",
        ")"
      ],
      "execution_count": 0,
      "outputs": []
    },
    {
      "cell_type": "code",
      "metadata": {
        "id": "0wCcc6tsOHDZ",
        "colab_type": "code",
        "outputId": "e59475ef-58af-4020-9fb9-4257e4904a7c",
        "colab": {
          "base_uri": "https://localhost:8080/",
          "height": 350
        }
      },
      "source": [
        "y_predicted = best_model.predict(dtest)\n",
        "fig, ax = plt.subplots()\n",
        "ax.scatter(y_test, y_predicted, edgecolors=(0, 0, 0))\n",
        "ax.plot([y_test.min(), y_test.max()], [y_test.min(), y_test.max()], 'k--', lw=4)\n",
        "ax.set_xlabel('Actual')\n",
        "ax.set_ylabel('Predicted')\n",
        "ax.set_title(\"Ground Truth vs Predicted\")\n",
        "plt.show()"
      ],
      "execution_count": 0,
      "outputs": [
        {
          "output_type": "display_data",
          "data": {
            "image/png": "[encoded data removed]",
            "text/plain": [
              "<Figure size 360x360 with 1 Axes>"
            ]
          },
          "metadata": {
            "tags": [],
            "needs_background": "light"
          }
        }
      ]
    },
    {
      "cell_type": "code",
      "metadata": {
        "id": "4b8i9omgPEK2",
        "colab_type": "code",
        "outputId": "853429a3-9e2d-4557-d99b-0cf1c51e52cd",
        "colab": {
          "base_uri": "https://localhost:8080/",
          "height": 621
        }
      },
      "source": [
        "from xgboost import plot_importance\n",
        "\n",
        "ax = plot_importance(model)\n",
        "fig = ax.figure\n",
        "fig.set_size_inches(10,10)\n",
        "pyplot.show()"
      ],
      "execution_count": 0,
      "outputs": [
        {
          "output_type": "display_data",
          "data": {
            "image/png": "[encoded data removed]",
            "text/plain": [
              "<Figure size 720x720 with 1 Axes>"
            ]
          },
          "metadata": {
            "tags": [],
            "needs_background": "light"
          }
        }
      ]
    },
    {
      "cell_type": "code",
      "metadata": {
        "id": "tQFFQvUXRE7D",
        "colab_type": "code",
        "outputId": "4a50f0b8-4566-4b5b-beb8-8bd22adb30d0",
        "colab": {
          "base_uri": "https://localhost:8080/",
          "height": 351
        }
      },
      "source": [
        "X.columns"
      ],
      "execution_count": 0,
      "outputs": [
        {
          "output_type": "execute_result",
          "data": {
            "text/plain": [
              "Index(['Season', 'Wins', 'Losses', 'Season Rolling Average Runs', 'Win_pct',\n",
              "       'PRCP', 'TMAX', 'TMIN', 'temp_avg', 'Team_ATLANTA BRAVES',\n",
              "       'Team_BALTIMORE ORIOLES', 'Team_BOSTON RED SOX', 'Team_CHICAGO CUBS',\n",
              "       'Team_CLEVELAND INDIANS', 'Team_DETROIT TIGERS', 'Team_HOUSTON ASTROS',\n",
              "       'Team_KANSAS CITY ROYALS', 'Team_LOS ANGELES ANGELS',\n",
              "       'Team_LOS ANGELES DODGERS', 'Team_MIAMI MARLINS',\n",
              "       'Team_MILWAUKEE BREWERS', 'Team_MINNESOTA TWINS', 'Team_NEW YORK METS',\n",
              "       'Team_NEW YORK YANKEES', 'Team_NY YANKEES', 'Team_OAKLAND ATHLETICS',\n",
              "       'Team_PHILADELPHIA PHILLIES', 'Team_PITTSBURGH PIRATES',\n",
              "       'Team_RAINED OUT 5/27', 'Team_SAN DIEGO PADRES',\n",
              "       'Team_SEATTLE MARINERS', 'Team_SF GIANTS', 'Team_ST. LOUIS CARDINALS',\n",
              "       'Team_TAMPA BAY RAYS', 'Team_TEXAS RANGERS', 'Team_TORONTO BLUE JAYS',\n",
              "       'Team_WASHINGTON NATIONALS', 'DayName_Friday', 'DayName_Monday',\n",
              "       'DayName_Saturday', 'DayName_Sunday', 'DayName_Thursday',\n",
              "       'DayName_Tuesday', 'DayName_Wednesday', 'MonthName_April',\n",
              "       'MonthName_August', 'MonthName_July', 'MonthName_June', 'MonthName_May',\n",
              "       'MonthName_October', 'MonthName_September', 'Day_Night_day',\n",
              "       'Day_Night_night', 'f4p_y_n_0', 'f4p_y_n_1', 'b_b_y_n_0', 'b_b_y_n_1'],\n",
              "      dtype='object')"
            ]
          },
          "metadata": {
            "tags": []
          },
          "execution_count": 203
        }
      ]
    }
  ]
}